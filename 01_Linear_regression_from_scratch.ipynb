{
  "nbformat": 4,
  "nbformat_minor": 0,
  "metadata": {
    "colab": {
      "name": "01-Linear_regression_from_scratch.ipynb",
      "provenance": [],
      "collapsed_sections": [],
      "include_colab_link": true
    },
    "kernelspec": {
      "name": "python3",
      "display_name": "Python 3"
    }
  },
  "cells": [
    {
      "cell_type": "markdown",
      "metadata": {
        "id": "view-in-github",
        "colab_type": "text"
      },
      "source": [
        "<a href=\"https://colab.research.google.com/github/caroheymes/Descente-de-gradients/blob/main/01_Linear_regression_from_scratch.ipynb\" target=\"_parent\"><img src=\"https://colab.research.google.com/assets/colab-badge.svg\" alt=\"Open In Colab\"/></a>"
      ]
    },
    {
      "cell_type": "markdown",
      "metadata": {
        "id": "OAW27oqRGbOp"
      },
      "source": [
        "# Doing a Linear regression without Scikit Learn"
      ]
    },
    {
      "cell_type": "markdown",
      "metadata": {
        "id": "dYaJBHGNGk3O"
      },
      "source": [
        "There's nothing better to understand the gradient descent algorithm than to code it from scratch. It may seem difficult at first glance but don't worry, we will guide you step by step. It is also a fantastic occasion to practice python key concepts like **Classes**!\n",
        "\n",
        "Don't hesitate to come back to your Machine Learning course on linear regression to refresh your memory. \n",
        "\n",
        "Our goal will be to code a simple linear regression such as : \n",
        "\n",
        "$f(x) = \\beta_1 \\times x + \\beta_0$"
      ]
    },
    {
      "cell_type": "markdown",
      "metadata": {
        "id": "dFAeKaG2GuI_"
      },
      "source": [
        "* Import the following libraries: \n",
        "  * Numpy "
      ]
    },
    {
      "cell_type": "code",
      "metadata": {
        "colab": {
          "base_uri": "https://localhost:8080/"
        },
        "id": "8amdda-Fqj-1",
        "outputId": "7a4d246b-4a0f-4e4a-8b63-f91729bedc9f"
      },
      "source": [
        "import os\n",
        "from google.colab import drive\n",
        "drive.mount('/content/drive', force_remount = True)\n"
      ],
      "execution_count": 1,
      "outputs": [
        {
          "output_type": "stream",
          "name": "stdout",
          "text": [
            "Mounted at /content/drive\n"
          ]
        }
      ]
    },
    {
      "cell_type": "code",
      "metadata": {
        "id": "9OHkKal3F3Su"
      },
      "source": [
        "import numpy as np "
      ],
      "execution_count": 2,
      "outputs": []
    },
    {
      "cell_type": "markdown",
      "metadata": {
        "id": "7_za_8SvGz_j"
      },
      "source": [
        "* Define a `Model` class that will take two methods: \n",
        "  1. `__init__(self)`, the class builder which will allow you to define an attribute $\\beta_0$ (`beta_0` in your code) and an attribute $\\beta_1$ (`beta_1` in your code). These attributes represent the coefficients/parameters of the model an we will be initialize them randomly using Numpy (cf: `np.random.randn`).\n",
        "  2. `__call__(self, x)`, a special method that will turn our class into a callable which will return $\\beta_1 \\times x + \\beta_0$ when called."
      ]
    },
    {
      "cell_type": "code",
      "metadata": {
        "id": "9yj54VrvGzZL"
      },
      "source": [
        "class Model():\n",
        "  def __init__(self):\n",
        "    self.beta_1 = np.random.randn(1)\n",
        "    self.beta_0 = np.random.randn(1)\n",
        "  def __call__(self, x):\n",
        "    return self.beta_1 * x + self.beta_0"
      ],
      "execution_count": 3,
      "outputs": []
    },
    {
      "cell_type": "markdown",
      "metadata": {
        "id": "Uy2AancAImU6"
      },
      "source": [
        "* Create an instance of your class `Model`"
      ]
    },
    {
      "cell_type": "code",
      "metadata": {
        "id": "BD_hpDRnIhAi"
      },
      "source": [
        "model = Model()"
      ],
      "execution_count": 4,
      "outputs": []
    },
    {
      "cell_type": "code",
      "metadata": {
        "id": "xl7o5kfOMVH5",
        "colab": {
          "base_uri": "https://localhost:8080/"
        },
        "outputId": "5d5e9f4a-c093-43f2-f87e-515132144557"
      },
      "source": [
        "model.beta_0"
      ],
      "execution_count": 5,
      "outputs": [
        {
          "output_type": "execute_result",
          "data": {
            "text/plain": [
              "array([-1.42791566])"
            ]
          },
          "metadata": {},
          "execution_count": 5
        }
      ]
    },
    {
      "cell_type": "code",
      "metadata": {
        "id": "b3dopHflMifZ",
        "colab": {
          "base_uri": "https://localhost:8080/"
        },
        "outputId": "11c9812e-cfdc-4894-e070-dd5bc8dd1dbc"
      },
      "source": [
        "model.beta_1"
      ],
      "execution_count": 6,
      "outputs": [
        {
          "output_type": "execute_result",
          "data": {
            "text/plain": [
              "array([0.23519031])"
            ]
          },
          "metadata": {},
          "execution_count": 6
        }
      ]
    },
    {
      "cell_type": "markdown",
      "metadata": {
        "id": "vkltTi5mIsUz"
      },
      "source": [
        "* Try doing a first \"regression\" by running `model(3.0)`. \n",
        "NB: If you don't have the same values as this notebook in output, this is normal since you have initialized your values randomly. "
      ]
    },
    {
      "cell_type": "code",
      "metadata": {
        "id": "K6TRkRHHIpj6",
        "colab": {
          "base_uri": "https://localhost:8080/"
        },
        "outputId": "515d8d52-2e83-4f1f-fd92-1edd97d67ab6"
      },
      "source": [
        "model(3)"
      ],
      "execution_count": 7,
      "outputs": [
        {
          "output_type": "execute_result",
          "data": {
            "text/plain": [
              "array([-0.72234473])"
            ]
          },
          "metadata": {},
          "execution_count": 7
        }
      ]
    },
    {
      "cell_type": "markdown",
      "metadata": {
        "id": "WM4sjYAMI8SU"
      },
      "source": [
        "* This value corresponds to a random prediction of your model. But we don't have any data yet. This time, let's use `sklearn` to import data. \n",
        "  * Import `sklearn.datasets`\n",
        "  * Use the `load_diabetes()` function to load the diebetes dataset in an object called `diabetes`.\n",
        "  * Print the `DESCR` attribute of the diabetes object\n",
        "  * Save the content of the `data` attribute in an object named `diabetes_data`\n",
        "  * Save the content of the `target` attribute in an object named `y`"
      ]
    },
    {
      "cell_type": "code",
      "metadata": {
        "id": "rj_mu6DQYrGM"
      },
      "source": [
        "import sklearn.datasets\n",
        "diabetes = sklearn.datasets.load_diabetes()"
      ],
      "execution_count": 8,
      "outputs": []
    },
    {
      "cell_type": "code",
      "metadata": {
        "colab": {
          "base_uri": "https://localhost:8080/"
        },
        "id": "jNWuYvYtY80_",
        "outputId": "15792202-76f4-430e-ca37-4ccfd5c25718"
      },
      "source": [
        "print(diabetes.DESCR)"
      ],
      "execution_count": 9,
      "outputs": [
        {
          "output_type": "stream",
          "name": "stdout",
          "text": [
            ".. _diabetes_dataset:\n",
            "\n",
            "Diabetes dataset\n",
            "----------------\n",
            "\n",
            "Ten baseline variables, age, sex, body mass index, average blood\n",
            "pressure, and six blood serum measurements were obtained for each of n =\n",
            "442 diabetes patients, as well as the response of interest, a\n",
            "quantitative measure of disease progression one year after baseline.\n",
            "\n",
            "**Data Set Characteristics:**\n",
            "\n",
            "  :Number of Instances: 442\n",
            "\n",
            "  :Number of Attributes: First 10 columns are numeric predictive values\n",
            "\n",
            "  :Target: Column 11 is a quantitative measure of disease progression one year after baseline\n",
            "\n",
            "  :Attribute Information:\n",
            "      - Age\n",
            "      - Sex\n",
            "      - Body mass index\n",
            "      - Average blood pressure\n",
            "      - S1\n",
            "      - S2\n",
            "      - S3\n",
            "      - S4\n",
            "      - S5\n",
            "      - S6\n",
            "\n",
            "Note: Each of these 10 feature variables have been mean centered and scaled by the standard deviation times `n_samples` (i.e. the sum of squares of each column totals 1).\n",
            "\n",
            "Source URL:\n",
            "https://www4.stat.ncsu.edu/~boos/var.select/diabetes.html\n",
            "\n",
            "For more information see:\n",
            "Bradley Efron, Trevor Hastie, Iain Johnstone and Robert Tibshirani (2004) \"Least Angle Regression,\" Annals of Statistics (with discussion), 407-499.\n",
            "(https://web.stanford.edu/~hastie/Papers/LARS/LeastAngle_2002.pdf)\n"
          ]
        }
      ]
    },
    {
      "cell_type": "markdown",
      "metadata": {
        "id": "LJM9AOYjJ5z3"
      },
      "source": [
        "* We have too much data in this dataset `diabetes_data`, take only the third column of the dataset and store it in a `diabetes_X` variable."
      ]
    },
    {
      "cell_type": "code",
      "metadata": {
        "id": "ZOGnVgMwZqog"
      },
      "source": [
        "diabetes_X = diabetes.data[:,2]\n"
      ],
      "execution_count": 10,
      "outputs": []
    },
    {
      "cell_type": "code",
      "metadata": {
        "id": "yDg5Ykm4J06E"
      },
      "source": [
        "y = diabetes.target\n"
      ],
      "execution_count": 12,
      "outputs": []
    },
    {
      "cell_type": "markdown",
      "metadata": {
        "id": "S4goQEJvKsS8"
      },
      "source": [
        "* Visualize your data using `plotly`."
      ]
    },
    {
      "cell_type": "code",
      "metadata": {
        "colab": {
          "base_uri": "https://localhost:8080/",
          "height": 542
        },
        "id": "P-pd0h9mcUuS",
        "outputId": "e2ad5292-cc7c-465e-c9c3-5d39be07777f"
      },
      "source": [
        "import plotly.express as px\n",
        "from IPython.display import HTML, Image\n",
        "import plotly.graph_objects as go\n",
        "import plotly.io as pio\n",
        "pio.renderers.default ='colab'\n",
        "fig = px.scatter(x=diabetes_X, y=y, title= 'scatter plot of BMI against diabetes metric')\n",
        "fig.show()"
      ],
      "execution_count": 13,
      "outputs": [
        {
          "output_type": "display_data",
          "data": {
            "text/html": [
              "<html>\n",
              "<head><meta charset=\"utf-8\" /></head>\n",
              "<body>\n",
              "    <div>\n",
              "            <script src=\"https://cdnjs.cloudflare.com/ajax/libs/mathjax/2.7.5/MathJax.js?config=TeX-AMS-MML_SVG\"></script><script type=\"text/javascript\">if (window.MathJax) {MathJax.Hub.Config({SVG: {font: \"STIX-Web\"}});}</script>\n",
              "                <script type=\"text/javascript\">window.PlotlyConfig = {MathJaxConfig: 'local'};</script>\n",
              "        <script src=\"https://cdn.plot.ly/plotly-latest.min.js\"></script>    \n",
              "            <div id=\"0f42d51b-33ab-4583-92d0-04d98d8510bd\" class=\"plotly-graph-div\" style=\"height:525px; width:100%;\"></div>\n",
              "            <script type=\"text/javascript\">\n",
              "                \n",
              "                    window.PLOTLYENV=window.PLOTLYENV || {};\n",
              "                    \n",
              "                if (document.getElementById(\"0f42d51b-33ab-4583-92d0-04d98d8510bd\")) {\n",
              "                    Plotly.newPlot(\n",
              "                        '0f42d51b-33ab-4583-92d0-04d98d8510bd',\n",
              "                        [{\"hoverlabel\": {\"namelength\": 0}, \"hovertemplate\": \"x=%{x}<br>y=%{y}\", \"legendgroup\": \"\", \"marker\": {\"color\": \"#636efa\", \"symbol\": \"circle\"}, \"mode\": \"markers\", \"name\": \"\", \"showlegend\": false, \"type\": \"scatter\", \"x\": [0.0616962065186885, -0.0514740612388061, 0.0444512133365941, -0.0115950145052127, -0.0363846922044735, -0.0406959404999971, -0.0471628129432825, -0.00189470584028465, 0.0616962065186885, 0.0390621529671896, -0.0838084234552331, 0.0175059114895716, -0.0288400076873072, -0.00189470584028465, -0.0256065714656645, -0.0180618869484982, 0.0422955891888323, 0.0121168511201671, -0.0105172024313319, -0.0180618869484982, -0.0568631216082106, -0.0223731352440218, -0.00405032998804645, 0.0606183944448076, 0.0358287167455469, -0.0126728265790937, -0.0773415510119477, 0.0595405823709267, -0.0212953231701409, -0.00620595413580824, 0.0444512133365941, -0.0654856181992578, 0.125287118877662, -0.0503962491649252, -0.063329994051496, -0.030995631835069, 0.0228949718589761, 0.0110390390462862, 0.0713965151836166, 0.0142724752679289, -0.00836157828357004, -0.0676412423470196, -0.0105172024313319, -0.0234509473179027, 0.068163078961974, -0.0353068801305926, -0.0115950145052127, -0.0730303027164241, -0.041773752573878, 0.0142724752679289, -0.00728376620968916, 0.0164280994156907, -0.00943939035745095, -0.0159062628007364, 0.0250505960067379, -0.0493184370910443, 0.0412177771149514, -0.063329994051496, -0.064407806125377, -0.0256065714656645, -0.00405032998804645, 0.00457216660300077, -0.00728376620968916, -0.0374625042783544, -0.0256065714656645, -0.0245287593917836, -0.0180618869484982, -0.0148284507268555, -0.0299178197611881, -0.0460850008694016, -0.0697968664947814, 0.0336730925977851, -0.00405032998804645, -0.02021751109626, 0.00241654245523897, -0.030995631835069, 0.0282840322283806, -0.0363846922044735, -0.0579409336820915, -0.0374625042783544, 0.0121168511201671, -0.0223731352440218, -0.0353068801305926, 0.00996122697240527, -0.0396181284261162, 0.0713965151836166, -0.0751859268641859, -0.00620595413580824, -0.0406959404999971, -0.0482406250171634, -0.0256065714656645, 0.0519958978537604, 0.00457216660300077, -0.064407806125377, -0.0169840748746173, -0.0579409336820915, 0.00996122697240527, 0.088641508365711, -0.00512814206192736, -0.064407806125377, 0.0175059114895716, -0.0450071887955207, 0.0282840322283806, 0.0412177771149514, 0.0649296427403312, -0.0320734439089499, -0.0762637389380668, 0.0498402737059986, 0.045529025410475, -0.00943939035745095, -0.0320734439089499, 0.00457216660300077, 0.0207393477112143, 0.0142724752679289, 0.110197749843329, 0.00133873038135806, 0.0584627702970458, -0.0212953231701409, -0.0105172024313319, -0.0471628129432825, 0.00457216660300077, 0.0175059114895716, 0.0810968238485447, 0.034750904671666, 0.023972783932857, -0.00836157828357004, -0.0611743699037342, -0.00189470584028465, -0.0622521819776151, 0.0164280994156907, 0.0961861928828773, -0.0697968664947814, -0.0212953231701409, -0.0536296853865679, 0.0433734012627132, 0.056307146149284, -0.0816527993074713, 0.0498402737059986, 0.11127556191721, 0.0616962065186885, 0.0142724752679289, 0.0476846495582368, 0.0121168511201671, 0.00564997867688165, 0.0466068374843559, 0.128520555099304, 0.0595405823709267, 0.0929527566612346, 0.0153502873418098, -0.00512814206192736, 0.0703187031097357, -0.00405032998804645, -0.000816893766403737, -0.0439293767216398, 0.0207393477112143, 0.0606183944448076, -0.0105172024313319, -0.0331512559828308, -0.0654856181992578, 0.0433734012627132, -0.0622521819776151, 0.0638518306664503, 0.0304396563761424, 0.0724743272574975, -0.019139699022379, -0.0665634302731387, -0.0600965578298533, 0.0692408910358548, 0.0595405823709267, -0.0266843835395454, -0.02021751109626, -0.0460850008694016, 0.0713965151836166, -0.0794971751597095, 0.00996122697240527, -0.0385403163522353, 0.0196615356373334, 0.0272062201544997, -0.00836157828357004, -0.0159062628007364, 0.00457216660300077, -0.0428515646477589, 0.00564997867688165, -0.0353068801305926, 0.023972783932857, -0.0180618869484982, 0.0422955891888323, -0.0547074974604488, -0.00297251791416553, -0.0665634302731387, -0.0126728265790937, -0.041773752573878, -0.030995631835069, -0.00512814206192736, -0.0590187457559724, 0.0250505960067379, -0.0460850008694016, 0.00349435452911985, 0.0541515220015222, -0.0450071887955207, -0.0579409336820915, -0.0557853095343297, 0.00133873038135806, 0.0304396563761424, 0.00672779075076256, 0.0466068374843559, 0.0261284080806188, 0.045529025410475, 0.0401399650410705, -0.0180618869484982, 0.0142724752679289, 0.0369065288194278, 0.00349435452911985, -0.0708746785686623, -0.0331512559828308, 0.0940305687351156, 0.0358287167455469, 0.0315174684500233, -0.0654856181992578, -0.041773752573878, -0.0396181284261162, -0.0385403163522353, -0.0256065714656645, -0.0234509473179027, -0.0665634302731387, 0.0325952805239042, -0.0460850008694016, -0.0299178197611881, -0.0126728265790937, -0.0159062628007364, 0.0713965151836166, -0.030995631835069, 0.000260918307477141, 0.0369065288194278, 0.0390621529671896, -0.0148284507268555, 0.00672779075076256, -0.0687190544209005, -0.00943939035745095, 0.0196615356373334, 0.0746299514052593, -0.00836157828357004, -0.0234509473179027, -0.0460850008694016, 0.0541515220015222, -0.0353068801305926, -0.0320734439089499, -0.0816527993074713, 0.0476846495582368, 0.0606183944448076, 0.056307146149284, 0.098341817030639, 0.0595405823709267, 0.0336730925977851, 0.056307146149284, -0.0654856181992578, 0.160854917315731, -0.0557853095343297, -0.0245287593917836, -0.0363846922044735, -0.00836157828357004, -0.041773752573878, 0.127442743025423, -0.0773415510119477, 0.0282840322283806, -0.0256065714656645, -0.0622521819776151, -0.000816893766403737, 0.088641508365711, -0.0320734439089499, 0.0304396563761424, 0.00888341489852436, 0.00672779075076256, -0.02021751109626, -0.0245287593917836, -0.0115950145052127, 0.0261284080806188, -0.0590187457559724, -0.0363846922044735, -0.0245287593917836, 0.0185837235634525, -0.0902752958985185, -0.00512814206192736, -0.052551873312687, -0.0223731352440218, -0.02021751109626, -0.0547074974604488, -0.00620595413580824, -0.0169840748746173, 0.0552293340754031, 0.0767855755530211, 0.0185837235634525, -0.0223731352440218, 0.0929527566612346, -0.030995631835069, 0.0390621529671896, -0.0611743699037342, -0.00836157828357004, -0.0374625042783544, -0.0137506386529745, 0.0735521393313785, -0.0245287593917836, 0.0336730925977851, 0.034750904671666, -0.0385403163522353, -0.0396181284261162, -0.00189470584028465, -0.030995631835069, -0.0460850008694016, 0.00133873038135806, 0.0649296427403312, 0.0401399650410705, -0.0234509473179027, 0.0530737099276413, 0.0401399650410705, -0.02021751109626, 0.0142724752679289, -0.0342290680567117, 0.00672779075076256, 0.00457216660300077, 0.0304396563761424, 0.0519958978537604, 0.0616962065186885, -0.00728376620968916, 0.00564997867688165, 0.0541515220015222, -0.00836157828357004, 0.114508998138853, 0.067085266888093, -0.0557853095343297, 0.0304396563761424, -0.0256065714656645, 0.104808689473925, -0.00620595413580824, -0.0471628129432825, -0.0482406250171634, 0.0854080721440683, -0.0126728265790937, -0.0331512559828308, -0.00728376620968916, -0.0137506386529745, 0.0595405823709267, 0.0218171597850952, 0.0185837235634525, -0.0115950145052127, -0.00297251791416553, 0.0175059114895716, -0.0299178197611881, -0.02021751109626, -0.0579409336820915, 0.0606183944448076, -0.0406959404999971, -0.0719524906425432, -0.0557853095343297, 0.045529025410475, -0.00943939035745095, -0.0331512559828308, 0.0498402737059986, -0.084886235529114, 0.00564997867688165, 0.0207393477112143, -0.00728376620968916, 0.104808689473925, -0.0245287593917836, -0.00620595413580824, -0.0385403163522353, 0.137143051690352, 0.17055522598066, 0.00241654245523897, 0.0379843408933087, -0.0579409336820915, -0.00943939035745095, -0.0234509473179027, -0.0105172024313319, -0.0342290680567117, -0.00297251791416553, 0.068163078961974, 0.00996122697240527, 0.00241654245523897, -0.0385403163522353, 0.0261284080806188, -0.0891974838246376, 0.0606183944448076, -0.0288400076873072, -0.0299178197611881, -0.019139699022379, -0.0406959404999971, 0.0153502873418098, -0.0245287593917836, 0.00133873038135806, 0.0692408910358548, -0.0697968664947814, -0.0299178197611881, -0.0460850008694016, 0.0185837235634525, 0.00133873038135806, -0.030995631835069, -0.00405032998804645, 0.0153502873418098, 0.0228949718589761, 0.045529025410475, -0.0450071887955207, -0.0331512559828308, 0.0972640049567582, 0.0541515220015222, 0.1231314947299, -0.0805749872335904, 0.0929527566612346, -0.0503962491649252, -0.0115950145052127, -0.0277621956134263, 0.0584627702970458, 0.0854080721440683, -0.000816893766403737, 0.00672779075076256, 0.00888341489852436, 0.0800190117746638, 0.0713965151836166, -0.0245287593917836, -0.0547074974604488, -0.0363846922044735, 0.0164280994156907, 0.077863387626902, -0.0396181284261162, 0.0110390390462862, -0.0406959404999971, -0.0342290680567117, 0.00564997867688165, 0.088641508365711, -0.0331512559828308, -0.0568631216082106, -0.030995631835069, 0.0552293340754031, -0.0600965578298533, 0.00133873038135806, -0.0234509473179027, -0.074108114790305, 0.0196615356373334, -0.0159062628007364, -0.0159062628007364, 0.0390621529671896, -0.0730303027164241], \"xaxis\": \"x\", \"y\": [151.0, 75.0, 141.0, 206.0, 135.0, 97.0, 138.0, 63.0, 110.0, 310.0, 101.0, 69.0, 179.0, 185.0, 118.0, 171.0, 166.0, 144.0, 97.0, 168.0, 68.0, 49.0, 68.0, 245.0, 184.0, 202.0, 137.0, 85.0, 131.0, 283.0, 129.0, 59.0, 341.0, 87.0, 65.0, 102.0, 265.0, 276.0, 252.0, 90.0, 100.0, 55.0, 61.0, 92.0, 259.0, 53.0, 190.0, 142.0, 75.0, 142.0, 155.0, 225.0, 59.0, 104.0, 182.0, 128.0, 52.0, 37.0, 170.0, 170.0, 61.0, 144.0, 52.0, 128.0, 71.0, 163.0, 150.0, 97.0, 160.0, 178.0, 48.0, 270.0, 202.0, 111.0, 85.0, 42.0, 170.0, 200.0, 252.0, 113.0, 143.0, 51.0, 52.0, 210.0, 65.0, 141.0, 55.0, 134.0, 42.0, 111.0, 98.0, 164.0, 48.0, 96.0, 90.0, 162.0, 150.0, 279.0, 92.0, 83.0, 128.0, 102.0, 302.0, 198.0, 95.0, 53.0, 134.0, 144.0, 232.0, 81.0, 104.0, 59.0, 246.0, 297.0, 258.0, 229.0, 275.0, 281.0, 179.0, 200.0, 200.0, 173.0, 180.0, 84.0, 121.0, 161.0, 99.0, 109.0, 115.0, 268.0, 274.0, 158.0, 107.0, 83.0, 103.0, 272.0, 85.0, 280.0, 336.0, 281.0, 118.0, 317.0, 235.0, 60.0, 174.0, 259.0, 178.0, 128.0, 96.0, 126.0, 288.0, 88.0, 292.0, 71.0, 197.0, 186.0, 25.0, 84.0, 96.0, 195.0, 53.0, 217.0, 172.0, 131.0, 214.0, 59.0, 70.0, 220.0, 268.0, 152.0, 47.0, 74.0, 295.0, 101.0, 151.0, 127.0, 237.0, 225.0, 81.0, 151.0, 107.0, 64.0, 138.0, 185.0, 265.0, 101.0, 137.0, 143.0, 141.0, 79.0, 292.0, 178.0, 91.0, 116.0, 86.0, 122.0, 72.0, 129.0, 142.0, 90.0, 158.0, 39.0, 196.0, 222.0, 277.0, 99.0, 196.0, 202.0, 155.0, 77.0, 191.0, 70.0, 73.0, 49.0, 65.0, 263.0, 248.0, 296.0, 214.0, 185.0, 78.0, 93.0, 252.0, 150.0, 77.0, 208.0, 77.0, 108.0, 160.0, 53.0, 220.0, 154.0, 259.0, 90.0, 246.0, 124.0, 67.0, 72.0, 257.0, 262.0, 275.0, 177.0, 71.0, 47.0, 187.0, 125.0, 78.0, 51.0, 258.0, 215.0, 303.0, 243.0, 91.0, 150.0, 310.0, 153.0, 346.0, 63.0, 89.0, 50.0, 39.0, 103.0, 308.0, 116.0, 145.0, 74.0, 45.0, 115.0, 264.0, 87.0, 202.0, 127.0, 182.0, 241.0, 66.0, 94.0, 283.0, 64.0, 102.0, 200.0, 265.0, 94.0, 230.0, 181.0, 156.0, 233.0, 60.0, 219.0, 80.0, 68.0, 332.0, 248.0, 84.0, 200.0, 55.0, 85.0, 89.0, 31.0, 129.0, 83.0, 275.0, 65.0, 198.0, 236.0, 253.0, 124.0, 44.0, 172.0, 114.0, 142.0, 109.0, 180.0, 144.0, 163.0, 147.0, 97.0, 220.0, 190.0, 109.0, 191.0, 122.0, 230.0, 242.0, 248.0, 249.0, 192.0, 131.0, 237.0, 78.0, 135.0, 244.0, 199.0, 270.0, 164.0, 72.0, 96.0, 306.0, 91.0, 214.0, 95.0, 216.0, 263.0, 178.0, 113.0, 200.0, 139.0, 139.0, 88.0, 148.0, 88.0, 243.0, 71.0, 77.0, 109.0, 272.0, 60.0, 54.0, 221.0, 90.0, 311.0, 281.0, 182.0, 321.0, 58.0, 262.0, 206.0, 233.0, 242.0, 123.0, 167.0, 63.0, 197.0, 71.0, 168.0, 140.0, 217.0, 121.0, 235.0, 245.0, 40.0, 52.0, 104.0, 132.0, 88.0, 69.0, 219.0, 72.0, 201.0, 110.0, 51.0, 277.0, 63.0, 118.0, 69.0, 273.0, 258.0, 43.0, 198.0, 242.0, 232.0, 175.0, 93.0, 168.0, 275.0, 293.0, 281.0, 72.0, 140.0, 189.0, 181.0, 209.0, 136.0, 261.0, 113.0, 131.0, 174.0, 257.0, 55.0, 84.0, 42.0, 146.0, 212.0, 233.0, 91.0, 111.0, 152.0, 120.0, 67.0, 310.0, 94.0, 183.0, 66.0, 173.0, 72.0, 49.0, 64.0, 48.0, 178.0, 104.0, 132.0, 220.0, 57.0], \"yaxis\": \"y\"}],\n",
              "                        {\"legend\": {\"tracegroupgap\": 0}, \"template\": {\"data\": {\"bar\": [{\"error_x\": {\"color\": \"#2a3f5f\"}, \"error_y\": {\"color\": \"#2a3f5f\"}, \"marker\": {\"line\": {\"color\": \"#E5ECF6\", \"width\": 0.5}}, \"type\": \"bar\"}], \"barpolar\": [{\"marker\": {\"line\": {\"color\": \"#E5ECF6\", \"width\": 0.5}}, \"type\": \"barpolar\"}], \"carpet\": [{\"aaxis\": {\"endlinecolor\": \"#2a3f5f\", \"gridcolor\": \"white\", \"linecolor\": \"white\", \"minorgridcolor\": \"white\", \"startlinecolor\": \"#2a3f5f\"}, \"baxis\": {\"endlinecolor\": \"#2a3f5f\", \"gridcolor\": \"white\", \"linecolor\": \"white\", \"minorgridcolor\": \"white\", \"startlinecolor\": \"#2a3f5f\"}, \"type\": \"carpet\"}], \"choropleth\": [{\"colorbar\": {\"outlinewidth\": 0, \"ticks\": \"\"}, \"type\": \"choropleth\"}], \"contour\": [{\"colorbar\": {\"outlinewidth\": 0, \"ticks\": \"\"}, \"colorscale\": [[0.0, \"#0d0887\"], [0.1111111111111111, \"#46039f\"], [0.2222222222222222, \"#7201a8\"], [0.3333333333333333, \"#9c179e\"], [0.4444444444444444, \"#bd3786\"], [0.5555555555555556, \"#d8576b\"], [0.6666666666666666, \"#ed7953\"], [0.7777777777777778, \"#fb9f3a\"], [0.8888888888888888, \"#fdca26\"], [1.0, \"#f0f921\"]], \"type\": \"contour\"}], \"contourcarpet\": [{\"colorbar\": {\"outlinewidth\": 0, \"ticks\": \"\"}, \"type\": \"contourcarpet\"}], \"heatmap\": [{\"colorbar\": {\"outlinewidth\": 0, \"ticks\": \"\"}, \"colorscale\": [[0.0, \"#0d0887\"], [0.1111111111111111, \"#46039f\"], [0.2222222222222222, \"#7201a8\"], [0.3333333333333333, \"#9c179e\"], [0.4444444444444444, \"#bd3786\"], [0.5555555555555556, \"#d8576b\"], [0.6666666666666666, \"#ed7953\"], [0.7777777777777778, \"#fb9f3a\"], [0.8888888888888888, \"#fdca26\"], [1.0, \"#f0f921\"]], \"type\": \"heatmap\"}], \"heatmapgl\": [{\"colorbar\": {\"outlinewidth\": 0, \"ticks\": \"\"}, \"colorscale\": [[0.0, \"#0d0887\"], [0.1111111111111111, \"#46039f\"], [0.2222222222222222, \"#7201a8\"], [0.3333333333333333, \"#9c179e\"], [0.4444444444444444, \"#bd3786\"], [0.5555555555555556, \"#d8576b\"], [0.6666666666666666, \"#ed7953\"], [0.7777777777777778, \"#fb9f3a\"], [0.8888888888888888, \"#fdca26\"], [1.0, \"#f0f921\"]], \"type\": \"heatmapgl\"}], \"histogram\": [{\"marker\": {\"colorbar\": {\"outlinewidth\": 0, \"ticks\": \"\"}}, \"type\": \"histogram\"}], \"histogram2d\": [{\"colorbar\": {\"outlinewidth\": 0, \"ticks\": \"\"}, \"colorscale\": [[0.0, \"#0d0887\"], [0.1111111111111111, \"#46039f\"], [0.2222222222222222, \"#7201a8\"], [0.3333333333333333, \"#9c179e\"], [0.4444444444444444, \"#bd3786\"], [0.5555555555555556, \"#d8576b\"], [0.6666666666666666, \"#ed7953\"], [0.7777777777777778, \"#fb9f3a\"], [0.8888888888888888, \"#fdca26\"], [1.0, \"#f0f921\"]], \"type\": \"histogram2d\"}], \"histogram2dcontour\": [{\"colorbar\": {\"outlinewidth\": 0, \"ticks\": \"\"}, \"colorscale\": [[0.0, \"#0d0887\"], [0.1111111111111111, \"#46039f\"], [0.2222222222222222, \"#7201a8\"], [0.3333333333333333, \"#9c179e\"], [0.4444444444444444, \"#bd3786\"], [0.5555555555555556, \"#d8576b\"], [0.6666666666666666, \"#ed7953\"], [0.7777777777777778, \"#fb9f3a\"], [0.8888888888888888, \"#fdca26\"], [1.0, \"#f0f921\"]], \"type\": \"histogram2dcontour\"}], \"mesh3d\": [{\"colorbar\": {\"outlinewidth\": 0, \"ticks\": \"\"}, \"type\": \"mesh3d\"}], \"parcoords\": [{\"line\": {\"colorbar\": {\"outlinewidth\": 0, \"ticks\": \"\"}}, \"type\": \"parcoords\"}], \"pie\": [{\"automargin\": true, \"type\": \"pie\"}], \"scatter\": [{\"marker\": {\"colorbar\": {\"outlinewidth\": 0, \"ticks\": \"\"}}, \"type\": \"scatter\"}], \"scatter3d\": [{\"line\": {\"colorbar\": {\"outlinewidth\": 0, \"ticks\": \"\"}}, \"marker\": {\"colorbar\": {\"outlinewidth\": 0, \"ticks\": \"\"}}, \"type\": \"scatter3d\"}], \"scattercarpet\": [{\"marker\": {\"colorbar\": {\"outlinewidth\": 0, \"ticks\": \"\"}}, \"type\": \"scattercarpet\"}], \"scattergeo\": [{\"marker\": {\"colorbar\": {\"outlinewidth\": 0, \"ticks\": \"\"}}, \"type\": \"scattergeo\"}], \"scattergl\": [{\"marker\": {\"colorbar\": {\"outlinewidth\": 0, \"ticks\": \"\"}}, \"type\": \"scattergl\"}], \"scattermapbox\": [{\"marker\": {\"colorbar\": {\"outlinewidth\": 0, \"ticks\": \"\"}}, \"type\": \"scattermapbox\"}], \"scatterpolar\": [{\"marker\": {\"colorbar\": {\"outlinewidth\": 0, \"ticks\": \"\"}}, \"type\": \"scatterpolar\"}], \"scatterpolargl\": [{\"marker\": {\"colorbar\": {\"outlinewidth\": 0, \"ticks\": \"\"}}, \"type\": \"scatterpolargl\"}], \"scatterternary\": [{\"marker\": {\"colorbar\": {\"outlinewidth\": 0, \"ticks\": \"\"}}, \"type\": \"scatterternary\"}], \"surface\": [{\"colorbar\": {\"outlinewidth\": 0, \"ticks\": \"\"}, \"colorscale\": [[0.0, \"#0d0887\"], [0.1111111111111111, \"#46039f\"], [0.2222222222222222, \"#7201a8\"], [0.3333333333333333, \"#9c179e\"], [0.4444444444444444, \"#bd3786\"], [0.5555555555555556, \"#d8576b\"], [0.6666666666666666, \"#ed7953\"], [0.7777777777777778, \"#fb9f3a\"], [0.8888888888888888, \"#fdca26\"], [1.0, \"#f0f921\"]], \"type\": \"surface\"}], \"table\": [{\"cells\": {\"fill\": {\"color\": \"#EBF0F8\"}, \"line\": {\"color\": \"white\"}}, \"header\": {\"fill\": {\"color\": \"#C8D4E3\"}, \"line\": {\"color\": \"white\"}}, \"type\": \"table\"}]}, \"layout\": {\"annotationdefaults\": {\"arrowcolor\": \"#2a3f5f\", \"arrowhead\": 0, \"arrowwidth\": 1}, \"coloraxis\": {\"colorbar\": {\"outlinewidth\": 0, \"ticks\": \"\"}}, \"colorscale\": {\"diverging\": [[0, \"#8e0152\"], [0.1, \"#c51b7d\"], [0.2, \"#de77ae\"], [0.3, \"#f1b6da\"], [0.4, \"#fde0ef\"], [0.5, \"#f7f7f7\"], [0.6, \"#e6f5d0\"], [0.7, \"#b8e186\"], [0.8, \"#7fbc41\"], [0.9, \"#4d9221\"], [1, \"#276419\"]], \"sequential\": [[0.0, \"#0d0887\"], [0.1111111111111111, \"#46039f\"], [0.2222222222222222, \"#7201a8\"], [0.3333333333333333, \"#9c179e\"], [0.4444444444444444, \"#bd3786\"], [0.5555555555555556, \"#d8576b\"], [0.6666666666666666, \"#ed7953\"], [0.7777777777777778, \"#fb9f3a\"], [0.8888888888888888, \"#fdca26\"], [1.0, \"#f0f921\"]], \"sequentialminus\": [[0.0, \"#0d0887\"], [0.1111111111111111, \"#46039f\"], [0.2222222222222222, \"#7201a8\"], [0.3333333333333333, \"#9c179e\"], [0.4444444444444444, \"#bd3786\"], [0.5555555555555556, \"#d8576b\"], [0.6666666666666666, \"#ed7953\"], [0.7777777777777778, \"#fb9f3a\"], [0.8888888888888888, \"#fdca26\"], [1.0, \"#f0f921\"]]}, \"colorway\": [\"#636efa\", \"#EF553B\", \"#00cc96\", \"#ab63fa\", \"#FFA15A\", \"#19d3f3\", \"#FF6692\", \"#B6E880\", \"#FF97FF\", \"#FECB52\"], \"font\": {\"color\": \"#2a3f5f\"}, \"geo\": {\"bgcolor\": \"white\", \"lakecolor\": \"white\", \"landcolor\": \"#E5ECF6\", \"showlakes\": true, \"showland\": true, \"subunitcolor\": \"white\"}, \"hoverlabel\": {\"align\": \"left\"}, \"hovermode\": \"closest\", \"mapbox\": {\"style\": \"light\"}, \"paper_bgcolor\": \"white\", \"plot_bgcolor\": \"#E5ECF6\", \"polar\": {\"angularaxis\": {\"gridcolor\": \"white\", \"linecolor\": \"white\", \"ticks\": \"\"}, \"bgcolor\": \"#E5ECF6\", \"radialaxis\": {\"gridcolor\": \"white\", \"linecolor\": \"white\", \"ticks\": \"\"}}, \"scene\": {\"xaxis\": {\"backgroundcolor\": \"#E5ECF6\", \"gridcolor\": \"white\", \"gridwidth\": 2, \"linecolor\": \"white\", \"showbackground\": true, \"ticks\": \"\", \"zerolinecolor\": \"white\"}, \"yaxis\": {\"backgroundcolor\": \"#E5ECF6\", \"gridcolor\": \"white\", \"gridwidth\": 2, \"linecolor\": \"white\", \"showbackground\": true, \"ticks\": \"\", \"zerolinecolor\": \"white\"}, \"zaxis\": {\"backgroundcolor\": \"#E5ECF6\", \"gridcolor\": \"white\", \"gridwidth\": 2, \"linecolor\": \"white\", \"showbackground\": true, \"ticks\": \"\", \"zerolinecolor\": \"white\"}}, \"shapedefaults\": {\"line\": {\"color\": \"#2a3f5f\"}}, \"ternary\": {\"aaxis\": {\"gridcolor\": \"white\", \"linecolor\": \"white\", \"ticks\": \"\"}, \"baxis\": {\"gridcolor\": \"white\", \"linecolor\": \"white\", \"ticks\": \"\"}, \"bgcolor\": \"#E5ECF6\", \"caxis\": {\"gridcolor\": \"white\", \"linecolor\": \"white\", \"ticks\": \"\"}}, \"title\": {\"x\": 0.05}, \"xaxis\": {\"automargin\": true, \"gridcolor\": \"white\", \"linecolor\": \"white\", \"ticks\": \"\", \"title\": {\"standoff\": 15}, \"zerolinecolor\": \"white\", \"zerolinewidth\": 2}, \"yaxis\": {\"automargin\": true, \"gridcolor\": \"white\", \"linecolor\": \"white\", \"ticks\": \"\", \"title\": {\"standoff\": 15}, \"zerolinecolor\": \"white\", \"zerolinewidth\": 2}}}, \"title\": {\"text\": \"scatter plot of BMI against diabetes metric\"}, \"xaxis\": {\"anchor\": \"y\", \"domain\": [0.0, 1.0], \"title\": {\"text\": \"x\"}}, \"yaxis\": {\"anchor\": \"x\", \"domain\": [0.0, 1.0], \"title\": {\"text\": \"y\"}}},\n",
              "                        {\"responsive\": true}\n",
              "                    ).then(function(){\n",
              "                            \n",
              "var gd = document.getElementById('0f42d51b-33ab-4583-92d0-04d98d8510bd');\n",
              "var x = new MutationObserver(function (mutations, observer) {{\n",
              "        var display = window.getComputedStyle(gd).display;\n",
              "        if (!display || display === 'none') {{\n",
              "            console.log([gd, 'removed!']);\n",
              "            Plotly.purge(gd);\n",
              "            observer.disconnect();\n",
              "        }}\n",
              "}});\n",
              "\n",
              "// Listen for the removal of the full notebook cells\n",
              "var notebookContainer = gd.closest('#notebook-container');\n",
              "if (notebookContainer) {{\n",
              "    x.observe(notebookContainer, {childList: true});\n",
              "}}\n",
              "\n",
              "// Listen for the clearing of the current output cell\n",
              "var outputEl = gd.closest('.output');\n",
              "if (outputEl) {{\n",
              "    x.observe(outputEl, {childList: true});\n",
              "}}\n",
              "\n",
              "                        })\n",
              "                };\n",
              "                \n",
              "            </script>\n",
              "        </div>\n",
              "</body>\n",
              "</html>"
            ]
          },
          "metadata": {}
        }
      ]
    },
    {
      "cell_type": "markdown",
      "metadata": {
        "id": "DPi5j2qlLXPn"
      },
      "source": [
        "* Now we need to define a cost function. For a linear regression, we could use MSE :\n",
        "\n",
        "`np.mean((model(input) - y)**2)`\n",
        "\n",
        "  * Create this function which we'll call `mse` (for mean square error). This function will take two arguments `y_pred` & `y_true`."
      ]
    },
    {
      "cell_type": "code",
      "metadata": {
        "id": "bo5LTTAidHnN"
      },
      "source": [
        "def mse(y_pred, y_true):\n",
        "  return np.mean((y_pred - y_true)**2)"
      ],
      "execution_count": 14,
      "outputs": []
    },
    {
      "cell_type": "markdown",
      "metadata": {
        "id": "69LJkKbCM-H6"
      },
      "source": [
        "* Test your function by inserting `model(diabetes_X)` & `y` as arguments. \n",
        "* Calculate the rmse as well"
      ]
    },
    {
      "cell_type": "code",
      "metadata": {
        "id": "wqWx5tEHK9ur",
        "colab": {
          "base_uri": "https://localhost:8080/"
        },
        "outputId": "5b7d3454-8024-436f-caeb-97a8f084dba7"
      },
      "source": [
        "print('mse :', mse(model(diabetes_X), y),' - ',\n",
        "'rmse :', np.sqrt(mse(model(diabetes_X), y)))"
      ],
      "execution_count": 15,
      "outputs": [
        {
          "output_type": "stream",
          "name": "stdout",
          "text": [
            "mse : 29509.97814090834  -  rmse : 171.78468540853208\n"
          ]
        }
      ]
    },
    {
      "cell_type": "markdown",
      "metadata": {
        "id": "zKSq1LcSNF2k"
      },
      "source": [
        "* Visualize your regression in relation to your points "
      ]
    },
    {
      "cell_type": "code",
      "metadata": {
        "colab": {
          "base_uri": "https://localhost:8080/",
          "height": 542
        },
        "id": "qZgk3B-sfY_N",
        "outputId": "8d4d796a-38c8-4e4e-85b5-1427e8514cc6"
      },
      "source": [
        "fig = go.Figure()\n",
        "fig.add_trace(go.Scatter(x=diabetes_X,\n",
        "                         y=y, \n",
        "                         name='target',\n",
        "                         mode='markers'\n",
        "                         ))\n",
        "fig.add_trace(go.Scatter(x = diabetes_X ,\n",
        "                         y = model(diabetes_X),\n",
        "                         name= 'predictions'\n",
        "                         ))\n",
        "fig.update_layout(title= dict(text =\"Target vs Prediction\"))\n",
        "\n",
        "fig.show()"
      ],
      "execution_count": 16,
      "outputs": [
        {
          "output_type": "display_data",
          "data": {
            "text/html": [
              "<html>\n",
              "<head><meta charset=\"utf-8\" /></head>\n",
              "<body>\n",
              "    <div>\n",
              "            <script src=\"https://cdnjs.cloudflare.com/ajax/libs/mathjax/2.7.5/MathJax.js?config=TeX-AMS-MML_SVG\"></script><script type=\"text/javascript\">if (window.MathJax) {MathJax.Hub.Config({SVG: {font: \"STIX-Web\"}});}</script>\n",
              "                <script type=\"text/javascript\">window.PlotlyConfig = {MathJaxConfig: 'local'};</script>\n",
              "        <script src=\"https://cdn.plot.ly/plotly-latest.min.js\"></script>    \n",
              "            <div id=\"b2beee8a-ae9c-4a49-baf3-d299538cf1b6\" class=\"plotly-graph-div\" style=\"height:525px; width:100%;\"></div>\n",
              "            <script type=\"text/javascript\">\n",
              "                \n",
              "                    window.PLOTLYENV=window.PLOTLYENV || {};\n",
              "                    \n",
              "                if (document.getElementById(\"b2beee8a-ae9c-4a49-baf3-d299538cf1b6\")) {\n",
              "                    Plotly.newPlot(\n",
              "                        'b2beee8a-ae9c-4a49-baf3-d299538cf1b6',\n",
              "                        [{\"mode\": \"markers\", \"name\": \"target\", \"type\": \"scatter\", \"x\": [0.0616962065186885, -0.0514740612388061, 0.0444512133365941, -0.0115950145052127, -0.0363846922044735, -0.0406959404999971, -0.0471628129432825, -0.00189470584028465, 0.0616962065186885, 0.0390621529671896, -0.0838084234552331, 0.0175059114895716, -0.0288400076873072, -0.00189470584028465, -0.0256065714656645, -0.0180618869484982, 0.0422955891888323, 0.0121168511201671, -0.0105172024313319, -0.0180618869484982, -0.0568631216082106, -0.0223731352440218, -0.00405032998804645, 0.0606183944448076, 0.0358287167455469, -0.0126728265790937, -0.0773415510119477, 0.0595405823709267, -0.0212953231701409, -0.00620595413580824, 0.0444512133365941, -0.0654856181992578, 0.125287118877662, -0.0503962491649252, -0.063329994051496, -0.030995631835069, 0.0228949718589761, 0.0110390390462862, 0.0713965151836166, 0.0142724752679289, -0.00836157828357004, -0.0676412423470196, -0.0105172024313319, -0.0234509473179027, 0.068163078961974, -0.0353068801305926, -0.0115950145052127, -0.0730303027164241, -0.041773752573878, 0.0142724752679289, -0.00728376620968916, 0.0164280994156907, -0.00943939035745095, -0.0159062628007364, 0.0250505960067379, -0.0493184370910443, 0.0412177771149514, -0.063329994051496, -0.064407806125377, -0.0256065714656645, -0.00405032998804645, 0.00457216660300077, -0.00728376620968916, -0.0374625042783544, -0.0256065714656645, -0.0245287593917836, -0.0180618869484982, -0.0148284507268555, -0.0299178197611881, -0.0460850008694016, -0.0697968664947814, 0.0336730925977851, -0.00405032998804645, -0.02021751109626, 0.00241654245523897, -0.030995631835069, 0.0282840322283806, -0.0363846922044735, -0.0579409336820915, -0.0374625042783544, 0.0121168511201671, -0.0223731352440218, -0.0353068801305926, 0.00996122697240527, -0.0396181284261162, 0.0713965151836166, -0.0751859268641859, -0.00620595413580824, -0.0406959404999971, -0.0482406250171634, -0.0256065714656645, 0.0519958978537604, 0.00457216660300077, -0.064407806125377, -0.0169840748746173, -0.0579409336820915, 0.00996122697240527, 0.088641508365711, -0.00512814206192736, -0.064407806125377, 0.0175059114895716, -0.0450071887955207, 0.0282840322283806, 0.0412177771149514, 0.0649296427403312, -0.0320734439089499, -0.0762637389380668, 0.0498402737059986, 0.045529025410475, -0.00943939035745095, -0.0320734439089499, 0.00457216660300077, 0.0207393477112143, 0.0142724752679289, 0.110197749843329, 0.00133873038135806, 0.0584627702970458, -0.0212953231701409, -0.0105172024313319, -0.0471628129432825, 0.00457216660300077, 0.0175059114895716, 0.0810968238485447, 0.034750904671666, 0.023972783932857, -0.00836157828357004, -0.0611743699037342, -0.00189470584028465, -0.0622521819776151, 0.0164280994156907, 0.0961861928828773, -0.0697968664947814, -0.0212953231701409, -0.0536296853865679, 0.0433734012627132, 0.056307146149284, -0.0816527993074713, 0.0498402737059986, 0.11127556191721, 0.0616962065186885, 0.0142724752679289, 0.0476846495582368, 0.0121168511201671, 0.00564997867688165, 0.0466068374843559, 0.128520555099304, 0.0595405823709267, 0.0929527566612346, 0.0153502873418098, -0.00512814206192736, 0.0703187031097357, -0.00405032998804645, -0.000816893766403737, -0.0439293767216398, 0.0207393477112143, 0.0606183944448076, -0.0105172024313319, -0.0331512559828308, -0.0654856181992578, 0.0433734012627132, -0.0622521819776151, 0.0638518306664503, 0.0304396563761424, 0.0724743272574975, -0.019139699022379, -0.0665634302731387, -0.0600965578298533, 0.0692408910358548, 0.0595405823709267, -0.0266843835395454, -0.02021751109626, -0.0460850008694016, 0.0713965151836166, -0.0794971751597095, 0.00996122697240527, -0.0385403163522353, 0.0196615356373334, 0.0272062201544997, -0.00836157828357004, -0.0159062628007364, 0.00457216660300077, -0.0428515646477589, 0.00564997867688165, -0.0353068801305926, 0.023972783932857, -0.0180618869484982, 0.0422955891888323, -0.0547074974604488, -0.00297251791416553, -0.0665634302731387, -0.0126728265790937, -0.041773752573878, -0.030995631835069, -0.00512814206192736, -0.0590187457559724, 0.0250505960067379, -0.0460850008694016, 0.00349435452911985, 0.0541515220015222, -0.0450071887955207, -0.0579409336820915, -0.0557853095343297, 0.00133873038135806, 0.0304396563761424, 0.00672779075076256, 0.0466068374843559, 0.0261284080806188, 0.045529025410475, 0.0401399650410705, -0.0180618869484982, 0.0142724752679289, 0.0369065288194278, 0.00349435452911985, -0.0708746785686623, -0.0331512559828308, 0.0940305687351156, 0.0358287167455469, 0.0315174684500233, -0.0654856181992578, -0.041773752573878, -0.0396181284261162, -0.0385403163522353, -0.0256065714656645, -0.0234509473179027, -0.0665634302731387, 0.0325952805239042, -0.0460850008694016, -0.0299178197611881, -0.0126728265790937, -0.0159062628007364, 0.0713965151836166, -0.030995631835069, 0.000260918307477141, 0.0369065288194278, 0.0390621529671896, -0.0148284507268555, 0.00672779075076256, -0.0687190544209005, -0.00943939035745095, 0.0196615356373334, 0.0746299514052593, -0.00836157828357004, -0.0234509473179027, -0.0460850008694016, 0.0541515220015222, -0.0353068801305926, -0.0320734439089499, -0.0816527993074713, 0.0476846495582368, 0.0606183944448076, 0.056307146149284, 0.098341817030639, 0.0595405823709267, 0.0336730925977851, 0.056307146149284, -0.0654856181992578, 0.160854917315731, -0.0557853095343297, -0.0245287593917836, -0.0363846922044735, -0.00836157828357004, -0.041773752573878, 0.127442743025423, -0.0773415510119477, 0.0282840322283806, -0.0256065714656645, -0.0622521819776151, -0.000816893766403737, 0.088641508365711, -0.0320734439089499, 0.0304396563761424, 0.00888341489852436, 0.00672779075076256, -0.02021751109626, -0.0245287593917836, -0.0115950145052127, 0.0261284080806188, -0.0590187457559724, -0.0363846922044735, -0.0245287593917836, 0.0185837235634525, -0.0902752958985185, -0.00512814206192736, -0.052551873312687, -0.0223731352440218, -0.02021751109626, -0.0547074974604488, -0.00620595413580824, -0.0169840748746173, 0.0552293340754031, 0.0767855755530211, 0.0185837235634525, -0.0223731352440218, 0.0929527566612346, -0.030995631835069, 0.0390621529671896, -0.0611743699037342, -0.00836157828357004, -0.0374625042783544, -0.0137506386529745, 0.0735521393313785, -0.0245287593917836, 0.0336730925977851, 0.034750904671666, -0.0385403163522353, -0.0396181284261162, -0.00189470584028465, -0.030995631835069, -0.0460850008694016, 0.00133873038135806, 0.0649296427403312, 0.0401399650410705, -0.0234509473179027, 0.0530737099276413, 0.0401399650410705, -0.02021751109626, 0.0142724752679289, -0.0342290680567117, 0.00672779075076256, 0.00457216660300077, 0.0304396563761424, 0.0519958978537604, 0.0616962065186885, -0.00728376620968916, 0.00564997867688165, 0.0541515220015222, -0.00836157828357004, 0.114508998138853, 0.067085266888093, -0.0557853095343297, 0.0304396563761424, -0.0256065714656645, 0.104808689473925, -0.00620595413580824, -0.0471628129432825, -0.0482406250171634, 0.0854080721440683, -0.0126728265790937, -0.0331512559828308, -0.00728376620968916, -0.0137506386529745, 0.0595405823709267, 0.0218171597850952, 0.0185837235634525, -0.0115950145052127, -0.00297251791416553, 0.0175059114895716, -0.0299178197611881, -0.02021751109626, -0.0579409336820915, 0.0606183944448076, -0.0406959404999971, -0.0719524906425432, -0.0557853095343297, 0.045529025410475, -0.00943939035745095, -0.0331512559828308, 0.0498402737059986, -0.084886235529114, 0.00564997867688165, 0.0207393477112143, -0.00728376620968916, 0.104808689473925, -0.0245287593917836, -0.00620595413580824, -0.0385403163522353, 0.137143051690352, 0.17055522598066, 0.00241654245523897, 0.0379843408933087, -0.0579409336820915, -0.00943939035745095, -0.0234509473179027, -0.0105172024313319, -0.0342290680567117, -0.00297251791416553, 0.068163078961974, 0.00996122697240527, 0.00241654245523897, -0.0385403163522353, 0.0261284080806188, -0.0891974838246376, 0.0606183944448076, -0.0288400076873072, -0.0299178197611881, -0.019139699022379, -0.0406959404999971, 0.0153502873418098, -0.0245287593917836, 0.00133873038135806, 0.0692408910358548, -0.0697968664947814, -0.0299178197611881, -0.0460850008694016, 0.0185837235634525, 0.00133873038135806, -0.030995631835069, -0.00405032998804645, 0.0153502873418098, 0.0228949718589761, 0.045529025410475, -0.0450071887955207, -0.0331512559828308, 0.0972640049567582, 0.0541515220015222, 0.1231314947299, -0.0805749872335904, 0.0929527566612346, -0.0503962491649252, -0.0115950145052127, -0.0277621956134263, 0.0584627702970458, 0.0854080721440683, -0.000816893766403737, 0.00672779075076256, 0.00888341489852436, 0.0800190117746638, 0.0713965151836166, -0.0245287593917836, -0.0547074974604488, -0.0363846922044735, 0.0164280994156907, 0.077863387626902, -0.0396181284261162, 0.0110390390462862, -0.0406959404999971, -0.0342290680567117, 0.00564997867688165, 0.088641508365711, -0.0331512559828308, -0.0568631216082106, -0.030995631835069, 0.0552293340754031, -0.0600965578298533, 0.00133873038135806, -0.0234509473179027, -0.074108114790305, 0.0196615356373334, -0.0159062628007364, -0.0159062628007364, 0.0390621529671896, -0.0730303027164241], \"y\": [151.0, 75.0, 141.0, 206.0, 135.0, 97.0, 138.0, 63.0, 110.0, 310.0, 101.0, 69.0, 179.0, 185.0, 118.0, 171.0, 166.0, 144.0, 97.0, 168.0, 68.0, 49.0, 68.0, 245.0, 184.0, 202.0, 137.0, 85.0, 131.0, 283.0, 129.0, 59.0, 341.0, 87.0, 65.0, 102.0, 265.0, 276.0, 252.0, 90.0, 100.0, 55.0, 61.0, 92.0, 259.0, 53.0, 190.0, 142.0, 75.0, 142.0, 155.0, 225.0, 59.0, 104.0, 182.0, 128.0, 52.0, 37.0, 170.0, 170.0, 61.0, 144.0, 52.0, 128.0, 71.0, 163.0, 150.0, 97.0, 160.0, 178.0, 48.0, 270.0, 202.0, 111.0, 85.0, 42.0, 170.0, 200.0, 252.0, 113.0, 143.0, 51.0, 52.0, 210.0, 65.0, 141.0, 55.0, 134.0, 42.0, 111.0, 98.0, 164.0, 48.0, 96.0, 90.0, 162.0, 150.0, 279.0, 92.0, 83.0, 128.0, 102.0, 302.0, 198.0, 95.0, 53.0, 134.0, 144.0, 232.0, 81.0, 104.0, 59.0, 246.0, 297.0, 258.0, 229.0, 275.0, 281.0, 179.0, 200.0, 200.0, 173.0, 180.0, 84.0, 121.0, 161.0, 99.0, 109.0, 115.0, 268.0, 274.0, 158.0, 107.0, 83.0, 103.0, 272.0, 85.0, 280.0, 336.0, 281.0, 118.0, 317.0, 235.0, 60.0, 174.0, 259.0, 178.0, 128.0, 96.0, 126.0, 288.0, 88.0, 292.0, 71.0, 197.0, 186.0, 25.0, 84.0, 96.0, 195.0, 53.0, 217.0, 172.0, 131.0, 214.0, 59.0, 70.0, 220.0, 268.0, 152.0, 47.0, 74.0, 295.0, 101.0, 151.0, 127.0, 237.0, 225.0, 81.0, 151.0, 107.0, 64.0, 138.0, 185.0, 265.0, 101.0, 137.0, 143.0, 141.0, 79.0, 292.0, 178.0, 91.0, 116.0, 86.0, 122.0, 72.0, 129.0, 142.0, 90.0, 158.0, 39.0, 196.0, 222.0, 277.0, 99.0, 196.0, 202.0, 155.0, 77.0, 191.0, 70.0, 73.0, 49.0, 65.0, 263.0, 248.0, 296.0, 214.0, 185.0, 78.0, 93.0, 252.0, 150.0, 77.0, 208.0, 77.0, 108.0, 160.0, 53.0, 220.0, 154.0, 259.0, 90.0, 246.0, 124.0, 67.0, 72.0, 257.0, 262.0, 275.0, 177.0, 71.0, 47.0, 187.0, 125.0, 78.0, 51.0, 258.0, 215.0, 303.0, 243.0, 91.0, 150.0, 310.0, 153.0, 346.0, 63.0, 89.0, 50.0, 39.0, 103.0, 308.0, 116.0, 145.0, 74.0, 45.0, 115.0, 264.0, 87.0, 202.0, 127.0, 182.0, 241.0, 66.0, 94.0, 283.0, 64.0, 102.0, 200.0, 265.0, 94.0, 230.0, 181.0, 156.0, 233.0, 60.0, 219.0, 80.0, 68.0, 332.0, 248.0, 84.0, 200.0, 55.0, 85.0, 89.0, 31.0, 129.0, 83.0, 275.0, 65.0, 198.0, 236.0, 253.0, 124.0, 44.0, 172.0, 114.0, 142.0, 109.0, 180.0, 144.0, 163.0, 147.0, 97.0, 220.0, 190.0, 109.0, 191.0, 122.0, 230.0, 242.0, 248.0, 249.0, 192.0, 131.0, 237.0, 78.0, 135.0, 244.0, 199.0, 270.0, 164.0, 72.0, 96.0, 306.0, 91.0, 214.0, 95.0, 216.0, 263.0, 178.0, 113.0, 200.0, 139.0, 139.0, 88.0, 148.0, 88.0, 243.0, 71.0, 77.0, 109.0, 272.0, 60.0, 54.0, 221.0, 90.0, 311.0, 281.0, 182.0, 321.0, 58.0, 262.0, 206.0, 233.0, 242.0, 123.0, 167.0, 63.0, 197.0, 71.0, 168.0, 140.0, 217.0, 121.0, 235.0, 245.0, 40.0, 52.0, 104.0, 132.0, 88.0, 69.0, 219.0, 72.0, 201.0, 110.0, 51.0, 277.0, 63.0, 118.0, 69.0, 273.0, 258.0, 43.0, 198.0, 242.0, 232.0, 175.0, 93.0, 168.0, 275.0, 293.0, 281.0, 72.0, 140.0, 189.0, 181.0, 209.0, 136.0, 261.0, 113.0, 131.0, 174.0, 257.0, 55.0, 84.0, 42.0, 146.0, 212.0, 233.0, 91.0, 111.0, 152.0, 120.0, 67.0, 310.0, 94.0, 183.0, 66.0, 173.0, 72.0, 49.0, 64.0, 48.0, 178.0, 104.0, 132.0, 220.0, 57.0]}, {\"name\": \"predictions\", \"type\": \"scatter\", \"x\": [0.0616962065186885, -0.0514740612388061, 0.0444512133365941, -0.0115950145052127, -0.0363846922044735, -0.0406959404999971, -0.0471628129432825, -0.00189470584028465, 0.0616962065186885, 0.0390621529671896, -0.0838084234552331, 0.0175059114895716, -0.0288400076873072, -0.00189470584028465, -0.0256065714656645, -0.0180618869484982, 0.0422955891888323, 0.0121168511201671, -0.0105172024313319, -0.0180618869484982, -0.0568631216082106, -0.0223731352440218, -0.00405032998804645, 0.0606183944448076, 0.0358287167455469, -0.0126728265790937, -0.0773415510119477, 0.0595405823709267, -0.0212953231701409, -0.00620595413580824, 0.0444512133365941, -0.0654856181992578, 0.125287118877662, -0.0503962491649252, -0.063329994051496, -0.030995631835069, 0.0228949718589761, 0.0110390390462862, 0.0713965151836166, 0.0142724752679289, -0.00836157828357004, -0.0676412423470196, -0.0105172024313319, -0.0234509473179027, 0.068163078961974, -0.0353068801305926, -0.0115950145052127, -0.0730303027164241, -0.041773752573878, 0.0142724752679289, -0.00728376620968916, 0.0164280994156907, -0.00943939035745095, -0.0159062628007364, 0.0250505960067379, -0.0493184370910443, 0.0412177771149514, -0.063329994051496, -0.064407806125377, -0.0256065714656645, -0.00405032998804645, 0.00457216660300077, -0.00728376620968916, -0.0374625042783544, -0.0256065714656645, -0.0245287593917836, -0.0180618869484982, -0.0148284507268555, -0.0299178197611881, -0.0460850008694016, -0.0697968664947814, 0.0336730925977851, -0.00405032998804645, -0.02021751109626, 0.00241654245523897, -0.030995631835069, 0.0282840322283806, -0.0363846922044735, -0.0579409336820915, -0.0374625042783544, 0.0121168511201671, -0.0223731352440218, -0.0353068801305926, 0.00996122697240527, -0.0396181284261162, 0.0713965151836166, -0.0751859268641859, -0.00620595413580824, -0.0406959404999971, -0.0482406250171634, -0.0256065714656645, 0.0519958978537604, 0.00457216660300077, -0.064407806125377, -0.0169840748746173, -0.0579409336820915, 0.00996122697240527, 0.088641508365711, -0.00512814206192736, -0.064407806125377, 0.0175059114895716, -0.0450071887955207, 0.0282840322283806, 0.0412177771149514, 0.0649296427403312, -0.0320734439089499, -0.0762637389380668, 0.0498402737059986, 0.045529025410475, -0.00943939035745095, -0.0320734439089499, 0.00457216660300077, 0.0207393477112143, 0.0142724752679289, 0.110197749843329, 0.00133873038135806, 0.0584627702970458, -0.0212953231701409, -0.0105172024313319, -0.0471628129432825, 0.00457216660300077, 0.0175059114895716, 0.0810968238485447, 0.034750904671666, 0.023972783932857, -0.00836157828357004, -0.0611743699037342, -0.00189470584028465, -0.0622521819776151, 0.0164280994156907, 0.0961861928828773, -0.0697968664947814, -0.0212953231701409, -0.0536296853865679, 0.0433734012627132, 0.056307146149284, -0.0816527993074713, 0.0498402737059986, 0.11127556191721, 0.0616962065186885, 0.0142724752679289, 0.0476846495582368, 0.0121168511201671, 0.00564997867688165, 0.0466068374843559, 0.128520555099304, 0.0595405823709267, 0.0929527566612346, 0.0153502873418098, -0.00512814206192736, 0.0703187031097357, -0.00405032998804645, -0.000816893766403737, -0.0439293767216398, 0.0207393477112143, 0.0606183944448076, -0.0105172024313319, -0.0331512559828308, -0.0654856181992578, 0.0433734012627132, -0.0622521819776151, 0.0638518306664503, 0.0304396563761424, 0.0724743272574975, -0.019139699022379, -0.0665634302731387, -0.0600965578298533, 0.0692408910358548, 0.0595405823709267, -0.0266843835395454, -0.02021751109626, -0.0460850008694016, 0.0713965151836166, -0.0794971751597095, 0.00996122697240527, -0.0385403163522353, 0.0196615356373334, 0.0272062201544997, -0.00836157828357004, -0.0159062628007364, 0.00457216660300077, -0.0428515646477589, 0.00564997867688165, -0.0353068801305926, 0.023972783932857, -0.0180618869484982, 0.0422955891888323, -0.0547074974604488, -0.00297251791416553, -0.0665634302731387, -0.0126728265790937, -0.041773752573878, -0.030995631835069, -0.00512814206192736, -0.0590187457559724, 0.0250505960067379, -0.0460850008694016, 0.00349435452911985, 0.0541515220015222, -0.0450071887955207, -0.0579409336820915, -0.0557853095343297, 0.00133873038135806, 0.0304396563761424, 0.00672779075076256, 0.0466068374843559, 0.0261284080806188, 0.045529025410475, 0.0401399650410705, -0.0180618869484982, 0.0142724752679289, 0.0369065288194278, 0.00349435452911985, -0.0708746785686623, -0.0331512559828308, 0.0940305687351156, 0.0358287167455469, 0.0315174684500233, -0.0654856181992578, -0.041773752573878, -0.0396181284261162, -0.0385403163522353, -0.0256065714656645, -0.0234509473179027, -0.0665634302731387, 0.0325952805239042, -0.0460850008694016, -0.0299178197611881, -0.0126728265790937, -0.0159062628007364, 0.0713965151836166, -0.030995631835069, 0.000260918307477141, 0.0369065288194278, 0.0390621529671896, -0.0148284507268555, 0.00672779075076256, -0.0687190544209005, -0.00943939035745095, 0.0196615356373334, 0.0746299514052593, -0.00836157828357004, -0.0234509473179027, -0.0460850008694016, 0.0541515220015222, -0.0353068801305926, -0.0320734439089499, -0.0816527993074713, 0.0476846495582368, 0.0606183944448076, 0.056307146149284, 0.098341817030639, 0.0595405823709267, 0.0336730925977851, 0.056307146149284, -0.0654856181992578, 0.160854917315731, -0.0557853095343297, -0.0245287593917836, -0.0363846922044735, -0.00836157828357004, -0.041773752573878, 0.127442743025423, -0.0773415510119477, 0.0282840322283806, -0.0256065714656645, -0.0622521819776151, -0.000816893766403737, 0.088641508365711, -0.0320734439089499, 0.0304396563761424, 0.00888341489852436, 0.00672779075076256, -0.02021751109626, -0.0245287593917836, -0.0115950145052127, 0.0261284080806188, -0.0590187457559724, -0.0363846922044735, -0.0245287593917836, 0.0185837235634525, -0.0902752958985185, -0.00512814206192736, -0.052551873312687, -0.0223731352440218, -0.02021751109626, -0.0547074974604488, -0.00620595413580824, -0.0169840748746173, 0.0552293340754031, 0.0767855755530211, 0.0185837235634525, -0.0223731352440218, 0.0929527566612346, -0.030995631835069, 0.0390621529671896, -0.0611743699037342, -0.00836157828357004, -0.0374625042783544, -0.0137506386529745, 0.0735521393313785, -0.0245287593917836, 0.0336730925977851, 0.034750904671666, -0.0385403163522353, -0.0396181284261162, -0.00189470584028465, -0.030995631835069, -0.0460850008694016, 0.00133873038135806, 0.0649296427403312, 0.0401399650410705, -0.0234509473179027, 0.0530737099276413, 0.0401399650410705, -0.02021751109626, 0.0142724752679289, -0.0342290680567117, 0.00672779075076256, 0.00457216660300077, 0.0304396563761424, 0.0519958978537604, 0.0616962065186885, -0.00728376620968916, 0.00564997867688165, 0.0541515220015222, -0.00836157828357004, 0.114508998138853, 0.067085266888093, -0.0557853095343297, 0.0304396563761424, -0.0256065714656645, 0.104808689473925, -0.00620595413580824, -0.0471628129432825, -0.0482406250171634, 0.0854080721440683, -0.0126728265790937, -0.0331512559828308, -0.00728376620968916, -0.0137506386529745, 0.0595405823709267, 0.0218171597850952, 0.0185837235634525, -0.0115950145052127, -0.00297251791416553, 0.0175059114895716, -0.0299178197611881, -0.02021751109626, -0.0579409336820915, 0.0606183944448076, -0.0406959404999971, -0.0719524906425432, -0.0557853095343297, 0.045529025410475, -0.00943939035745095, -0.0331512559828308, 0.0498402737059986, -0.084886235529114, 0.00564997867688165, 0.0207393477112143, -0.00728376620968916, 0.104808689473925, -0.0245287593917836, -0.00620595413580824, -0.0385403163522353, 0.137143051690352, 0.17055522598066, 0.00241654245523897, 0.0379843408933087, -0.0579409336820915, -0.00943939035745095, -0.0234509473179027, -0.0105172024313319, -0.0342290680567117, -0.00297251791416553, 0.068163078961974, 0.00996122697240527, 0.00241654245523897, -0.0385403163522353, 0.0261284080806188, -0.0891974838246376, 0.0606183944448076, -0.0288400076873072, -0.0299178197611881, -0.019139699022379, -0.0406959404999971, 0.0153502873418098, -0.0245287593917836, 0.00133873038135806, 0.0692408910358548, -0.0697968664947814, -0.0299178197611881, -0.0460850008694016, 0.0185837235634525, 0.00133873038135806, -0.030995631835069, -0.00405032998804645, 0.0153502873418098, 0.0228949718589761, 0.045529025410475, -0.0450071887955207, -0.0331512559828308, 0.0972640049567582, 0.0541515220015222, 0.1231314947299, -0.0805749872335904, 0.0929527566612346, -0.0503962491649252, -0.0115950145052127, -0.0277621956134263, 0.0584627702970458, 0.0854080721440683, -0.000816893766403737, 0.00672779075076256, 0.00888341489852436, 0.0800190117746638, 0.0713965151836166, -0.0245287593917836, -0.0547074974604488, -0.0363846922044735, 0.0164280994156907, 0.077863387626902, -0.0396181284261162, 0.0110390390462862, -0.0406959404999971, -0.0342290680567117, 0.00564997867688165, 0.088641508365711, -0.0331512559828308, -0.0568631216082106, -0.030995631835069, 0.0552293340754031, -0.0600965578298533, 0.00133873038135806, -0.0234509473179027, -0.074108114790305, 0.0196615356373334, -0.0159062628007364, -0.0159062628007364, 0.0390621529671896, -0.0730303027164241], \"y\": [-1.413405314477845, -1.4400218648169885, -1.4174611697676192, -1.4306426994593855, -1.436472991438436, -1.4374869552608796, -1.439007900994545, -1.4283612808588875, -1.413405314477845, -1.4187286245456736, -1.4476265934853152, -1.4237984436578914, -1.4346985547491597, -1.4283612808588875, -1.433938081882327, -1.4321636451930508, -1.417968151678841, -1.4250658984359459, -1.4303892085037746, -1.4321636451930508, -1.441289319595043, -1.4331776090154944, -1.4288682627701093, -1.4136588054334558, -1.4194890974125063, -1.4308961904149964, -1.4461056477516498, -1.4139122963890667, -1.4329241180598835, -1.429375244681331, -1.4174611697676192, -1.44331724723993, -1.398449348096802, -1.4397683738613776, -1.4428102653287083, -1.4352055366603815, -1.422530988879837, -1.4253193893915568, -1.4111238958773469, -1.424558916524724, -1.4298822265925528, -1.4438242291511518, -1.4303892085037746, -1.4334310999711053, -1.4118843687441796, -1.436219500482825, -1.4306426994593855, -1.4450916839292063, -1.4377404462164904, -1.424558916524724, -1.429628735636942, -1.4240519346135023, -1.4301357175481637, -1.431656663281829, -1.4220240069686152, -1.4395148829057667, -1.4182216426344518, -1.4428102653287083, -1.4430637562843192, -1.433938081882327, -1.4288682627701093, -1.4268403351252221, -1.429628735636942, -1.4367264823940469, -1.433938081882327, -1.4336845909267162, -1.4321636451930508, -1.4314031723262182, -1.4349520457047706, -1.438754410038934, -1.4443312110623736, -1.419996079323728, -1.4288682627701093, -1.4326706271042726, -1.427347317036444, -1.4352055366603815, -1.4212635341017825, -1.436472991438436, -1.4415428105506538, -1.4367264823940469, -1.4250658984359459, -1.4331776090154944, -1.436219500482825, -1.4255728803471677, -1.4372334643052687, -1.4111238958773469, -1.445598665840428, -1.429375244681331, -1.4374869552608796, -1.4392613919501558, -1.433938081882327, -1.415686733078343, -1.4268403351252221, -1.4430637562843192, -1.43191015423744, -1.4415428105506538, -1.4255728803471677, -1.4070680405875726, -1.4291217537257201, -1.4430637562843192, -1.4237984436578914, -1.4385009190833231, -1.4212635341017825, -1.4182216426344518, -1.4126448416110122, -1.4354590276159924, -1.445852156796039, -1.4161937149895647, -1.4172076788120083, -1.4301357175481637, -1.4354590276159924, -1.4268403351252221, -1.4230379707910588, -1.424558916524724, -1.4019982214753548, -1.4276008079920548, -1.4141657873446776, -1.4329241180598835, -1.4303892085037746, -1.439007900994545, -1.4268403351252221, -1.4237984436578914, -1.4088424772768489, -1.4197425883681172, -1.422277497924226, -1.4298822265925528, -1.4423032834174865, -1.4283612808588875, -1.4425567743730974, -1.4240519346135023, -1.4052936038982964, -1.4443312110623736, -1.4329241180598835, -1.4405288467282102, -1.41771466072323, -1.4146727692558994, -1.4471196115740934, -1.4161937149895647, -1.401744730519744, -1.413405314477845, -1.424558916524724, -1.4167006969007865, -1.4250658984359459, -1.4265868441696112, -1.4169541878563974, -1.3976888752299697, -1.4139122963890667, -1.406054076765129, -1.4243054255691132, -1.4291217537257201, -1.4113773868329578, -1.4288682627701093, -1.4281077899032766, -1.4382474281277122, -1.4230379707910588, -1.4136588054334558, -1.4303892085037746, -1.4357125185716033, -1.44331724723993, -1.41771466072323, -1.4425567743730974, -1.4128983325666231, -1.4207565521905607, -1.410870404921736, -1.4324171361486617, -1.443570738195541, -1.4420497924618756, -1.4116308777885687, -1.4139122963890667, -1.434191572837938, -1.4326706271042726, -1.438754410038934, -1.4111238958773469, -1.4466126296628716, -1.4255728803471677, -1.4369799733496578, -1.4232914617466697, -1.4215170250573934, -1.4298822265925528, -1.431656663281829, -1.4268403351252221, -1.4379939371721013, -1.4265868441696112, -1.436219500482825, -1.422277497924226, -1.4321636451930508, -1.417968151678841, -1.4407823376838211, -1.4286147718144984, -1.443570738195541, -1.4308961904149964, -1.4377404462164904, -1.4352055366603815, -1.4291217537257201, -1.4417963015062647, -1.4220240069686152, -1.438754410038934, -1.427093826080833, -1.4151797511671211, -1.4385009190833231, -1.4415428105506538, -1.441035828639432, -1.4276008079920548, -1.4207565521905607, -1.4263333532140003, -1.4169541878563974, -1.4217705160130043, -1.4172076788120083, -1.4184751335900627, -1.4321636451930508, -1.424558916524724, -1.4192356064568954, -1.427093826080833, -1.4445847020179845, -1.4357125185716033, -1.4058005858095182, -1.4194890974125063, -1.4205030612349498, -1.44331724723993, -1.4377404462164904, -1.4372334643052687, -1.4369799733496578, -1.433938081882327, -1.4334310999711053, -1.443570738195541, -1.420249570279339, -1.438754410038934, -1.4349520457047706, -1.4308961904149964, -1.431656663281829, -1.4111238958773469, -1.4352055366603815, -1.4278542989476657, -1.4192356064568954, -1.4187286245456736, -1.4314031723262182, -1.4263333532140003, -1.4440777201067627, -1.4301357175481637, -1.4232914617466697, -1.4103634230105142, -1.4298822265925528, -1.4334310999711053, -1.438754410038934, -1.4151797511671211, -1.436219500482825, -1.4354590276159924, -1.4471196115740934, -1.4167006969007865, -1.4136588054334558, -1.4146727692558994, -1.4047866219870746, -1.4139122963890667, -1.419996079323728, -1.4146727692558994, -1.44331724723993, -1.390084146561643, -1.441035828639432, -1.4336845909267162, -1.436472991438436, -1.4298822265925528, -1.4377404462164904, -1.3979423661855805, -1.4461056477516498, -1.4212635341017825, -1.433938081882327, -1.4425567743730974, -1.4281077899032766, -1.4070680405875726, -1.4354590276159924, -1.4207565521905607, -1.4258263713027786, -1.4263333532140003, -1.4326706271042726, -1.4336845909267162, -1.4306426994593855, -1.4217705160130043, -1.4417963015062647, -1.436472991438436, -1.4336845909267162, -1.4235449527022805, -1.4491475392189805, -1.4291217537257201, -1.4402753557725994, -1.4331776090154944, -1.4326706271042726, -1.4407823376838211, -1.429375244681331, -1.43191015423744, -1.4149262602115102, -1.4098564410992924, -1.4235449527022805, -1.4331776090154944, -1.406054076765129, -1.4352055366603815, -1.4187286245456736, -1.4423032834174865, -1.4298822265925528, -1.4367264823940469, -1.4311496813706073, -1.410616913966125, -1.4336845909267162, -1.419996079323728, -1.4197425883681172, -1.4369799733496578, -1.4372334643052687, -1.4283612808588875, -1.4352055366603815, -1.438754410038934, -1.4276008079920548, -1.4126448416110122, -1.4184751335900627, -1.4334310999711053, -1.415433242122732, -1.4184751335900627, -1.4326706271042726, -1.424558916524724, -1.4359660095272142, -1.4263333532140003, -1.4268403351252221, -1.4207565521905607, -1.415686733078343, -1.413405314477845, -1.429628735636942, -1.4265868441696112, -1.4151797511671211, -1.4298822265925528, -1.400984257652911, -1.4121378596997904, -1.441035828639432, -1.4207565521905607, -1.433938081882327, -1.403265676253409, -1.429375244681331, -1.439007900994545, -1.4392613919501558, -1.4078285134544053, -1.4308961904149964, -1.4357125185716033, -1.429628735636942, -1.4311496813706073, -1.4139122963890667, -1.4227844798354479, -1.4235449527022805, -1.4306426994593855, -1.4286147718144984, -1.4237984436578914, -1.4349520457047706, -1.4326706271042726, -1.4415428105506538, -1.4136588054334558, -1.4374869552608796, -1.4448381929735954, -1.441035828639432, -1.4172076788120083, -1.4301357175481637, -1.4357125185716033, -1.4161937149895647, -1.447880084440926, -1.4265868441696112, -1.4230379707910588, -1.429628735636942, -1.403265676253409, -1.4336845909267162, -1.429375244681331, -1.4369799733496578, -1.3956609475850823, -1.3878027279611447, -1.427347317036444, -1.4189821155012845, -1.4415428105506538, -1.4301357175481637, -1.4334310999711053, -1.4303892085037746, -1.4359660095272142, -1.4286147718144984, -1.4118843687441796, -1.4255728803471677, -1.427347317036444, -1.4369799733496578, -1.4217705160130043, -1.4488940482633696, -1.4136588054334558, -1.4346985547491597, -1.4349520457047706, -1.4324171361486617, -1.4374869552608796, -1.4243054255691132, -1.4336845909267162, -1.4276008079920548, -1.4116308777885687, -1.4443312110623736, -1.4349520457047706, -1.438754410038934, -1.4235449527022805, -1.4276008079920548, -1.4352055366603815, -1.4288682627701093, -1.4243054255691132, -1.422530988879837, -1.4172076788120083, -1.4385009190833231, -1.4357125185716033, -1.4050401129426855, -1.4151797511671211, -1.398956330008024, -1.4468661206184825, -1.406054076765129, -1.4397683738613776, -1.4306426994593855, -1.4344450637935489, -1.4141657873446776, -1.4078285134544053, -1.4281077899032766, -1.4263333532140003, -1.4258263713027786, -1.4090959682324598, -1.4111238958773469, -1.4336845909267162, -1.4407823376838211, -1.436472991438436, -1.4240519346135023, -1.4096029501436815, -1.4372334643052687, -1.4253193893915568, -1.4374869552608796, -1.4359660095272142, -1.4265868441696112, -1.4070680405875726, -1.4357125185716033, -1.441289319595043, -1.4352055366603815, -1.4149262602115102, -1.4420497924618756, -1.4276008079920548, -1.4334310999711053, -1.4453451748848172, -1.4232914617466697, -1.431656663281829, -1.431656663281829, -1.4187286245456736, -1.4450916839292063]}],\n",
              "                        {\"template\": {\"data\": {\"bar\": [{\"error_x\": {\"color\": \"#2a3f5f\"}, \"error_y\": {\"color\": \"#2a3f5f\"}, \"marker\": {\"line\": {\"color\": \"#E5ECF6\", \"width\": 0.5}}, \"type\": \"bar\"}], \"barpolar\": [{\"marker\": {\"line\": {\"color\": \"#E5ECF6\", \"width\": 0.5}}, \"type\": \"barpolar\"}], \"carpet\": [{\"aaxis\": {\"endlinecolor\": \"#2a3f5f\", \"gridcolor\": \"white\", \"linecolor\": \"white\", \"minorgridcolor\": \"white\", \"startlinecolor\": \"#2a3f5f\"}, \"baxis\": {\"endlinecolor\": \"#2a3f5f\", \"gridcolor\": \"white\", \"linecolor\": \"white\", \"minorgridcolor\": \"white\", \"startlinecolor\": \"#2a3f5f\"}, \"type\": \"carpet\"}], \"choropleth\": [{\"colorbar\": {\"outlinewidth\": 0, \"ticks\": \"\"}, \"type\": \"choropleth\"}], \"contour\": [{\"colorbar\": {\"outlinewidth\": 0, \"ticks\": \"\"}, \"colorscale\": [[0.0, \"#0d0887\"], [0.1111111111111111, \"#46039f\"], [0.2222222222222222, \"#7201a8\"], [0.3333333333333333, \"#9c179e\"], [0.4444444444444444, \"#bd3786\"], [0.5555555555555556, \"#d8576b\"], [0.6666666666666666, \"#ed7953\"], [0.7777777777777778, \"#fb9f3a\"], [0.8888888888888888, \"#fdca26\"], [1.0, \"#f0f921\"]], \"type\": \"contour\"}], \"contourcarpet\": [{\"colorbar\": {\"outlinewidth\": 0, \"ticks\": \"\"}, \"type\": \"contourcarpet\"}], \"heatmap\": [{\"colorbar\": {\"outlinewidth\": 0, \"ticks\": \"\"}, \"colorscale\": [[0.0, \"#0d0887\"], [0.1111111111111111, \"#46039f\"], [0.2222222222222222, \"#7201a8\"], [0.3333333333333333, \"#9c179e\"], [0.4444444444444444, \"#bd3786\"], [0.5555555555555556, \"#d8576b\"], [0.6666666666666666, \"#ed7953\"], [0.7777777777777778, \"#fb9f3a\"], [0.8888888888888888, \"#fdca26\"], [1.0, \"#f0f921\"]], \"type\": \"heatmap\"}], \"heatmapgl\": [{\"colorbar\": {\"outlinewidth\": 0, \"ticks\": \"\"}, \"colorscale\": [[0.0, \"#0d0887\"], [0.1111111111111111, \"#46039f\"], [0.2222222222222222, \"#7201a8\"], [0.3333333333333333, \"#9c179e\"], [0.4444444444444444, \"#bd3786\"], [0.5555555555555556, \"#d8576b\"], [0.6666666666666666, \"#ed7953\"], [0.7777777777777778, \"#fb9f3a\"], [0.8888888888888888, \"#fdca26\"], [1.0, \"#f0f921\"]], \"type\": \"heatmapgl\"}], \"histogram\": [{\"marker\": {\"colorbar\": {\"outlinewidth\": 0, \"ticks\": \"\"}}, \"type\": \"histogram\"}], \"histogram2d\": [{\"colorbar\": {\"outlinewidth\": 0, \"ticks\": \"\"}, \"colorscale\": [[0.0, \"#0d0887\"], [0.1111111111111111, \"#46039f\"], [0.2222222222222222, \"#7201a8\"], [0.3333333333333333, \"#9c179e\"], [0.4444444444444444, \"#bd3786\"], [0.5555555555555556, \"#d8576b\"], [0.6666666666666666, \"#ed7953\"], [0.7777777777777778, \"#fb9f3a\"], [0.8888888888888888, \"#fdca26\"], [1.0, \"#f0f921\"]], \"type\": \"histogram2d\"}], \"histogram2dcontour\": [{\"colorbar\": {\"outlinewidth\": 0, \"ticks\": \"\"}, \"colorscale\": [[0.0, \"#0d0887\"], [0.1111111111111111, \"#46039f\"], [0.2222222222222222, \"#7201a8\"], [0.3333333333333333, \"#9c179e\"], [0.4444444444444444, \"#bd3786\"], [0.5555555555555556, \"#d8576b\"], [0.6666666666666666, \"#ed7953\"], [0.7777777777777778, \"#fb9f3a\"], [0.8888888888888888, \"#fdca26\"], [1.0, \"#f0f921\"]], \"type\": \"histogram2dcontour\"}], \"mesh3d\": [{\"colorbar\": {\"outlinewidth\": 0, \"ticks\": \"\"}, \"type\": \"mesh3d\"}], \"parcoords\": [{\"line\": {\"colorbar\": {\"outlinewidth\": 0, \"ticks\": \"\"}}, \"type\": \"parcoords\"}], \"pie\": [{\"automargin\": true, \"type\": \"pie\"}], \"scatter\": [{\"marker\": {\"colorbar\": {\"outlinewidth\": 0, \"ticks\": \"\"}}, \"type\": \"scatter\"}], \"scatter3d\": [{\"line\": {\"colorbar\": {\"outlinewidth\": 0, \"ticks\": \"\"}}, \"marker\": {\"colorbar\": {\"outlinewidth\": 0, \"ticks\": \"\"}}, \"type\": \"scatter3d\"}], \"scattercarpet\": [{\"marker\": {\"colorbar\": {\"outlinewidth\": 0, \"ticks\": \"\"}}, \"type\": \"scattercarpet\"}], \"scattergeo\": [{\"marker\": {\"colorbar\": {\"outlinewidth\": 0, \"ticks\": \"\"}}, \"type\": \"scattergeo\"}], \"scattergl\": [{\"marker\": {\"colorbar\": {\"outlinewidth\": 0, \"ticks\": \"\"}}, \"type\": \"scattergl\"}], \"scattermapbox\": [{\"marker\": {\"colorbar\": {\"outlinewidth\": 0, \"ticks\": \"\"}}, \"type\": \"scattermapbox\"}], \"scatterpolar\": [{\"marker\": {\"colorbar\": {\"outlinewidth\": 0, \"ticks\": \"\"}}, \"type\": \"scatterpolar\"}], \"scatterpolargl\": [{\"marker\": {\"colorbar\": {\"outlinewidth\": 0, \"ticks\": \"\"}}, \"type\": \"scatterpolargl\"}], \"scatterternary\": [{\"marker\": {\"colorbar\": {\"outlinewidth\": 0, \"ticks\": \"\"}}, \"type\": \"scatterternary\"}], \"surface\": [{\"colorbar\": {\"outlinewidth\": 0, \"ticks\": \"\"}, \"colorscale\": [[0.0, \"#0d0887\"], [0.1111111111111111, \"#46039f\"], [0.2222222222222222, \"#7201a8\"], [0.3333333333333333, \"#9c179e\"], [0.4444444444444444, \"#bd3786\"], [0.5555555555555556, \"#d8576b\"], [0.6666666666666666, \"#ed7953\"], [0.7777777777777778, \"#fb9f3a\"], [0.8888888888888888, \"#fdca26\"], [1.0, \"#f0f921\"]], \"type\": \"surface\"}], \"table\": [{\"cells\": {\"fill\": {\"color\": \"#EBF0F8\"}, \"line\": {\"color\": \"white\"}}, \"header\": {\"fill\": {\"color\": \"#C8D4E3\"}, \"line\": {\"color\": \"white\"}}, \"type\": \"table\"}]}, \"layout\": {\"annotationdefaults\": {\"arrowcolor\": \"#2a3f5f\", \"arrowhead\": 0, \"arrowwidth\": 1}, \"coloraxis\": {\"colorbar\": {\"outlinewidth\": 0, \"ticks\": \"\"}}, \"colorscale\": {\"diverging\": [[0, \"#8e0152\"], [0.1, \"#c51b7d\"], [0.2, \"#de77ae\"], [0.3, \"#f1b6da\"], [0.4, \"#fde0ef\"], [0.5, \"#f7f7f7\"], [0.6, \"#e6f5d0\"], [0.7, \"#b8e186\"], [0.8, \"#7fbc41\"], [0.9, \"#4d9221\"], [1, \"#276419\"]], \"sequential\": [[0.0, \"#0d0887\"], [0.1111111111111111, \"#46039f\"], [0.2222222222222222, \"#7201a8\"], [0.3333333333333333, \"#9c179e\"], [0.4444444444444444, \"#bd3786\"], [0.5555555555555556, \"#d8576b\"], [0.6666666666666666, \"#ed7953\"], [0.7777777777777778, \"#fb9f3a\"], [0.8888888888888888, \"#fdca26\"], [1.0, \"#f0f921\"]], \"sequentialminus\": [[0.0, \"#0d0887\"], [0.1111111111111111, \"#46039f\"], [0.2222222222222222, \"#7201a8\"], [0.3333333333333333, \"#9c179e\"], [0.4444444444444444, \"#bd3786\"], [0.5555555555555556, \"#d8576b\"], [0.6666666666666666, \"#ed7953\"], [0.7777777777777778, \"#fb9f3a\"], [0.8888888888888888, \"#fdca26\"], [1.0, \"#f0f921\"]]}, \"colorway\": [\"#636efa\", \"#EF553B\", \"#00cc96\", \"#ab63fa\", \"#FFA15A\", \"#19d3f3\", \"#FF6692\", \"#B6E880\", \"#FF97FF\", \"#FECB52\"], \"font\": {\"color\": \"#2a3f5f\"}, \"geo\": {\"bgcolor\": \"white\", \"lakecolor\": \"white\", \"landcolor\": \"#E5ECF6\", \"showlakes\": true, \"showland\": true, \"subunitcolor\": \"white\"}, \"hoverlabel\": {\"align\": \"left\"}, \"hovermode\": \"closest\", \"mapbox\": {\"style\": \"light\"}, \"paper_bgcolor\": \"white\", \"plot_bgcolor\": \"#E5ECF6\", \"polar\": {\"angularaxis\": {\"gridcolor\": \"white\", \"linecolor\": \"white\", \"ticks\": \"\"}, \"bgcolor\": \"#E5ECF6\", \"radialaxis\": {\"gridcolor\": \"white\", \"linecolor\": \"white\", \"ticks\": \"\"}}, \"scene\": {\"xaxis\": {\"backgroundcolor\": \"#E5ECF6\", \"gridcolor\": \"white\", \"gridwidth\": 2, \"linecolor\": \"white\", \"showbackground\": true, \"ticks\": \"\", \"zerolinecolor\": \"white\"}, \"yaxis\": {\"backgroundcolor\": \"#E5ECF6\", \"gridcolor\": \"white\", \"gridwidth\": 2, \"linecolor\": \"white\", \"showbackground\": true, \"ticks\": \"\", \"zerolinecolor\": \"white\"}, \"zaxis\": {\"backgroundcolor\": \"#E5ECF6\", \"gridcolor\": \"white\", \"gridwidth\": 2, \"linecolor\": \"white\", \"showbackground\": true, \"ticks\": \"\", \"zerolinecolor\": \"white\"}}, \"shapedefaults\": {\"line\": {\"color\": \"#2a3f5f\"}}, \"ternary\": {\"aaxis\": {\"gridcolor\": \"white\", \"linecolor\": \"white\", \"ticks\": \"\"}, \"baxis\": {\"gridcolor\": \"white\", \"linecolor\": \"white\", \"ticks\": \"\"}, \"bgcolor\": \"#E5ECF6\", \"caxis\": {\"gridcolor\": \"white\", \"linecolor\": \"white\", \"ticks\": \"\"}}, \"title\": {\"x\": 0.05}, \"xaxis\": {\"automargin\": true, \"gridcolor\": \"white\", \"linecolor\": \"white\", \"ticks\": \"\", \"title\": {\"standoff\": 15}, \"zerolinecolor\": \"white\", \"zerolinewidth\": 2}, \"yaxis\": {\"automargin\": true, \"gridcolor\": \"white\", \"linecolor\": \"white\", \"ticks\": \"\", \"title\": {\"standoff\": 15}, \"zerolinecolor\": \"white\", \"zerolinewidth\": 2}}}, \"title\": {\"text\": \"Target vs Prediction\"}},\n",
              "                        {\"responsive\": true}\n",
              "                    ).then(function(){\n",
              "                            \n",
              "var gd = document.getElementById('b2beee8a-ae9c-4a49-baf3-d299538cf1b6');\n",
              "var x = new MutationObserver(function (mutations, observer) {{\n",
              "        var display = window.getComputedStyle(gd).display;\n",
              "        if (!display || display === 'none') {{\n",
              "            console.log([gd, 'removed!']);\n",
              "            Plotly.purge(gd);\n",
              "            observer.disconnect();\n",
              "        }}\n",
              "}});\n",
              "\n",
              "// Listen for the removal of the full notebook cells\n",
              "var notebookContainer = gd.closest('#notebook-container');\n",
              "if (notebookContainer) {{\n",
              "    x.observe(notebookContainer, {childList: true});\n",
              "}}\n",
              "\n",
              "// Listen for the clearing of the current output cell\n",
              "var outputEl = gd.closest('.output');\n",
              "if (outputEl) {{\n",
              "    x.observe(outputEl, {childList: true});\n",
              "}}\n",
              "\n",
              "                        })\n",
              "                };\n",
              "                \n",
              "            </script>\n",
              "        </div>\n",
              "</body>\n",
              "</html>"
            ]
          },
          "metadata": {}
        }
      ]
    },
    {
      "cell_type": "markdown",
      "metadata": {
        "id": "b4t0xlPMwwuf"
      },
      "source": [
        "* We're going to need to compute the gradients for our variable `model.beta_1` and our constant `model.beta_0`. To do this, we're going to need to review our derivative formulas. Since we're not here to do math, we're going to give you these formulas. \n",
        "  * `derive_model_beta_1 = 2/len(y_pred)*np.sum((x @ (y_pred - y_true)))`\n",
        "  * `derive_model_beta_0 = 2/len(y_pred)*(np.sum(y_pred - y_true))`\n",
        "\n",
        "  * Feel free to read this article if you want to know more about the calculation of the derivative: [Gradient Descent Derivation](https://mccormickml.com/2014/03/04/gradient-descent-derivation/)\n",
        "\n",
        "\n",
        "  * So using the above formulas, code the first function `derivative_mse_beta_1` that will take the arguments: \n",
        "    * `x` --> the values for your variable / `y_pred` --> the values predicted by your model / `y_true` --> the values of the target variable\n"
      ]
    },
    {
      "cell_type": "code",
      "metadata": {
        "id": "JrVNZeiFnoDE",
        "colab": {
          "base_uri": "https://localhost:8080/"
        },
        "outputId": "a0e4476d-9d45-429c-acaf-7061ecd9b555"
      },
      "source": [
        "def derivative_mse_beta_1(x,y_pred, y_true):\n",
        " return 2/len(y_pred)*np.sum((np.matrix(x) @ (y_pred - y_true)))\n",
        "\n"
      ],
      "execution_count": 17,
      "outputs": [
        {
          "output_type": "execute_result",
          "data": {
            "text/plain": [
              "-4.295022941512345"
            ]
          },
          "metadata": {},
          "execution_count": 17
        }
      ]
    },
    {
      "cell_type": "markdown",
      "metadata": {
        "id": "wtno1PCmzGSy"
      },
      "source": [
        "* Test you function"
      ]
    },
    {
      "cell_type": "code",
      "metadata": {
        "id": "n5Fgfu5En1Cl",
        "colab": {
          "base_uri": "https://localhost:8080/"
        },
        "outputId": "6252f271-2bad-4934-8dd9-19c392cd337a"
      },
      "source": [
        "derivative_mse_beta_1(diabetes_X, model(diabetes_X), y)"
      ],
      "execution_count": 19,
      "outputs": [
        {
          "output_type": "execute_result",
          "data": {
            "text/plain": [
              "-4.295022941512345"
            ]
          },
          "metadata": {},
          "execution_count": 19
        }
      ]
    },
    {
      "cell_type": "markdown",
      "metadata": {
        "id": "t7uluSUoy6x4"
      },
      "source": [
        "* So using the above formulas, now code the `derivative_mse_beta_0` function which will take the arguments :\n",
        "    * `y_pred` --> the values predicted by your model / `y_true` --> the actual values to predict"
      ]
    },
    {
      "cell_type": "code",
      "metadata": {
        "id": "8wXZJgXBk64G"
      },
      "source": [
        "def derivative_mse_beta_0(y_pred, y_true):\n",
        "  return 2/len(y_pred)*(np.sum(y_pred - y_true))\n"
      ],
      "execution_count": 20,
      "outputs": []
    },
    {
      "cell_type": "markdown",
      "metadata": {
        "id": "4R9sfYPdzNYc"
      },
      "source": [
        "* Test you function"
      ]
    },
    {
      "cell_type": "code",
      "metadata": {
        "id": "DjFHRuH8nMEH",
        "colab": {
          "base_uri": "https://localhost:8080/"
        },
        "outputId": "48760782-e857-4502-fff6-e62ec765ff3e"
      },
      "source": [
        "derivative_mse_beta_0(model(diabetes_X), y)"
      ],
      "execution_count": 21,
      "outputs": [
        {
          "output_type": "execute_result",
          "data": {
            "text/plain": [
              "-307.12279965460243"
            ]
          },
          "metadata": {},
          "execution_count": 21
        }
      ]
    },
    {
      "cell_type": "markdown",
      "metadata": {
        "id": "tmtfiOnszUqi"
      },
      "source": [
        "* We will try to see if we can minimize our cost function using the two gradients above. To update our variables, we need to subtract their respective gradients. Ex: \n",
        "  * `param = param - learning_rate * gradient`\n",
        "\n",
        "  * Set a `learning_rate` to 0.1\n",
        "  * Try to apply your formula on `model.beta_1` and `model.beta_0`."
      ]
    },
    {
      "cell_type": "code",
      "metadata": {
        "colab": {
          "base_uri": "https://localhost:8080/"
        },
        "id": "hUfBoDbGmAEo",
        "outputId": "8b1900f0-d64d-4c06-fd0d-78623eb2745e"
      },
      "source": [
        "learning_rate = 0.1\n",
        "# param = param - learning_rate * gradient\n",
        "\n",
        "print('OLD model.beta_1 = ', model.beta_1)\n",
        "print('OLD model.beta_0 = ', model.beta_0)\n",
        "\n",
        "model.beta_1 = model.beta_1 - learning_rate * derivative_mse_beta_1(diabetes_X, model(diabetes_X), y)\n",
        "\n",
        "model.beta_0  = model.beta_0   - learning_rate * derivative_mse_beta_0(model(diabetes_X), y)\n",
        "print('NEW model.beta_1 = ', model.beta_1)\n",
        "print('NEW model.beta_0 = ', model.beta_0)\n",
        "\n"
      ],
      "execution_count": 22,
      "outputs": [
        {
          "output_type": "stream",
          "name": "stdout",
          "text": [
            "OLD model.beta_1 =  [0.23519031]\n",
            "OLD model.beta_0 =  [-1.42791566]\n",
            "NEW model.beta_1 =  [0.6646926]\n",
            "NEW model.beta_0 =  [29.2843643]\n"
          ]
        }
      ]
    },
    {
      "cell_type": "markdown",
      "metadata": {
        "id": "uqqJKj8cLYXr"
      },
      "source": [
        "Wesee that the values of the two parameters have changed, let's see how it affected the predictions of the model. \n",
        "Visualize the data vs the model's predictions."
      ]
    },
    {
      "cell_type": "code",
      "metadata": {
        "colab": {
          "base_uri": "https://localhost:8080/",
          "height": 542
        },
        "id": "PRuz1IuduZuW",
        "outputId": "5c88d584-eeb2-456c-8dcf-51541c3b146e"
      },
      "source": [
        "fig = go.Figure()\n",
        "fig.add_trace(go.Scatter(x=diabetes_X,\n",
        "                         y=y, \n",
        "                         name='target',\n",
        "                         mode='markers'\n",
        "                         ))\n",
        "fig.add_trace(go.Scatter(x = diabetes_X ,\n",
        "                         y = model(diabetes_X),\n",
        "                         name= 'predictions'\n",
        "                         ))\n",
        "fig.update_layout(title= dict(text =\"Target vs Prediction\"))\n",
        "\n",
        "fig.show()"
      ],
      "execution_count": 23,
      "outputs": [
        {
          "output_type": "display_data",
          "data": {
            "text/html": [
              "<html>\n",
              "<head><meta charset=\"utf-8\" /></head>\n",
              "<body>\n",
              "    <div>\n",
              "            <script src=\"https://cdnjs.cloudflare.com/ajax/libs/mathjax/2.7.5/MathJax.js?config=TeX-AMS-MML_SVG\"></script><script type=\"text/javascript\">if (window.MathJax) {MathJax.Hub.Config({SVG: {font: \"STIX-Web\"}});}</script>\n",
              "                <script type=\"text/javascript\">window.PlotlyConfig = {MathJaxConfig: 'local'};</script>\n",
              "        <script src=\"https://cdn.plot.ly/plotly-latest.min.js\"></script>    \n",
              "            <div id=\"ccd60059-17ff-4342-a362-4fedb7239b70\" class=\"plotly-graph-div\" style=\"height:525px; width:100%;\"></div>\n",
              "            <script type=\"text/javascript\">\n",
              "                \n",
              "                    window.PLOTLYENV=window.PLOTLYENV || {};\n",
              "                    \n",
              "                if (document.getElementById(\"ccd60059-17ff-4342-a362-4fedb7239b70\")) {\n",
              "                    Plotly.newPlot(\n",
              "                        'ccd60059-17ff-4342-a362-4fedb7239b70',\n",
              "                        [{\"mode\": \"markers\", \"name\": \"target\", \"type\": \"scatter\", \"x\": [0.0616962065186885, -0.0514740612388061, 0.0444512133365941, -0.0115950145052127, -0.0363846922044735, -0.0406959404999971, -0.0471628129432825, -0.00189470584028465, 0.0616962065186885, 0.0390621529671896, -0.0838084234552331, 0.0175059114895716, -0.0288400076873072, -0.00189470584028465, -0.0256065714656645, -0.0180618869484982, 0.0422955891888323, 0.0121168511201671, -0.0105172024313319, -0.0180618869484982, -0.0568631216082106, -0.0223731352440218, -0.00405032998804645, 0.0606183944448076, 0.0358287167455469, -0.0126728265790937, -0.0773415510119477, 0.0595405823709267, -0.0212953231701409, -0.00620595413580824, 0.0444512133365941, -0.0654856181992578, 0.125287118877662, -0.0503962491649252, -0.063329994051496, -0.030995631835069, 0.0228949718589761, 0.0110390390462862, 0.0713965151836166, 0.0142724752679289, -0.00836157828357004, -0.0676412423470196, -0.0105172024313319, -0.0234509473179027, 0.068163078961974, -0.0353068801305926, -0.0115950145052127, -0.0730303027164241, -0.041773752573878, 0.0142724752679289, -0.00728376620968916, 0.0164280994156907, -0.00943939035745095, -0.0159062628007364, 0.0250505960067379, -0.0493184370910443, 0.0412177771149514, -0.063329994051496, -0.064407806125377, -0.0256065714656645, -0.00405032998804645, 0.00457216660300077, -0.00728376620968916, -0.0374625042783544, -0.0256065714656645, -0.0245287593917836, -0.0180618869484982, -0.0148284507268555, -0.0299178197611881, -0.0460850008694016, -0.0697968664947814, 0.0336730925977851, -0.00405032998804645, -0.02021751109626, 0.00241654245523897, -0.030995631835069, 0.0282840322283806, -0.0363846922044735, -0.0579409336820915, -0.0374625042783544, 0.0121168511201671, -0.0223731352440218, -0.0353068801305926, 0.00996122697240527, -0.0396181284261162, 0.0713965151836166, -0.0751859268641859, -0.00620595413580824, -0.0406959404999971, -0.0482406250171634, -0.0256065714656645, 0.0519958978537604, 0.00457216660300077, -0.064407806125377, -0.0169840748746173, -0.0579409336820915, 0.00996122697240527, 0.088641508365711, -0.00512814206192736, -0.064407806125377, 0.0175059114895716, -0.0450071887955207, 0.0282840322283806, 0.0412177771149514, 0.0649296427403312, -0.0320734439089499, -0.0762637389380668, 0.0498402737059986, 0.045529025410475, -0.00943939035745095, -0.0320734439089499, 0.00457216660300077, 0.0207393477112143, 0.0142724752679289, 0.110197749843329, 0.00133873038135806, 0.0584627702970458, -0.0212953231701409, -0.0105172024313319, -0.0471628129432825, 0.00457216660300077, 0.0175059114895716, 0.0810968238485447, 0.034750904671666, 0.023972783932857, -0.00836157828357004, -0.0611743699037342, -0.00189470584028465, -0.0622521819776151, 0.0164280994156907, 0.0961861928828773, -0.0697968664947814, -0.0212953231701409, -0.0536296853865679, 0.0433734012627132, 0.056307146149284, -0.0816527993074713, 0.0498402737059986, 0.11127556191721, 0.0616962065186885, 0.0142724752679289, 0.0476846495582368, 0.0121168511201671, 0.00564997867688165, 0.0466068374843559, 0.128520555099304, 0.0595405823709267, 0.0929527566612346, 0.0153502873418098, -0.00512814206192736, 0.0703187031097357, -0.00405032998804645, -0.000816893766403737, -0.0439293767216398, 0.0207393477112143, 0.0606183944448076, -0.0105172024313319, -0.0331512559828308, -0.0654856181992578, 0.0433734012627132, -0.0622521819776151, 0.0638518306664503, 0.0304396563761424, 0.0724743272574975, -0.019139699022379, -0.0665634302731387, -0.0600965578298533, 0.0692408910358548, 0.0595405823709267, -0.0266843835395454, -0.02021751109626, -0.0460850008694016, 0.0713965151836166, -0.0794971751597095, 0.00996122697240527, -0.0385403163522353, 0.0196615356373334, 0.0272062201544997, -0.00836157828357004, -0.0159062628007364, 0.00457216660300077, -0.0428515646477589, 0.00564997867688165, -0.0353068801305926, 0.023972783932857, -0.0180618869484982, 0.0422955891888323, -0.0547074974604488, -0.00297251791416553, -0.0665634302731387, -0.0126728265790937, -0.041773752573878, -0.030995631835069, -0.00512814206192736, -0.0590187457559724, 0.0250505960067379, -0.0460850008694016, 0.00349435452911985, 0.0541515220015222, -0.0450071887955207, -0.0579409336820915, -0.0557853095343297, 0.00133873038135806, 0.0304396563761424, 0.00672779075076256, 0.0466068374843559, 0.0261284080806188, 0.045529025410475, 0.0401399650410705, -0.0180618869484982, 0.0142724752679289, 0.0369065288194278, 0.00349435452911985, -0.0708746785686623, -0.0331512559828308, 0.0940305687351156, 0.0358287167455469, 0.0315174684500233, -0.0654856181992578, -0.041773752573878, -0.0396181284261162, -0.0385403163522353, -0.0256065714656645, -0.0234509473179027, -0.0665634302731387, 0.0325952805239042, -0.0460850008694016, -0.0299178197611881, -0.0126728265790937, -0.0159062628007364, 0.0713965151836166, -0.030995631835069, 0.000260918307477141, 0.0369065288194278, 0.0390621529671896, -0.0148284507268555, 0.00672779075076256, -0.0687190544209005, -0.00943939035745095, 0.0196615356373334, 0.0746299514052593, -0.00836157828357004, -0.0234509473179027, -0.0460850008694016, 0.0541515220015222, -0.0353068801305926, -0.0320734439089499, -0.0816527993074713, 0.0476846495582368, 0.0606183944448076, 0.056307146149284, 0.098341817030639, 0.0595405823709267, 0.0336730925977851, 0.056307146149284, -0.0654856181992578, 0.160854917315731, -0.0557853095343297, -0.0245287593917836, -0.0363846922044735, -0.00836157828357004, -0.041773752573878, 0.127442743025423, -0.0773415510119477, 0.0282840322283806, -0.0256065714656645, -0.0622521819776151, -0.000816893766403737, 0.088641508365711, -0.0320734439089499, 0.0304396563761424, 0.00888341489852436, 0.00672779075076256, -0.02021751109626, -0.0245287593917836, -0.0115950145052127, 0.0261284080806188, -0.0590187457559724, -0.0363846922044735, -0.0245287593917836, 0.0185837235634525, -0.0902752958985185, -0.00512814206192736, -0.052551873312687, -0.0223731352440218, -0.02021751109626, -0.0547074974604488, -0.00620595413580824, -0.0169840748746173, 0.0552293340754031, 0.0767855755530211, 0.0185837235634525, -0.0223731352440218, 0.0929527566612346, -0.030995631835069, 0.0390621529671896, -0.0611743699037342, -0.00836157828357004, -0.0374625042783544, -0.0137506386529745, 0.0735521393313785, -0.0245287593917836, 0.0336730925977851, 0.034750904671666, -0.0385403163522353, -0.0396181284261162, -0.00189470584028465, -0.030995631835069, -0.0460850008694016, 0.00133873038135806, 0.0649296427403312, 0.0401399650410705, -0.0234509473179027, 0.0530737099276413, 0.0401399650410705, -0.02021751109626, 0.0142724752679289, -0.0342290680567117, 0.00672779075076256, 0.00457216660300077, 0.0304396563761424, 0.0519958978537604, 0.0616962065186885, -0.00728376620968916, 0.00564997867688165, 0.0541515220015222, -0.00836157828357004, 0.114508998138853, 0.067085266888093, -0.0557853095343297, 0.0304396563761424, -0.0256065714656645, 0.104808689473925, -0.00620595413580824, -0.0471628129432825, -0.0482406250171634, 0.0854080721440683, -0.0126728265790937, -0.0331512559828308, -0.00728376620968916, -0.0137506386529745, 0.0595405823709267, 0.0218171597850952, 0.0185837235634525, -0.0115950145052127, -0.00297251791416553, 0.0175059114895716, -0.0299178197611881, -0.02021751109626, -0.0579409336820915, 0.0606183944448076, -0.0406959404999971, -0.0719524906425432, -0.0557853095343297, 0.045529025410475, -0.00943939035745095, -0.0331512559828308, 0.0498402737059986, -0.084886235529114, 0.00564997867688165, 0.0207393477112143, -0.00728376620968916, 0.104808689473925, -0.0245287593917836, -0.00620595413580824, -0.0385403163522353, 0.137143051690352, 0.17055522598066, 0.00241654245523897, 0.0379843408933087, -0.0579409336820915, -0.00943939035745095, -0.0234509473179027, -0.0105172024313319, -0.0342290680567117, -0.00297251791416553, 0.068163078961974, 0.00996122697240527, 0.00241654245523897, -0.0385403163522353, 0.0261284080806188, -0.0891974838246376, 0.0606183944448076, -0.0288400076873072, -0.0299178197611881, -0.019139699022379, -0.0406959404999971, 0.0153502873418098, -0.0245287593917836, 0.00133873038135806, 0.0692408910358548, -0.0697968664947814, -0.0299178197611881, -0.0460850008694016, 0.0185837235634525, 0.00133873038135806, -0.030995631835069, -0.00405032998804645, 0.0153502873418098, 0.0228949718589761, 0.045529025410475, -0.0450071887955207, -0.0331512559828308, 0.0972640049567582, 0.0541515220015222, 0.1231314947299, -0.0805749872335904, 0.0929527566612346, -0.0503962491649252, -0.0115950145052127, -0.0277621956134263, 0.0584627702970458, 0.0854080721440683, -0.000816893766403737, 0.00672779075076256, 0.00888341489852436, 0.0800190117746638, 0.0713965151836166, -0.0245287593917836, -0.0547074974604488, -0.0363846922044735, 0.0164280994156907, 0.077863387626902, -0.0396181284261162, 0.0110390390462862, -0.0406959404999971, -0.0342290680567117, 0.00564997867688165, 0.088641508365711, -0.0331512559828308, -0.0568631216082106, -0.030995631835069, 0.0552293340754031, -0.0600965578298533, 0.00133873038135806, -0.0234509473179027, -0.074108114790305, 0.0196615356373334, -0.0159062628007364, -0.0159062628007364, 0.0390621529671896, -0.0730303027164241], \"y\": [151.0, 75.0, 141.0, 206.0, 135.0, 97.0, 138.0, 63.0, 110.0, 310.0, 101.0, 69.0, 179.0, 185.0, 118.0, 171.0, 166.0, 144.0, 97.0, 168.0, 68.0, 49.0, 68.0, 245.0, 184.0, 202.0, 137.0, 85.0, 131.0, 283.0, 129.0, 59.0, 341.0, 87.0, 65.0, 102.0, 265.0, 276.0, 252.0, 90.0, 100.0, 55.0, 61.0, 92.0, 259.0, 53.0, 190.0, 142.0, 75.0, 142.0, 155.0, 225.0, 59.0, 104.0, 182.0, 128.0, 52.0, 37.0, 170.0, 170.0, 61.0, 144.0, 52.0, 128.0, 71.0, 163.0, 150.0, 97.0, 160.0, 178.0, 48.0, 270.0, 202.0, 111.0, 85.0, 42.0, 170.0, 200.0, 252.0, 113.0, 143.0, 51.0, 52.0, 210.0, 65.0, 141.0, 55.0, 134.0, 42.0, 111.0, 98.0, 164.0, 48.0, 96.0, 90.0, 162.0, 150.0, 279.0, 92.0, 83.0, 128.0, 102.0, 302.0, 198.0, 95.0, 53.0, 134.0, 144.0, 232.0, 81.0, 104.0, 59.0, 246.0, 297.0, 258.0, 229.0, 275.0, 281.0, 179.0, 200.0, 200.0, 173.0, 180.0, 84.0, 121.0, 161.0, 99.0, 109.0, 115.0, 268.0, 274.0, 158.0, 107.0, 83.0, 103.0, 272.0, 85.0, 280.0, 336.0, 281.0, 118.0, 317.0, 235.0, 60.0, 174.0, 259.0, 178.0, 128.0, 96.0, 126.0, 288.0, 88.0, 292.0, 71.0, 197.0, 186.0, 25.0, 84.0, 96.0, 195.0, 53.0, 217.0, 172.0, 131.0, 214.0, 59.0, 70.0, 220.0, 268.0, 152.0, 47.0, 74.0, 295.0, 101.0, 151.0, 127.0, 237.0, 225.0, 81.0, 151.0, 107.0, 64.0, 138.0, 185.0, 265.0, 101.0, 137.0, 143.0, 141.0, 79.0, 292.0, 178.0, 91.0, 116.0, 86.0, 122.0, 72.0, 129.0, 142.0, 90.0, 158.0, 39.0, 196.0, 222.0, 277.0, 99.0, 196.0, 202.0, 155.0, 77.0, 191.0, 70.0, 73.0, 49.0, 65.0, 263.0, 248.0, 296.0, 214.0, 185.0, 78.0, 93.0, 252.0, 150.0, 77.0, 208.0, 77.0, 108.0, 160.0, 53.0, 220.0, 154.0, 259.0, 90.0, 246.0, 124.0, 67.0, 72.0, 257.0, 262.0, 275.0, 177.0, 71.0, 47.0, 187.0, 125.0, 78.0, 51.0, 258.0, 215.0, 303.0, 243.0, 91.0, 150.0, 310.0, 153.0, 346.0, 63.0, 89.0, 50.0, 39.0, 103.0, 308.0, 116.0, 145.0, 74.0, 45.0, 115.0, 264.0, 87.0, 202.0, 127.0, 182.0, 241.0, 66.0, 94.0, 283.0, 64.0, 102.0, 200.0, 265.0, 94.0, 230.0, 181.0, 156.0, 233.0, 60.0, 219.0, 80.0, 68.0, 332.0, 248.0, 84.0, 200.0, 55.0, 85.0, 89.0, 31.0, 129.0, 83.0, 275.0, 65.0, 198.0, 236.0, 253.0, 124.0, 44.0, 172.0, 114.0, 142.0, 109.0, 180.0, 144.0, 163.0, 147.0, 97.0, 220.0, 190.0, 109.0, 191.0, 122.0, 230.0, 242.0, 248.0, 249.0, 192.0, 131.0, 237.0, 78.0, 135.0, 244.0, 199.0, 270.0, 164.0, 72.0, 96.0, 306.0, 91.0, 214.0, 95.0, 216.0, 263.0, 178.0, 113.0, 200.0, 139.0, 139.0, 88.0, 148.0, 88.0, 243.0, 71.0, 77.0, 109.0, 272.0, 60.0, 54.0, 221.0, 90.0, 311.0, 281.0, 182.0, 321.0, 58.0, 262.0, 206.0, 233.0, 242.0, 123.0, 167.0, 63.0, 197.0, 71.0, 168.0, 140.0, 217.0, 121.0, 235.0, 245.0, 40.0, 52.0, 104.0, 132.0, 88.0, 69.0, 219.0, 72.0, 201.0, 110.0, 51.0, 277.0, 63.0, 118.0, 69.0, 273.0, 258.0, 43.0, 198.0, 242.0, 232.0, 175.0, 93.0, 168.0, 275.0, 293.0, 281.0, 72.0, 140.0, 189.0, 181.0, 209.0, 136.0, 261.0, 113.0, 131.0, 174.0, 257.0, 55.0, 84.0, 42.0, 146.0, 212.0, 233.0, 91.0, 111.0, 152.0, 120.0, 67.0, 310.0, 94.0, 183.0, 66.0, 173.0, 72.0, 49.0, 64.0, 48.0, 178.0, 104.0, 132.0, 220.0, 57.0]}, {\"name\": \"predictions\", \"type\": \"scatter\", \"x\": [0.0616962065186885, -0.0514740612388061, 0.0444512133365941, -0.0115950145052127, -0.0363846922044735, -0.0406959404999971, -0.0471628129432825, -0.00189470584028465, 0.0616962065186885, 0.0390621529671896, -0.0838084234552331, 0.0175059114895716, -0.0288400076873072, -0.00189470584028465, -0.0256065714656645, -0.0180618869484982, 0.0422955891888323, 0.0121168511201671, -0.0105172024313319, -0.0180618869484982, -0.0568631216082106, -0.0223731352440218, -0.00405032998804645, 0.0606183944448076, 0.0358287167455469, -0.0126728265790937, -0.0773415510119477, 0.0595405823709267, -0.0212953231701409, -0.00620595413580824, 0.0444512133365941, -0.0654856181992578, 0.125287118877662, -0.0503962491649252, -0.063329994051496, -0.030995631835069, 0.0228949718589761, 0.0110390390462862, 0.0713965151836166, 0.0142724752679289, -0.00836157828357004, -0.0676412423470196, -0.0105172024313319, -0.0234509473179027, 0.068163078961974, -0.0353068801305926, -0.0115950145052127, -0.0730303027164241, -0.041773752573878, 0.0142724752679289, -0.00728376620968916, 0.0164280994156907, -0.00943939035745095, -0.0159062628007364, 0.0250505960067379, -0.0493184370910443, 0.0412177771149514, -0.063329994051496, -0.064407806125377, -0.0256065714656645, -0.00405032998804645, 0.00457216660300077, -0.00728376620968916, -0.0374625042783544, -0.0256065714656645, -0.0245287593917836, -0.0180618869484982, -0.0148284507268555, -0.0299178197611881, -0.0460850008694016, -0.0697968664947814, 0.0336730925977851, -0.00405032998804645, -0.02021751109626, 0.00241654245523897, -0.030995631835069, 0.0282840322283806, -0.0363846922044735, -0.0579409336820915, -0.0374625042783544, 0.0121168511201671, -0.0223731352440218, -0.0353068801305926, 0.00996122697240527, -0.0396181284261162, 0.0713965151836166, -0.0751859268641859, -0.00620595413580824, -0.0406959404999971, -0.0482406250171634, -0.0256065714656645, 0.0519958978537604, 0.00457216660300077, -0.064407806125377, -0.0169840748746173, -0.0579409336820915, 0.00996122697240527, 0.088641508365711, -0.00512814206192736, -0.064407806125377, 0.0175059114895716, -0.0450071887955207, 0.0282840322283806, 0.0412177771149514, 0.0649296427403312, -0.0320734439089499, -0.0762637389380668, 0.0498402737059986, 0.045529025410475, -0.00943939035745095, -0.0320734439089499, 0.00457216660300077, 0.0207393477112143, 0.0142724752679289, 0.110197749843329, 0.00133873038135806, 0.0584627702970458, -0.0212953231701409, -0.0105172024313319, -0.0471628129432825, 0.00457216660300077, 0.0175059114895716, 0.0810968238485447, 0.034750904671666, 0.023972783932857, -0.00836157828357004, -0.0611743699037342, -0.00189470584028465, -0.0622521819776151, 0.0164280994156907, 0.0961861928828773, -0.0697968664947814, -0.0212953231701409, -0.0536296853865679, 0.0433734012627132, 0.056307146149284, -0.0816527993074713, 0.0498402737059986, 0.11127556191721, 0.0616962065186885, 0.0142724752679289, 0.0476846495582368, 0.0121168511201671, 0.00564997867688165, 0.0466068374843559, 0.128520555099304, 0.0595405823709267, 0.0929527566612346, 0.0153502873418098, -0.00512814206192736, 0.0703187031097357, -0.00405032998804645, -0.000816893766403737, -0.0439293767216398, 0.0207393477112143, 0.0606183944448076, -0.0105172024313319, -0.0331512559828308, -0.0654856181992578, 0.0433734012627132, -0.0622521819776151, 0.0638518306664503, 0.0304396563761424, 0.0724743272574975, -0.019139699022379, -0.0665634302731387, -0.0600965578298533, 0.0692408910358548, 0.0595405823709267, -0.0266843835395454, -0.02021751109626, -0.0460850008694016, 0.0713965151836166, -0.0794971751597095, 0.00996122697240527, -0.0385403163522353, 0.0196615356373334, 0.0272062201544997, -0.00836157828357004, -0.0159062628007364, 0.00457216660300077, -0.0428515646477589, 0.00564997867688165, -0.0353068801305926, 0.023972783932857, -0.0180618869484982, 0.0422955891888323, -0.0547074974604488, -0.00297251791416553, -0.0665634302731387, -0.0126728265790937, -0.041773752573878, -0.030995631835069, -0.00512814206192736, -0.0590187457559724, 0.0250505960067379, -0.0460850008694016, 0.00349435452911985, 0.0541515220015222, -0.0450071887955207, -0.0579409336820915, -0.0557853095343297, 0.00133873038135806, 0.0304396563761424, 0.00672779075076256, 0.0466068374843559, 0.0261284080806188, 0.045529025410475, 0.0401399650410705, -0.0180618869484982, 0.0142724752679289, 0.0369065288194278, 0.00349435452911985, -0.0708746785686623, -0.0331512559828308, 0.0940305687351156, 0.0358287167455469, 0.0315174684500233, -0.0654856181992578, -0.041773752573878, -0.0396181284261162, -0.0385403163522353, -0.0256065714656645, -0.0234509473179027, -0.0665634302731387, 0.0325952805239042, -0.0460850008694016, -0.0299178197611881, -0.0126728265790937, -0.0159062628007364, 0.0713965151836166, -0.030995631835069, 0.000260918307477141, 0.0369065288194278, 0.0390621529671896, -0.0148284507268555, 0.00672779075076256, -0.0687190544209005, -0.00943939035745095, 0.0196615356373334, 0.0746299514052593, -0.00836157828357004, -0.0234509473179027, -0.0460850008694016, 0.0541515220015222, -0.0353068801305926, -0.0320734439089499, -0.0816527993074713, 0.0476846495582368, 0.0606183944448076, 0.056307146149284, 0.098341817030639, 0.0595405823709267, 0.0336730925977851, 0.056307146149284, -0.0654856181992578, 0.160854917315731, -0.0557853095343297, -0.0245287593917836, -0.0363846922044735, -0.00836157828357004, -0.041773752573878, 0.127442743025423, -0.0773415510119477, 0.0282840322283806, -0.0256065714656645, -0.0622521819776151, -0.000816893766403737, 0.088641508365711, -0.0320734439089499, 0.0304396563761424, 0.00888341489852436, 0.00672779075076256, -0.02021751109626, -0.0245287593917836, -0.0115950145052127, 0.0261284080806188, -0.0590187457559724, -0.0363846922044735, -0.0245287593917836, 0.0185837235634525, -0.0902752958985185, -0.00512814206192736, -0.052551873312687, -0.0223731352440218, -0.02021751109626, -0.0547074974604488, -0.00620595413580824, -0.0169840748746173, 0.0552293340754031, 0.0767855755530211, 0.0185837235634525, -0.0223731352440218, 0.0929527566612346, -0.030995631835069, 0.0390621529671896, -0.0611743699037342, -0.00836157828357004, -0.0374625042783544, -0.0137506386529745, 0.0735521393313785, -0.0245287593917836, 0.0336730925977851, 0.034750904671666, -0.0385403163522353, -0.0396181284261162, -0.00189470584028465, -0.030995631835069, -0.0460850008694016, 0.00133873038135806, 0.0649296427403312, 0.0401399650410705, -0.0234509473179027, 0.0530737099276413, 0.0401399650410705, -0.02021751109626, 0.0142724752679289, -0.0342290680567117, 0.00672779075076256, 0.00457216660300077, 0.0304396563761424, 0.0519958978537604, 0.0616962065186885, -0.00728376620968916, 0.00564997867688165, 0.0541515220015222, -0.00836157828357004, 0.114508998138853, 0.067085266888093, -0.0557853095343297, 0.0304396563761424, -0.0256065714656645, 0.104808689473925, -0.00620595413580824, -0.0471628129432825, -0.0482406250171634, 0.0854080721440683, -0.0126728265790937, -0.0331512559828308, -0.00728376620968916, -0.0137506386529745, 0.0595405823709267, 0.0218171597850952, 0.0185837235634525, -0.0115950145052127, -0.00297251791416553, 0.0175059114895716, -0.0299178197611881, -0.02021751109626, -0.0579409336820915, 0.0606183944448076, -0.0406959404999971, -0.0719524906425432, -0.0557853095343297, 0.045529025410475, -0.00943939035745095, -0.0331512559828308, 0.0498402737059986, -0.084886235529114, 0.00564997867688165, 0.0207393477112143, -0.00728376620968916, 0.104808689473925, -0.0245287593917836, -0.00620595413580824, -0.0385403163522353, 0.137143051690352, 0.17055522598066, 0.00241654245523897, 0.0379843408933087, -0.0579409336820915, -0.00943939035745095, -0.0234509473179027, -0.0105172024313319, -0.0342290680567117, -0.00297251791416553, 0.068163078961974, 0.00996122697240527, 0.00241654245523897, -0.0385403163522353, 0.0261284080806188, -0.0891974838246376, 0.0606183944448076, -0.0288400076873072, -0.0299178197611881, -0.019139699022379, -0.0406959404999971, 0.0153502873418098, -0.0245287593917836, 0.00133873038135806, 0.0692408910358548, -0.0697968664947814, -0.0299178197611881, -0.0460850008694016, 0.0185837235634525, 0.00133873038135806, -0.030995631835069, -0.00405032998804645, 0.0153502873418098, 0.0228949718589761, 0.045529025410475, -0.0450071887955207, -0.0331512559828308, 0.0972640049567582, 0.0541515220015222, 0.1231314947299, -0.0805749872335904, 0.0929527566612346, -0.0503962491649252, -0.0115950145052127, -0.0277621956134263, 0.0584627702970458, 0.0854080721440683, -0.000816893766403737, 0.00672779075076256, 0.00888341489852436, 0.0800190117746638, 0.0713965151836166, -0.0245287593917836, -0.0547074974604488, -0.0363846922044735, 0.0164280994156907, 0.077863387626902, -0.0396181284261162, 0.0110390390462862, -0.0406959404999971, -0.0342290680567117, 0.00564997867688165, 0.088641508365711, -0.0331512559828308, -0.0568631216082106, -0.030995631835069, 0.0552293340754031, -0.0600965578298533, 0.00133873038135806, -0.0234509473179027, -0.074108114790305, 0.0196615356373334, -0.0159062628007364, -0.0159062628007364, 0.0390621529671896, -0.0730303027164241], \"y\": [29.325373313222602, 29.250149873251903, 29.313910693798494, 29.27665718067015, 29.260179665247996, 29.257314010391973, 29.25301552810793, 29.28310490409621, 29.325373313222602, 29.31032862522846, 29.228657461831705, 29.29600035094833, 29.265194561246044, 29.28310490409621, 29.267343802388066, 29.27235869838611, 29.312477866370482, 29.292418282378296, 29.27737359438416, 29.27235869838611, 29.24656780468187, 29.269493043530083, 29.281672076668197, 29.324656899508597, 29.308179384086444, 29.275940766956143, 29.232955944115744, 29.323940485794587, 29.27020945724409, 29.280239249240182, 29.313910693798494, 29.24083649496982, 29.367641722348992, 29.250866286965913, 29.24226932239783, 29.26376173381803, 29.299582419518362, 29.29170186866429, 29.331821036648662, 29.293851109806308, 29.27880642181217, 29.239403667541804, 29.27737359438416, 29.268776629816077, 29.32967179550664, 29.260896078962006, 29.27665718067015, 29.23582159897177, 29.256597596677963, 29.293851109806308, 29.279522835526176, 29.295283937234323, 29.278090008098165, 29.273791525814122, 29.301015246946378, 29.25158270067992, 29.311761452656476, 29.24226932239783, 29.241552908683826, 29.267343802388066, 29.281672076668197, 29.28740338638025, 29.279522835526176, 29.25946325153399, 29.267343802388066, 29.26806021610207, 29.27235869838611, 29.27450793952813, 29.26447814753204, 29.25373194182194, 29.237970840113793, 29.306746556658428, 29.281672076668197, 29.2709258709581, 29.285970558952236, 29.26376173381803, 29.303164488088395, 29.260179665247996, 29.245851390967864, 29.25946325153399, 29.292418282378296, 29.269493043530083, 29.260896078962006, 29.290985454950285, 29.25803042410598, 29.331821036648662, 29.23438877154376, 29.280239249240182, 29.257314010391973, 29.252299114393924, 29.267343802388066, 29.318925589796542, 29.28740338638025, 29.241552908683826, 29.273075112100116, 29.245851390967864, 29.290985454950285, 29.343283656072767, 29.28095566295419, 29.241552908683826, 29.29600035094833, 29.254448355535946, 29.303164488088395, 29.311761452656476, 29.32752255436462, 29.263045320104023, 29.233672357829754, 29.317492762368527, 29.314627107512504, 29.278090008098165, 29.263045320104023, 29.28740338638025, 29.29814959209035, 29.293851109806308, 29.3576119303529, 29.28525414523823, 29.32322407208058, 29.27020945724409, 29.27737359438416, 29.25301552810793, 29.28740338638025, 29.29600035094833, 29.338268760074723, 29.307462970372434, 29.300298833232368, 29.27880642181217, 29.243702149825847, 29.28310490409621, 29.242985736111837, 29.295283937234323, 29.348298552070816, 29.237970840113793, 29.27020945724409, 29.24871704582389, 29.31319428008449, 29.32179124465257, 29.230090289259717, 29.317492762368527, 29.35832834406691, 29.325373313222602, 29.293851109806308, 29.316059934940515, 29.292418282378296, 29.288119800094258, 29.31534352122651, 29.369790963491013, 29.323940485794587, 29.346149310928794, 29.294567523520318, 29.28095566295419, 29.331104622934657, 29.281672076668197, 29.283821317810215, 29.25516476924995, 29.29814959209035, 29.324656899508597, 29.27737359438416, 29.262328906390017, 29.24083649496982, 29.31319428008449, 29.242985736111837, 29.326806140650614, 29.30459731551641, 29.33253745036267, 29.271642284672104, 29.24012008125581, 29.244418563539853, 29.330388209220647, 29.323940485794587, 29.266627388674056, 29.2709258709581, 29.25373194182194, 29.331821036648662, 29.231523116687733, 29.290985454950285, 29.258746837819984, 29.297433178376345, 29.30244807437439, 29.27880642181217, 29.273791525814122, 29.28740338638025, 29.255881182963957, 29.288119800094258, 29.260896078962006, 29.300298833232368, 29.27235869838611, 29.312477866370482, 29.248000632109886, 29.282388490382203, 29.24012008125581, 29.275940766956143, 29.256597596677963, 29.26376173381803, 29.28095566295419, 29.24513497725386, 29.301015246946378, 29.25373194182194, 29.286686972666242, 29.320358417224554, 29.254448355535946, 29.245851390967864, 29.24728421839588, 29.28525414523823, 29.30459731551641, 29.288836213808263, 29.31534352122651, 29.301731660660383, 29.314627107512504, 29.31104503894247, 29.27235869838611, 29.293851109806308, 29.30889579780045, 29.286686972666242, 29.237254426399787, 29.262328906390017, 29.3468657246428, 29.308179384086444, 29.305313729230416, 29.24083649496982, 29.256597596677963, 29.25803042410598, 29.258746837819984, 29.267343802388066, 29.268776629816077, 29.24012008125581, 29.306030142944422, 29.25373194182194, 29.26447814753204, 29.275940766956143, 29.273791525814122, 29.331821036648662, 29.26376173381803, 29.284537731524225, 29.30889579780045, 29.31032862522846, 29.27450793952813, 29.288836213808263, 29.2386872538278, 29.278090008098165, 29.297433178376345, 29.33397027779068, 29.27880642181217, 29.268776629816077, 29.25373194182194, 29.320358417224554, 29.260896078962006, 29.263045320104023, 29.230090289259717, 29.316059934940515, 29.324656899508597, 29.32179124465257, 29.349731379498827, 29.323940485794587, 29.306746556658428, 29.32179124465257, 29.24083649496982, 29.39128337491121, 29.24728421839588, 29.26806021610207, 29.260179665247996, 29.27880642181217, 29.256597596677963, 29.369074549777007, 29.232955944115744, 29.303164488088395, 29.267343802388066, 29.242985736111837, 29.283821317810215, 29.343283656072767, 29.263045320104023, 29.30459731551641, 29.290269041236275, 29.288836213808263, 29.2709258709581, 29.26806021610207, 29.27665718067015, 29.301731660660383, 29.24513497725386, 29.260179665247996, 29.26806021610207, 29.296716764662335, 29.224358979547667, 29.28095566295419, 29.249433459537897, 29.269493043530083, 29.2709258709581, 29.248000632109886, 29.280239249240182, 29.273075112100116, 29.321074830938564, 29.335403105218695, 29.296716764662335, 29.269493043530083, 29.346149310928794, 29.26376173381803, 29.31032862522846, 29.243702149825847, 29.27880642181217, 29.25946325153399, 29.275224353242137, 29.333253864076674, 29.26806021610207, 29.306746556658428, 29.307462970372434, 29.258746837819984, 29.25803042410598, 29.28310490409621, 29.26376173381803, 29.25373194182194, 29.28525414523823, 29.32752255436462, 29.31104503894247, 29.268776629816077, 29.31964200351055, 29.31104503894247, 29.2709258709581, 29.293851109806308, 29.26161249267601, 29.288836213808263, 29.28740338638025, 29.30459731551641, 29.318925589796542, 29.325373313222602, 29.279522835526176, 29.288119800094258, 29.320358417224554, 29.27880642181217, 29.360477585208926, 29.328955381792635, 29.24728421839588, 29.30459731551641, 29.267343802388066, 29.354029861782866, 29.280239249240182, 29.25301552810793, 29.252299114393924, 29.34113441493075, 29.275940766956143, 29.262328906390017, 29.279522835526176, 29.275224353242137, 29.323940485794587, 29.298866005804356, 29.296716764662335, 29.27665718067015, 29.282388490382203, 29.29600035094833, 29.26447814753204, 29.2709258709581, 29.245851390967864, 29.324656899508597, 29.257314010391973, 29.236538012685777, 29.24728421839588, 29.314627107512504, 29.278090008098165, 29.262328906390017, 29.317492762368527, 29.2279410481177, 29.288119800094258, 29.29814959209035, 29.279522835526176, 29.354029861782866, 29.26806021610207, 29.280239249240182, 29.258746837819984, 29.375522273203067, 29.39773109833727, 29.285970558952236, 29.309612211514455, 29.245851390967864, 29.278090008098165, 29.268776629816077, 29.27737359438416, 29.26161249267601, 29.282388490382203, 29.32967179550664, 29.290985454950285, 29.285970558952236, 29.258746837819984, 29.301731660660383, 29.225075393261672, 29.324656899508597, 29.265194561246044, 29.26447814753204, 29.271642284672104, 29.257314010391973, 29.294567523520318, 29.26806021610207, 29.28525414523823, 29.330388209220647, 29.237970840113793, 29.26447814753204, 29.25373194182194, 29.296716764662335, 29.28525414523823, 29.26376173381803, 29.281672076668197, 29.294567523520318, 29.299582419518362, 29.314627107512504, 29.254448355535946, 29.262328906390017, 29.34901496578482, 29.320358417224554, 29.36620889492098, 29.230806702973727, 29.346149310928794, 29.250866286965913, 29.27665718067015, 29.26591097496005, 29.32322407208058, 29.34113441493075, 29.283821317810215, 29.288836213808263, 29.290269041236275, 29.337552346360713, 29.331821036648662, 29.26806021610207, 29.248000632109886, 29.260179665247996, 29.295283937234323, 29.3361195189327, 29.25803042410598, 29.29170186866429, 29.257314010391973, 29.26161249267601, 29.288119800094258, 29.343283656072767, 29.262328906390017, 29.24656780468187, 29.26376173381803, 29.321074830938564, 29.244418563539853, 29.28525414523823, 29.268776629816077, 29.235105185257765, 29.297433178376345, 29.273791525814122, 29.273791525814122, 29.31032862522846, 29.23582159897177]}],\n",
              "                        {\"template\": {\"data\": {\"bar\": [{\"error_x\": {\"color\": \"#2a3f5f\"}, \"error_y\": {\"color\": \"#2a3f5f\"}, \"marker\": {\"line\": {\"color\": \"#E5ECF6\", \"width\": 0.5}}, \"type\": \"bar\"}], \"barpolar\": [{\"marker\": {\"line\": {\"color\": \"#E5ECF6\", \"width\": 0.5}}, \"type\": \"barpolar\"}], \"carpet\": [{\"aaxis\": {\"endlinecolor\": \"#2a3f5f\", \"gridcolor\": \"white\", \"linecolor\": \"white\", \"minorgridcolor\": \"white\", \"startlinecolor\": \"#2a3f5f\"}, \"baxis\": {\"endlinecolor\": \"#2a3f5f\", \"gridcolor\": \"white\", \"linecolor\": \"white\", \"minorgridcolor\": \"white\", \"startlinecolor\": \"#2a3f5f\"}, \"type\": \"carpet\"}], \"choropleth\": [{\"colorbar\": {\"outlinewidth\": 0, \"ticks\": \"\"}, \"type\": \"choropleth\"}], \"contour\": [{\"colorbar\": {\"outlinewidth\": 0, \"ticks\": \"\"}, \"colorscale\": [[0.0, \"#0d0887\"], [0.1111111111111111, \"#46039f\"], [0.2222222222222222, \"#7201a8\"], [0.3333333333333333, \"#9c179e\"], [0.4444444444444444, \"#bd3786\"], [0.5555555555555556, \"#d8576b\"], [0.6666666666666666, \"#ed7953\"], [0.7777777777777778, \"#fb9f3a\"], [0.8888888888888888, \"#fdca26\"], [1.0, \"#f0f921\"]], \"type\": \"contour\"}], \"contourcarpet\": [{\"colorbar\": {\"outlinewidth\": 0, \"ticks\": \"\"}, \"type\": \"contourcarpet\"}], \"heatmap\": [{\"colorbar\": {\"outlinewidth\": 0, \"ticks\": \"\"}, \"colorscale\": [[0.0, \"#0d0887\"], [0.1111111111111111, \"#46039f\"], [0.2222222222222222, \"#7201a8\"], [0.3333333333333333, \"#9c179e\"], [0.4444444444444444, \"#bd3786\"], [0.5555555555555556, \"#d8576b\"], [0.6666666666666666, \"#ed7953\"], [0.7777777777777778, \"#fb9f3a\"], [0.8888888888888888, \"#fdca26\"], [1.0, \"#f0f921\"]], \"type\": \"heatmap\"}], \"heatmapgl\": [{\"colorbar\": {\"outlinewidth\": 0, \"ticks\": \"\"}, \"colorscale\": [[0.0, \"#0d0887\"], [0.1111111111111111, \"#46039f\"], [0.2222222222222222, \"#7201a8\"], [0.3333333333333333, \"#9c179e\"], [0.4444444444444444, \"#bd3786\"], [0.5555555555555556, \"#d8576b\"], [0.6666666666666666, \"#ed7953\"], [0.7777777777777778, \"#fb9f3a\"], [0.8888888888888888, \"#fdca26\"], [1.0, \"#f0f921\"]], \"type\": \"heatmapgl\"}], \"histogram\": [{\"marker\": {\"colorbar\": {\"outlinewidth\": 0, \"ticks\": \"\"}}, \"type\": \"histogram\"}], \"histogram2d\": [{\"colorbar\": {\"outlinewidth\": 0, \"ticks\": \"\"}, \"colorscale\": [[0.0, \"#0d0887\"], [0.1111111111111111, \"#46039f\"], [0.2222222222222222, \"#7201a8\"], [0.3333333333333333, \"#9c179e\"], [0.4444444444444444, \"#bd3786\"], [0.5555555555555556, \"#d8576b\"], [0.6666666666666666, \"#ed7953\"], [0.7777777777777778, \"#fb9f3a\"], [0.8888888888888888, \"#fdca26\"], [1.0, \"#f0f921\"]], \"type\": \"histogram2d\"}], \"histogram2dcontour\": [{\"colorbar\": {\"outlinewidth\": 0, \"ticks\": \"\"}, \"colorscale\": [[0.0, \"#0d0887\"], [0.1111111111111111, \"#46039f\"], [0.2222222222222222, \"#7201a8\"], [0.3333333333333333, \"#9c179e\"], [0.4444444444444444, \"#bd3786\"], [0.5555555555555556, \"#d8576b\"], [0.6666666666666666, \"#ed7953\"], [0.7777777777777778, \"#fb9f3a\"], [0.8888888888888888, \"#fdca26\"], [1.0, \"#f0f921\"]], \"type\": \"histogram2dcontour\"}], \"mesh3d\": [{\"colorbar\": {\"outlinewidth\": 0, \"ticks\": \"\"}, \"type\": \"mesh3d\"}], \"parcoords\": [{\"line\": {\"colorbar\": {\"outlinewidth\": 0, \"ticks\": \"\"}}, \"type\": \"parcoords\"}], \"pie\": [{\"automargin\": true, \"type\": \"pie\"}], \"scatter\": [{\"marker\": {\"colorbar\": {\"outlinewidth\": 0, \"ticks\": \"\"}}, \"type\": \"scatter\"}], \"scatter3d\": [{\"line\": {\"colorbar\": {\"outlinewidth\": 0, \"ticks\": \"\"}}, \"marker\": {\"colorbar\": {\"outlinewidth\": 0, \"ticks\": \"\"}}, \"type\": \"scatter3d\"}], \"scattercarpet\": [{\"marker\": {\"colorbar\": {\"outlinewidth\": 0, \"ticks\": \"\"}}, \"type\": \"scattercarpet\"}], \"scattergeo\": [{\"marker\": {\"colorbar\": {\"outlinewidth\": 0, \"ticks\": \"\"}}, \"type\": \"scattergeo\"}], \"scattergl\": [{\"marker\": {\"colorbar\": {\"outlinewidth\": 0, \"ticks\": \"\"}}, \"type\": \"scattergl\"}], \"scattermapbox\": [{\"marker\": {\"colorbar\": {\"outlinewidth\": 0, \"ticks\": \"\"}}, \"type\": \"scattermapbox\"}], \"scatterpolar\": [{\"marker\": {\"colorbar\": {\"outlinewidth\": 0, \"ticks\": \"\"}}, \"type\": \"scatterpolar\"}], \"scatterpolargl\": [{\"marker\": {\"colorbar\": {\"outlinewidth\": 0, \"ticks\": \"\"}}, \"type\": \"scatterpolargl\"}], \"scatterternary\": [{\"marker\": {\"colorbar\": {\"outlinewidth\": 0, \"ticks\": \"\"}}, \"type\": \"scatterternary\"}], \"surface\": [{\"colorbar\": {\"outlinewidth\": 0, \"ticks\": \"\"}, \"colorscale\": [[0.0, \"#0d0887\"], [0.1111111111111111, \"#46039f\"], [0.2222222222222222, \"#7201a8\"], [0.3333333333333333, \"#9c179e\"], [0.4444444444444444, \"#bd3786\"], [0.5555555555555556, \"#d8576b\"], [0.6666666666666666, \"#ed7953\"], [0.7777777777777778, \"#fb9f3a\"], [0.8888888888888888, \"#fdca26\"], [1.0, \"#f0f921\"]], \"type\": \"surface\"}], \"table\": [{\"cells\": {\"fill\": {\"color\": \"#EBF0F8\"}, \"line\": {\"color\": \"white\"}}, \"header\": {\"fill\": {\"color\": \"#C8D4E3\"}, \"line\": {\"color\": \"white\"}}, \"type\": \"table\"}]}, \"layout\": {\"annotationdefaults\": {\"arrowcolor\": \"#2a3f5f\", \"arrowhead\": 0, \"arrowwidth\": 1}, \"coloraxis\": {\"colorbar\": {\"outlinewidth\": 0, \"ticks\": \"\"}}, \"colorscale\": {\"diverging\": [[0, \"#8e0152\"], [0.1, \"#c51b7d\"], [0.2, \"#de77ae\"], [0.3, \"#f1b6da\"], [0.4, \"#fde0ef\"], [0.5, \"#f7f7f7\"], [0.6, \"#e6f5d0\"], [0.7, \"#b8e186\"], [0.8, \"#7fbc41\"], [0.9, \"#4d9221\"], [1, \"#276419\"]], \"sequential\": [[0.0, \"#0d0887\"], [0.1111111111111111, \"#46039f\"], [0.2222222222222222, \"#7201a8\"], [0.3333333333333333, \"#9c179e\"], [0.4444444444444444, \"#bd3786\"], [0.5555555555555556, \"#d8576b\"], [0.6666666666666666, \"#ed7953\"], [0.7777777777777778, \"#fb9f3a\"], [0.8888888888888888, \"#fdca26\"], [1.0, \"#f0f921\"]], \"sequentialminus\": [[0.0, \"#0d0887\"], [0.1111111111111111, \"#46039f\"], [0.2222222222222222, \"#7201a8\"], [0.3333333333333333, \"#9c179e\"], [0.4444444444444444, \"#bd3786\"], [0.5555555555555556, \"#d8576b\"], [0.6666666666666666, \"#ed7953\"], [0.7777777777777778, \"#fb9f3a\"], [0.8888888888888888, \"#fdca26\"], [1.0, \"#f0f921\"]]}, \"colorway\": [\"#636efa\", \"#EF553B\", \"#00cc96\", \"#ab63fa\", \"#FFA15A\", \"#19d3f3\", \"#FF6692\", \"#B6E880\", \"#FF97FF\", \"#FECB52\"], \"font\": {\"color\": \"#2a3f5f\"}, \"geo\": {\"bgcolor\": \"white\", \"lakecolor\": \"white\", \"landcolor\": \"#E5ECF6\", \"showlakes\": true, \"showland\": true, \"subunitcolor\": \"white\"}, \"hoverlabel\": {\"align\": \"left\"}, \"hovermode\": \"closest\", \"mapbox\": {\"style\": \"light\"}, \"paper_bgcolor\": \"white\", \"plot_bgcolor\": \"#E5ECF6\", \"polar\": {\"angularaxis\": {\"gridcolor\": \"white\", \"linecolor\": \"white\", \"ticks\": \"\"}, \"bgcolor\": \"#E5ECF6\", \"radialaxis\": {\"gridcolor\": \"white\", \"linecolor\": \"white\", \"ticks\": \"\"}}, \"scene\": {\"xaxis\": {\"backgroundcolor\": \"#E5ECF6\", \"gridcolor\": \"white\", \"gridwidth\": 2, \"linecolor\": \"white\", \"showbackground\": true, \"ticks\": \"\", \"zerolinecolor\": \"white\"}, \"yaxis\": {\"backgroundcolor\": \"#E5ECF6\", \"gridcolor\": \"white\", \"gridwidth\": 2, \"linecolor\": \"white\", \"showbackground\": true, \"ticks\": \"\", \"zerolinecolor\": \"white\"}, \"zaxis\": {\"backgroundcolor\": \"#E5ECF6\", \"gridcolor\": \"white\", \"gridwidth\": 2, \"linecolor\": \"white\", \"showbackground\": true, \"ticks\": \"\", \"zerolinecolor\": \"white\"}}, \"shapedefaults\": {\"line\": {\"color\": \"#2a3f5f\"}}, \"ternary\": {\"aaxis\": {\"gridcolor\": \"white\", \"linecolor\": \"white\", \"ticks\": \"\"}, \"baxis\": {\"gridcolor\": \"white\", \"linecolor\": \"white\", \"ticks\": \"\"}, \"bgcolor\": \"#E5ECF6\", \"caxis\": {\"gridcolor\": \"white\", \"linecolor\": \"white\", \"ticks\": \"\"}}, \"title\": {\"x\": 0.05}, \"xaxis\": {\"automargin\": true, \"gridcolor\": \"white\", \"linecolor\": \"white\", \"ticks\": \"\", \"title\": {\"standoff\": 15}, \"zerolinecolor\": \"white\", \"zerolinewidth\": 2}, \"yaxis\": {\"automargin\": true, \"gridcolor\": \"white\", \"linecolor\": \"white\", \"ticks\": \"\", \"title\": {\"standoff\": 15}, \"zerolinecolor\": \"white\", \"zerolinewidth\": 2}}}, \"title\": {\"text\": \"Target vs Prediction\"}},\n",
              "                        {\"responsive\": true}\n",
              "                    ).then(function(){\n",
              "                            \n",
              "var gd = document.getElementById('ccd60059-17ff-4342-a362-4fedb7239b70');\n",
              "var x = new MutationObserver(function (mutations, observer) {{\n",
              "        var display = window.getComputedStyle(gd).display;\n",
              "        if (!display || display === 'none') {{\n",
              "            console.log([gd, 'removed!']);\n",
              "            Plotly.purge(gd);\n",
              "            observer.disconnect();\n",
              "        }}\n",
              "}});\n",
              "\n",
              "// Listen for the removal of the full notebook cells\n",
              "var notebookContainer = gd.closest('#notebook-container');\n",
              "if (notebookContainer) {{\n",
              "    x.observe(notebookContainer, {childList: true});\n",
              "}}\n",
              "\n",
              "// Listen for the clearing of the current output cell\n",
              "var outputEl = gd.closest('.output');\n",
              "if (outputEl) {{\n",
              "    x.observe(outputEl, {childList: true});\n",
              "}}\n",
              "\n",
              "                        })\n",
              "                };\n",
              "                \n",
              "            </script>\n",
              "        </div>\n",
              "</body>\n",
              "</html>"
            ]
          },
          "metadata": {}
        }
      ]
    },
    {
      "cell_type": "markdown",
      "metadata": {
        "id": "JaI_Zm-w0gxW"
      },
      "source": [
        "We notice the predictions got a little closer to our real data\n",
        "* Recalculate your MSE"
      ]
    },
    {
      "cell_type": "code",
      "metadata": {
        "colab": {
          "base_uri": "https://localhost:8080/"
        },
        "id": "naO7f3hqu8Oy",
        "outputId": "7ba01ac1-f18e-4cf5-eb63-674bef6d7ae4"
      },
      "source": [
        "print('mse :', mse(model(diabetes_X), y))"
      ],
      "execution_count": 24,
      "outputs": [
        {
          "output_type": "stream",
          "name": "stdout",
          "text": [
            "mse : 21018.936569968206\n"
          ]
        }
      ]
    },
    {
      "cell_type": "markdown",
      "metadata": {
        "id": "cCOgW_6N0nvt"
      },
      "source": [
        "* Our MSE has dropped a lot! This is good news but the process of gradient descent is iterative. So you'll have to do it several times before arriving at accurate predictions. \n",
        "  * By making a loop, try to repeat the process from above 10,000 times. \n",
        "  * Display every 1000 epochs: mse, model.beta_1 & model.beta_0 "
      ]
    },
    {
      "cell_type": "code",
      "metadata": {
        "id": "N_Vxa_rlpxRU",
        "colab": {
          "base_uri": "https://localhost:8080/"
        },
        "outputId": "8e42f1e6-6470-424b-98b6-078e11468bd8"
      },
      "source": [
        "beta_1 = derivative_mse_beta_1(diabetes_X, model(diabetes_X), y)\n",
        "beta_0 = derivative_mse_beta_0(model(diabetes_X), y)\n",
        "\n",
        "i = 0\n",
        "while i < 1000 + 1:\n",
        "    \n",
        "  model.beta_1 = model.beta_1 - learning_rate * derivative_mse_beta_1(diabetes_X, model(diabetes_X), y)\n",
        "\n",
        "  model.beta_0  = model.beta_0   - learning_rate * derivative_mse_beta_0(model(diabetes_X), y)\n",
        "  i += 1\n",
        "\n",
        "  if i % 10 == 0:\n",
        "    print('-------------------- Epoch {}-------------------'.format(i/10))\n",
        "    print('Current loss : ', mse(model(diabetes_X), y)) \n",
        "    print('beta_1 = ', [beta_1])\n",
        "    print('beta_0 = ', [beta_0])\n",
        "    print('--------------------------------------------------')\n"
      ],
      "execution_count": 25,
      "outputs": [
        {
          "output_type": "stream",
          "name": "stdout",
          "text": [
            "-------------------- Epoch 1.0-------------------\n",
            "Current loss :  6082.676631819504\n",
            "beta_1 =  [-4.2930794922175926]\n",
            "beta_0 =  [-245.69823972368187]\n",
            "--------------------------------------------------\n",
            "-------------------- Epoch 2.0-------------------\n",
            "Current loss :  5892.4987028196965\n",
            "beta_1 =  [-4.2930794922175926]\n",
            "beta_0 =  [-245.69823972368187]\n",
            "--------------------------------------------------\n",
            "-------------------- Epoch 3.0-------------------\n",
            "Current loss :  5872.493492890609\n",
            "beta_1 =  [-4.2930794922175926]\n",
            "beta_0 =  [-245.69823972368187]\n",
            "--------------------------------------------------\n",
            "-------------------- Epoch 4.0-------------------\n",
            "Current loss :  5854.6107498404435\n",
            "beta_1 =  [-4.2930794922175926]\n",
            "beta_0 =  [-245.69823972368187]\n",
            "--------------------------------------------------\n",
            "-------------------- Epoch 5.0-------------------\n",
            "Current loss :  5836.9115398301055\n",
            "beta_1 =  [-4.2930794922175926]\n",
            "beta_0 =  [-245.69823972368187]\n",
            "--------------------------------------------------\n",
            "-------------------- Epoch 6.0-------------------\n",
            "Current loss :  5819.372075164343\n",
            "beta_1 =  [-4.2930794922175926]\n",
            "beta_0 =  [-245.69823972368187]\n",
            "--------------------------------------------------\n",
            "-------------------- Epoch 7.0-------------------\n",
            "Current loss :  5801.990661195161\n",
            "beta_1 =  [-4.2930794922175926]\n",
            "beta_0 =  [-245.69823972368187]\n",
            "--------------------------------------------------\n",
            "-------------------- Epoch 8.0-------------------\n",
            "Current loss :  5784.765870789205\n",
            "beta_1 =  [-4.2930794922175926]\n",
            "beta_0 =  [-245.69823972368187]\n",
            "--------------------------------------------------\n",
            "-------------------- Epoch 9.0-------------------\n",
            "Current loss :  5767.69629258116\n",
            "beta_1 =  [-4.2930794922175926]\n",
            "beta_0 =  [-245.69823972368187]\n",
            "--------------------------------------------------\n",
            "-------------------- Epoch 10.0-------------------\n",
            "Current loss :  5750.780527957025\n",
            "beta_1 =  [-4.2930794922175926]\n",
            "beta_0 =  [-245.69823972368187]\n",
            "--------------------------------------------------\n",
            "-------------------- Epoch 11.0-------------------\n",
            "Current loss :  5734.017190906064\n",
            "beta_1 =  [-4.2930794922175926]\n",
            "beta_0 =  [-245.69823972368187]\n",
            "--------------------------------------------------\n",
            "-------------------- Epoch 12.0-------------------\n",
            "Current loss :  5717.404907906852\n",
            "beta_1 =  [-4.2930794922175926]\n",
            "beta_0 =  [-245.69823972368187]\n",
            "--------------------------------------------------\n",
            "-------------------- Epoch 13.0-------------------\n",
            "Current loss :  5700.942317814741\n",
            "beta_1 =  [-4.2930794922175926]\n",
            "beta_0 =  [-245.69823972368187]\n",
            "--------------------------------------------------\n",
            "-------------------- Epoch 14.0-------------------\n",
            "Current loss :  5684.628071750326\n",
            "beta_1 =  [-4.2930794922175926]\n",
            "beta_0 =  [-245.69823972368187]\n",
            "--------------------------------------------------\n",
            "-------------------- Epoch 15.0-------------------\n",
            "Current loss :  5668.460832988918\n",
            "beta_1 =  [-4.2930794922175926]\n",
            "beta_0 =  [-245.69823972368187]\n",
            "--------------------------------------------------\n",
            "-------------------- Epoch 16.0-------------------\n",
            "Current loss :  5652.439276851032\n",
            "beta_1 =  [-4.2930794922175926]\n",
            "beta_0 =  [-245.69823972368187]\n",
            "--------------------------------------------------\n",
            "-------------------- Epoch 17.0-------------------\n",
            "Current loss :  5636.562090593835\n",
            "beta_1 =  [-4.2930794922175926]\n",
            "beta_0 =  [-245.69823972368187]\n",
            "--------------------------------------------------\n",
            "-------------------- Epoch 18.0-------------------\n",
            "Current loss :  5620.827973303591\n",
            "beta_1 =  [-4.2930794922175926]\n",
            "beta_0 =  [-245.69823972368187]\n",
            "--------------------------------------------------\n",
            "-------------------- Epoch 19.0-------------------\n",
            "Current loss :  5605.235635789067\n",
            "beta_1 =  [-4.2930794922175926]\n",
            "beta_0 =  [-245.69823972368187]\n",
            "--------------------------------------------------\n",
            "-------------------- Epoch 20.0-------------------\n",
            "Current loss :  5589.783800475906\n",
            "beta_1 =  [-4.2930794922175926]\n",
            "beta_0 =  [-245.69823972368187]\n",
            "--------------------------------------------------\n",
            "-------------------- Epoch 21.0-------------------\n",
            "Current loss :  5574.471201301943\n",
            "beta_1 =  [-4.2930794922175926]\n",
            "beta_0 =  [-245.69823972368187]\n",
            "--------------------------------------------------\n",
            "-------------------- Epoch 22.0-------------------\n",
            "Current loss :  5559.296583613472\n",
            "beta_1 =  [-4.2930794922175926]\n",
            "beta_0 =  [-245.69823972368187]\n",
            "--------------------------------------------------\n",
            "-------------------- Epoch 23.0-------------------\n",
            "Current loss :  5544.2587040624385\n",
            "beta_1 =  [-4.2930794922175926]\n",
            "beta_0 =  [-245.69823972368187]\n",
            "--------------------------------------------------\n",
            "-------------------- Epoch 24.0-------------------\n",
            "Current loss :  5529.356330504575\n",
            "beta_1 =  [-4.2930794922175926]\n",
            "beta_0 =  [-245.69823972368187]\n",
            "--------------------------------------------------\n",
            "-------------------- Epoch 25.0-------------------\n",
            "Current loss :  5514.5882418984365\n",
            "beta_1 =  [-4.2930794922175926]\n",
            "beta_0 =  [-245.69823972368187]\n",
            "--------------------------------------------------\n",
            "-------------------- Epoch 26.0-------------------\n",
            "Current loss :  5499.953228205354\n",
            "beta_1 =  [-4.2930794922175926]\n",
            "beta_0 =  [-245.69823972368187]\n",
            "--------------------------------------------------\n",
            "-------------------- Epoch 27.0-------------------\n",
            "Current loss :  5485.450090290291\n",
            "beta_1 =  [-4.2930794922175926]\n",
            "beta_0 =  [-245.69823972368187]\n",
            "--------------------------------------------------\n",
            "-------------------- Epoch 28.0-------------------\n",
            "Current loss :  5471.077639823586\n",
            "beta_1 =  [-4.2930794922175926]\n",
            "beta_0 =  [-245.69823972368187]\n",
            "--------------------------------------------------\n",
            "-------------------- Epoch 29.0-------------------\n",
            "Current loss :  5456.834699183594\n",
            "beta_1 =  [-4.2930794922175926]\n",
            "beta_0 =  [-245.69823972368187]\n",
            "--------------------------------------------------\n",
            "-------------------- Epoch 30.0-------------------\n",
            "Current loss :  5442.72010136019\n",
            "beta_1 =  [-4.2930794922175926]\n",
            "beta_0 =  [-245.69823972368187]\n",
            "--------------------------------------------------\n",
            "-------------------- Epoch 31.0-------------------\n",
            "Current loss :  5428.732689859148\n",
            "beta_1 =  [-4.2930794922175926]\n",
            "beta_0 =  [-245.69823972368187]\n",
            "--------------------------------------------------\n",
            "-------------------- Epoch 32.0-------------------\n",
            "Current loss :  5414.871318607393\n",
            "beta_1 =  [-4.2930794922175926]\n",
            "beta_0 =  [-245.69823972368187]\n",
            "--------------------------------------------------\n",
            "-------------------- Epoch 33.0-------------------\n",
            "Current loss :  5401.134851859082\n",
            "beta_1 =  [-4.2930794922175926]\n",
            "beta_0 =  [-245.69823972368187]\n",
            "--------------------------------------------------\n",
            "-------------------- Epoch 34.0-------------------\n",
            "Current loss :  5387.522164102552\n",
            "beta_1 =  [-4.2930794922175926]\n",
            "beta_0 =  [-245.69823972368187]\n",
            "--------------------------------------------------\n",
            "-------------------- Epoch 35.0-------------------\n",
            "Current loss :  5374.032139968104\n",
            "beta_1 =  [-4.2930794922175926]\n",
            "beta_0 =  [-245.69823972368187]\n",
            "--------------------------------------------------\n",
            "-------------------- Epoch 36.0-------------------\n",
            "Current loss :  5360.663674136609\n",
            "beta_1 =  [-4.2930794922175926]\n",
            "beta_0 =  [-245.69823972368187]\n",
            "--------------------------------------------------\n",
            "-------------------- Epoch 37.0-------------------\n",
            "Current loss :  5347.415671248942\n",
            "beta_1 =  [-4.2930794922175926]\n",
            "beta_0 =  [-245.69823972368187]\n",
            "--------------------------------------------------\n",
            "-------------------- Epoch 38.0-------------------\n",
            "Current loss :  5334.287045816235\n",
            "beta_1 =  [-4.2930794922175926]\n",
            "beta_0 =  [-245.69823972368187]\n",
            "--------------------------------------------------\n",
            "-------------------- Epoch 39.0-------------------\n",
            "Current loss :  5321.27672213094\n",
            "beta_1 =  [-4.2930794922175926]\n",
            "beta_0 =  [-245.69823972368187]\n",
            "--------------------------------------------------\n",
            "-------------------- Epoch 40.0-------------------\n",
            "Current loss :  5308.383634178678\n",
            "beta_1 =  [-4.2930794922175926]\n",
            "beta_0 =  [-245.69823972368187]\n",
            "--------------------------------------------------\n",
            "-------------------- Epoch 41.0-------------------\n",
            "Current loss :  5295.606725550903\n",
            "beta_1 =  [-4.2930794922175926]\n",
            "beta_0 =  [-245.69823972368187]\n",
            "--------------------------------------------------\n",
            "-------------------- Epoch 42.0-------------------\n",
            "Current loss :  5282.94494935835\n",
            "beta_1 =  [-4.2930794922175926]\n",
            "beta_0 =  [-245.69823972368187]\n",
            "--------------------------------------------------\n",
            "-------------------- Epoch 43.0-------------------\n",
            "Current loss :  5270.397268145243\n",
            "beta_1 =  [-4.2930794922175926]\n",
            "beta_0 =  [-245.69823972368187]\n",
            "--------------------------------------------------\n",
            "-------------------- Epoch 44.0-------------------\n",
            "Current loss :  5257.962653804293\n",
            "beta_1 =  [-4.2930794922175926]\n",
            "beta_0 =  [-245.69823972368187]\n",
            "--------------------------------------------------\n",
            "-------------------- Epoch 45.0-------------------\n",
            "Current loss :  5245.640087492473\n",
            "beta_1 =  [-4.2930794922175926]\n",
            "beta_0 =  [-245.69823972368187]\n",
            "--------------------------------------------------\n",
            "-------------------- Epoch 46.0-------------------\n",
            "Current loss :  5233.42855954752\n",
            "beta_1 =  [-4.2930794922175926]\n",
            "beta_0 =  [-245.69823972368187]\n",
            "--------------------------------------------------\n",
            "-------------------- Epoch 47.0-------------------\n",
            "Current loss :  5221.327069405215\n",
            "beta_1 =  [-4.2930794922175926]\n",
            "beta_0 =  [-245.69823972368187]\n",
            "--------------------------------------------------\n",
            "-------------------- Epoch 48.0-------------------\n",
            "Current loss :  5209.334625517406\n",
            "beta_1 =  [-4.2930794922175926]\n",
            "beta_0 =  [-245.69823972368187]\n",
            "--------------------------------------------------\n",
            "-------------------- Epoch 49.0-------------------\n",
            "Current loss :  5197.450245270752\n",
            "beta_1 =  [-4.2930794922175926]\n",
            "beta_0 =  [-245.69823972368187]\n",
            "--------------------------------------------------\n",
            "-------------------- Epoch 50.0-------------------\n",
            "Current loss :  5185.672954906223\n",
            "beta_1 =  [-4.2930794922175926]\n",
            "beta_0 =  [-245.69823972368187]\n",
            "--------------------------------------------------\n",
            "-------------------- Epoch 51.0-------------------\n",
            "Current loss :  5174.0017894393095\n",
            "beta_1 =  [-4.2930794922175926]\n",
            "beta_0 =  [-245.69823972368187]\n",
            "--------------------------------------------------\n",
            "-------------------- Epoch 52.0-------------------\n",
            "Current loss :  5162.435792580953\n",
            "beta_1 =  [-4.2930794922175926]\n",
            "beta_0 =  [-245.69823972368187]\n",
            "--------------------------------------------------\n",
            "-------------------- Epoch 53.0-------------------\n",
            "Current loss :  5150.974016659197\n",
            "beta_1 =  [-4.2930794922175926]\n",
            "beta_0 =  [-245.69823972368187]\n",
            "--------------------------------------------------\n",
            "-------------------- Epoch 54.0-------------------\n",
            "Current loss :  5139.615522541534\n",
            "beta_1 =  [-4.2930794922175926]\n",
            "beta_0 =  [-245.69823972368187]\n",
            "--------------------------------------------------\n",
            "-------------------- Epoch 55.0-------------------\n",
            "Current loss :  5128.35937955796\n",
            "beta_1 =  [-4.2930794922175926]\n",
            "beta_0 =  [-245.69823972368187]\n",
            "--------------------------------------------------\n",
            "-------------------- Epoch 56.0-------------------\n",
            "Current loss :  5117.204665424716\n",
            "beta_1 =  [-4.2930794922175926]\n",
            "beta_0 =  [-245.69823972368187]\n",
            "--------------------------------------------------\n",
            "-------------------- Epoch 57.0-------------------\n",
            "Current loss :  5106.150466168719\n",
            "beta_1 =  [-4.2930794922175926]\n",
            "beta_0 =  [-245.69823972368187]\n",
            "--------------------------------------------------\n",
            "-------------------- Epoch 58.0-------------------\n",
            "Current loss :  5095.195876052681\n",
            "beta_1 =  [-4.2930794922175926]\n",
            "beta_0 =  [-245.69823972368187]\n",
            "--------------------------------------------------\n",
            "-------------------- Epoch 59.0-------------------\n",
            "Current loss :  5084.3399975008915\n",
            "beta_1 =  [-4.2930794922175926]\n",
            "beta_0 =  [-245.69823972368187]\n",
            "--------------------------------------------------\n",
            "-------------------- Epoch 60.0-------------------\n",
            "Current loss :  5073.581941025672\n",
            "beta_1 =  [-4.2930794922175926]\n",
            "beta_0 =  [-245.69823972368187]\n",
            "--------------------------------------------------\n",
            "-------------------- Epoch 61.0-------------------\n",
            "Current loss :  5062.920825154498\n",
            "beta_1 =  [-4.2930794922175926]\n",
            "beta_0 =  [-245.69823972368187]\n",
            "--------------------------------------------------\n",
            "-------------------- Epoch 62.0-------------------\n",
            "Current loss :  5052.355776357776\n",
            "beta_1 =  [-4.2930794922175926]\n",
            "beta_0 =  [-245.69823972368187]\n",
            "--------------------------------------------------\n",
            "-------------------- Epoch 63.0-------------------\n",
            "Current loss :  5041.885928977266\n",
            "beta_1 =  [-4.2930794922175926]\n",
            "beta_0 =  [-245.69823972368187]\n",
            "--------------------------------------------------\n",
            "-------------------- Epoch 64.0-------------------\n",
            "Current loss :  5031.510425155157\n",
            "beta_1 =  [-4.2930794922175926]\n",
            "beta_0 =  [-245.69823972368187]\n",
            "--------------------------------------------------\n",
            "-------------------- Epoch 65.0-------------------\n",
            "Current loss :  5021.228414763771\n",
            "beta_1 =  [-4.2930794922175926]\n",
            "beta_0 =  [-245.69823972368187]\n",
            "--------------------------------------------------\n",
            "-------------------- Epoch 66.0-------------------\n",
            "Current loss :  5011.039055335917\n",
            "beta_1 =  [-4.2930794922175926]\n",
            "beta_0 =  [-245.69823972368187]\n",
            "--------------------------------------------------\n",
            "-------------------- Epoch 67.0-------------------\n",
            "Current loss :  5000.941511995853\n",
            "beta_1 =  [-4.2930794922175926]\n",
            "beta_0 =  [-245.69823972368187]\n",
            "--------------------------------------------------\n",
            "-------------------- Epoch 68.0-------------------\n",
            "Current loss :  4990.934957390885\n",
            "beta_1 =  [-4.2930794922175926]\n",
            "beta_0 =  [-245.69823972368187]\n",
            "--------------------------------------------------\n",
            "-------------------- Epoch 69.0-------------------\n",
            "Current loss :  4981.018571623576\n",
            "beta_1 =  [-4.2930794922175926]\n",
            "beta_0 =  [-245.69823972368187]\n",
            "--------------------------------------------------\n",
            "-------------------- Epoch 70.0-------------------\n",
            "Current loss :  4971.191542184564\n",
            "beta_1 =  [-4.2930794922175926]\n",
            "beta_0 =  [-245.69823972368187]\n",
            "--------------------------------------------------\n",
            "-------------------- Epoch 71.0-------------------\n",
            "Current loss :  4961.4530638859915\n",
            "beta_1 =  [-4.2930794922175926]\n",
            "beta_0 =  [-245.69823972368187]\n",
            "--------------------------------------------------\n",
            "-------------------- Epoch 72.0-------------------\n",
            "Current loss :  4951.80233879553\n",
            "beta_1 =  [-4.2930794922175926]\n",
            "beta_0 =  [-245.69823972368187]\n",
            "--------------------------------------------------\n",
            "-------------------- Epoch 73.0-------------------\n",
            "Current loss :  4942.238576171006\n",
            "beta_1 =  [-4.2930794922175926]\n",
            "beta_0 =  [-245.69823972368187]\n",
            "--------------------------------------------------\n",
            "-------------------- Epoch 74.0-------------------\n",
            "Current loss :  4932.760992395597\n",
            "beta_1 =  [-4.2930794922175926]\n",
            "beta_0 =  [-245.69823972368187]\n",
            "--------------------------------------------------\n",
            "-------------------- Epoch 75.0-------------------\n",
            "Current loss :  4923.368810913644\n",
            "beta_1 =  [-4.2930794922175926]\n",
            "beta_0 =  [-245.69823972368187]\n",
            "--------------------------------------------------\n",
            "-------------------- Epoch 76.0-------------------\n",
            "Current loss :  4914.061262167005\n",
            "beta_1 =  [-4.2930794922175926]\n",
            "beta_0 =  [-245.69823972368187]\n",
            "--------------------------------------------------\n",
            "-------------------- Epoch 77.0-------------------\n",
            "Current loss :  4904.837583532014\n",
            "beta_1 =  [-4.2930794922175926]\n",
            "beta_0 =  [-245.69823972368187]\n",
            "--------------------------------------------------\n",
            "-------------------- Epoch 78.0-------------------\n",
            "Current loss :  4895.697019256989\n",
            "beta_1 =  [-4.2930794922175926]\n",
            "beta_0 =  [-245.69823972368187]\n",
            "--------------------------------------------------\n",
            "-------------------- Epoch 79.0-------------------\n",
            "Current loss :  4886.638820400306\n",
            "beta_1 =  [-4.2930794922175926]\n",
            "beta_0 =  [-245.69823972368187]\n",
            "--------------------------------------------------\n",
            "-------------------- Epoch 80.0-------------------\n",
            "Current loss :  4877.662244769043\n",
            "beta_1 =  [-4.2930794922175926]\n",
            "beta_0 =  [-245.69823972368187]\n",
            "--------------------------------------------------\n",
            "-------------------- Epoch 81.0-------------------\n",
            "Current loss :  4868.766556858156\n",
            "beta_1 =  [-4.2930794922175926]\n",
            "beta_0 =  [-245.69823972368187]\n",
            "--------------------------------------------------\n",
            "-------------------- Epoch 82.0-------------------\n",
            "Current loss :  4859.951027790224\n",
            "beta_1 =  [-4.2930794922175926]\n",
            "beta_0 =  [-245.69823972368187]\n",
            "--------------------------------------------------\n",
            "-------------------- Epoch 83.0-------------------\n",
            "Current loss :  4851.21493525572\n",
            "beta_1 =  [-4.2930794922175926]\n",
            "beta_0 =  [-245.69823972368187]\n",
            "--------------------------------------------------\n",
            "-------------------- Epoch 84.0-------------------\n",
            "Current loss :  4842.557563453835\n",
            "beta_1 =  [-4.2930794922175926]\n",
            "beta_0 =  [-245.69823972368187]\n",
            "--------------------------------------------------\n",
            "-------------------- Epoch 85.0-------------------\n",
            "Current loss :  4833.978203033828\n",
            "beta_1 =  [-4.2930794922175926]\n",
            "beta_0 =  [-245.69823972368187]\n",
            "--------------------------------------------------\n",
            "-------------------- Epoch 86.0-------------------\n",
            "Current loss :  4825.476151036896\n",
            "beta_1 =  [-4.2930794922175926]\n",
            "beta_0 =  [-245.69823972368187]\n",
            "--------------------------------------------------\n",
            "-------------------- Epoch 87.0-------------------\n",
            "Current loss :  4817.050710838582\n",
            "beta_1 =  [-4.2930794922175926]\n",
            "beta_0 =  [-245.69823972368187]\n",
            "--------------------------------------------------\n",
            "-------------------- Epoch 88.0-------------------\n",
            "Current loss :  4808.7011920917\n",
            "beta_1 =  [-4.2930794922175926]\n",
            "beta_0 =  [-245.69823972368187]\n",
            "--------------------------------------------------\n",
            "-------------------- Epoch 89.0-------------------\n",
            "Current loss :  4800.426910669764\n",
            "beta_1 =  [-4.2930794922175926]\n",
            "beta_0 =  [-245.69823972368187]\n",
            "--------------------------------------------------\n",
            "-------------------- Epoch 90.0-------------------\n",
            "Current loss :  4792.227188610938\n",
            "beta_1 =  [-4.2930794922175926]\n",
            "beta_0 =  [-245.69823972368187]\n",
            "--------------------------------------------------\n",
            "-------------------- Epoch 91.0-------------------\n",
            "Current loss :  4784.101354062484\n",
            "beta_1 =  [-4.2930794922175926]\n",
            "beta_0 =  [-245.69823972368187]\n",
            "--------------------------------------------------\n",
            "-------------------- Epoch 92.0-------------------\n",
            "Current loss :  4776.048741225714\n",
            "beta_1 =  [-4.2930794922175926]\n",
            "beta_0 =  [-245.69823972368187]\n",
            "--------------------------------------------------\n",
            "-------------------- Epoch 93.0-------------------\n",
            "Current loss :  4768.0686903014375\n",
            "beta_1 =  [-4.2930794922175926]\n",
            "beta_0 =  [-245.69823972368187]\n",
            "--------------------------------------------------\n",
            "-------------------- Epoch 94.0-------------------\n",
            "Current loss :  4760.1605474358985\n",
            "beta_1 =  [-4.2930794922175926]\n",
            "beta_0 =  [-245.69823972368187]\n",
            "--------------------------------------------------\n",
            "-------------------- Epoch 95.0-------------------\n",
            "Current loss :  4752.323664667203\n",
            "beta_1 =  [-4.2930794922175926]\n",
            "beta_0 =  [-245.69823972368187]\n",
            "--------------------------------------------------\n",
            "-------------------- Epoch 96.0-------------------\n",
            "Current loss :  4744.557399872225\n",
            "beta_1 =  [-4.2930794922175926]\n",
            "beta_0 =  [-245.69823972368187]\n",
            "--------------------------------------------------\n",
            "-------------------- Epoch 97.0-------------------\n",
            "Current loss :  4736.861116714\n",
            "beta_1 =  [-4.2930794922175926]\n",
            "beta_0 =  [-245.69823972368187]\n",
            "--------------------------------------------------\n",
            "-------------------- Epoch 98.0-------------------\n",
            "Current loss :  4729.234184589578\n",
            "beta_1 =  [-4.2930794922175926]\n",
            "beta_0 =  [-245.69823972368187]\n",
            "--------------------------------------------------\n",
            "-------------------- Epoch 99.0-------------------\n",
            "Current loss :  4721.675978578361\n",
            "beta_1 =  [-4.2930794922175926]\n",
            "beta_0 =  [-245.69823972368187]\n",
            "--------------------------------------------------\n",
            "-------------------- Epoch 100.0-------------------\n",
            "Current loss :  4714.1858793908905\n",
            "beta_1 =  [-4.2930794922175926]\n",
            "beta_0 =  [-245.69823972368187]\n",
            "--------------------------------------------------\n"
          ]
        }
      ]
    },
    {
      "cell_type": "code",
      "metadata": {
        "colab": {
          "base_uri": "https://localhost:8080/"
        },
        "id": "g0ruc9W63AwU",
        "outputId": "c8b3b6d7-4ba3-47ac-9c8e-b54a356340eb"
      },
      "source": [
        "beta_1"
      ],
      "execution_count": 159,
      "outputs": [
        {
          "output_type": "execute_result",
          "data": {
            "text/plain": [
              "-0.0015200821843354322"
            ]
          },
          "metadata": {},
          "execution_count": 159
        }
      ]
    },
    {
      "cell_type": "markdown",
      "metadata": {
        "id": "eeXT-MEa1nGD"
      },
      "source": [
        "* Using `plotly`, view your model and actual values again"
      ]
    },
    {
      "cell_type": "code",
      "metadata": {
        "colab": {
          "base_uri": "https://localhost:8080/",
          "height": 542
        },
        "id": "2_j_cdl92MfP",
        "outputId": "7aac7e96-5ef2-413c-d281-e92197d61b20"
      },
      "source": [
        "fig = go.Figure()\n",
        "fig.add_trace(go.Scatter(x=diabetes_X,\n",
        "                         y=y, \n",
        "                         name='target',\n",
        "                         mode='markers'\n",
        "                         ))\n",
        "fig.add_trace(go.Scatter(x = diabetes_X ,\n",
        "                         y = model(diabetes_X),\n",
        "                         name= 'predictions'\n",
        "                         ))\n",
        "fig.update_layout(title= dict(text =\"Target vs Prediction\"))\n",
        "\n",
        "fig.show()"
      ],
      "execution_count": 26,
      "outputs": [
        {
          "output_type": "display_data",
          "data": {
            "text/html": [
              "<html>\n",
              "<head><meta charset=\"utf-8\" /></head>\n",
              "<body>\n",
              "    <div>\n",
              "            <script src=\"https://cdnjs.cloudflare.com/ajax/libs/mathjax/2.7.5/MathJax.js?config=TeX-AMS-MML_SVG\"></script><script type=\"text/javascript\">if (window.MathJax) {MathJax.Hub.Config({SVG: {font: \"STIX-Web\"}});}</script>\n",
              "                <script type=\"text/javascript\">window.PlotlyConfig = {MathJaxConfig: 'local'};</script>\n",
              "        <script src=\"https://cdn.plot.ly/plotly-latest.min.js\"></script>    \n",
              "            <div id=\"8e3dfe76-7533-4942-b428-25b22ef0c189\" class=\"plotly-graph-div\" style=\"height:525px; width:100%;\"></div>\n",
              "            <script type=\"text/javascript\">\n",
              "                \n",
              "                    window.PLOTLYENV=window.PLOTLYENV || {};\n",
              "                    \n",
              "                if (document.getElementById(\"8e3dfe76-7533-4942-b428-25b22ef0c189\")) {\n",
              "                    Plotly.newPlot(\n",
              "                        '8e3dfe76-7533-4942-b428-25b22ef0c189',\n",
              "                        [{\"mode\": \"markers\", \"name\": \"target\", \"type\": \"scatter\", \"x\": [0.0616962065186885, -0.0514740612388061, 0.0444512133365941, -0.0115950145052127, -0.0363846922044735, -0.0406959404999971, -0.0471628129432825, -0.00189470584028465, 0.0616962065186885, 0.0390621529671896, -0.0838084234552331, 0.0175059114895716, -0.0288400076873072, -0.00189470584028465, -0.0256065714656645, -0.0180618869484982, 0.0422955891888323, 0.0121168511201671, -0.0105172024313319, -0.0180618869484982, -0.0568631216082106, -0.0223731352440218, -0.00405032998804645, 0.0606183944448076, 0.0358287167455469, -0.0126728265790937, -0.0773415510119477, 0.0595405823709267, -0.0212953231701409, -0.00620595413580824, 0.0444512133365941, -0.0654856181992578, 0.125287118877662, -0.0503962491649252, -0.063329994051496, -0.030995631835069, 0.0228949718589761, 0.0110390390462862, 0.0713965151836166, 0.0142724752679289, -0.00836157828357004, -0.0676412423470196, -0.0105172024313319, -0.0234509473179027, 0.068163078961974, -0.0353068801305926, -0.0115950145052127, -0.0730303027164241, -0.041773752573878, 0.0142724752679289, -0.00728376620968916, 0.0164280994156907, -0.00943939035745095, -0.0159062628007364, 0.0250505960067379, -0.0493184370910443, 0.0412177771149514, -0.063329994051496, -0.064407806125377, -0.0256065714656645, -0.00405032998804645, 0.00457216660300077, -0.00728376620968916, -0.0374625042783544, -0.0256065714656645, -0.0245287593917836, -0.0180618869484982, -0.0148284507268555, -0.0299178197611881, -0.0460850008694016, -0.0697968664947814, 0.0336730925977851, -0.00405032998804645, -0.02021751109626, 0.00241654245523897, -0.030995631835069, 0.0282840322283806, -0.0363846922044735, -0.0579409336820915, -0.0374625042783544, 0.0121168511201671, -0.0223731352440218, -0.0353068801305926, 0.00996122697240527, -0.0396181284261162, 0.0713965151836166, -0.0751859268641859, -0.00620595413580824, -0.0406959404999971, -0.0482406250171634, -0.0256065714656645, 0.0519958978537604, 0.00457216660300077, -0.064407806125377, -0.0169840748746173, -0.0579409336820915, 0.00996122697240527, 0.088641508365711, -0.00512814206192736, -0.064407806125377, 0.0175059114895716, -0.0450071887955207, 0.0282840322283806, 0.0412177771149514, 0.0649296427403312, -0.0320734439089499, -0.0762637389380668, 0.0498402737059986, 0.045529025410475, -0.00943939035745095, -0.0320734439089499, 0.00457216660300077, 0.0207393477112143, 0.0142724752679289, 0.110197749843329, 0.00133873038135806, 0.0584627702970458, -0.0212953231701409, -0.0105172024313319, -0.0471628129432825, 0.00457216660300077, 0.0175059114895716, 0.0810968238485447, 0.034750904671666, 0.023972783932857, -0.00836157828357004, -0.0611743699037342, -0.00189470584028465, -0.0622521819776151, 0.0164280994156907, 0.0961861928828773, -0.0697968664947814, -0.0212953231701409, -0.0536296853865679, 0.0433734012627132, 0.056307146149284, -0.0816527993074713, 0.0498402737059986, 0.11127556191721, 0.0616962065186885, 0.0142724752679289, 0.0476846495582368, 0.0121168511201671, 0.00564997867688165, 0.0466068374843559, 0.128520555099304, 0.0595405823709267, 0.0929527566612346, 0.0153502873418098, -0.00512814206192736, 0.0703187031097357, -0.00405032998804645, -0.000816893766403737, -0.0439293767216398, 0.0207393477112143, 0.0606183944448076, -0.0105172024313319, -0.0331512559828308, -0.0654856181992578, 0.0433734012627132, -0.0622521819776151, 0.0638518306664503, 0.0304396563761424, 0.0724743272574975, -0.019139699022379, -0.0665634302731387, -0.0600965578298533, 0.0692408910358548, 0.0595405823709267, -0.0266843835395454, -0.02021751109626, -0.0460850008694016, 0.0713965151836166, -0.0794971751597095, 0.00996122697240527, -0.0385403163522353, 0.0196615356373334, 0.0272062201544997, -0.00836157828357004, -0.0159062628007364, 0.00457216660300077, -0.0428515646477589, 0.00564997867688165, -0.0353068801305926, 0.023972783932857, -0.0180618869484982, 0.0422955891888323, -0.0547074974604488, -0.00297251791416553, -0.0665634302731387, -0.0126728265790937, -0.041773752573878, -0.030995631835069, -0.00512814206192736, -0.0590187457559724, 0.0250505960067379, -0.0460850008694016, 0.00349435452911985, 0.0541515220015222, -0.0450071887955207, -0.0579409336820915, -0.0557853095343297, 0.00133873038135806, 0.0304396563761424, 0.00672779075076256, 0.0466068374843559, 0.0261284080806188, 0.045529025410475, 0.0401399650410705, -0.0180618869484982, 0.0142724752679289, 0.0369065288194278, 0.00349435452911985, -0.0708746785686623, -0.0331512559828308, 0.0940305687351156, 0.0358287167455469, 0.0315174684500233, -0.0654856181992578, -0.041773752573878, -0.0396181284261162, -0.0385403163522353, -0.0256065714656645, -0.0234509473179027, -0.0665634302731387, 0.0325952805239042, -0.0460850008694016, -0.0299178197611881, -0.0126728265790937, -0.0159062628007364, 0.0713965151836166, -0.030995631835069, 0.000260918307477141, 0.0369065288194278, 0.0390621529671896, -0.0148284507268555, 0.00672779075076256, -0.0687190544209005, -0.00943939035745095, 0.0196615356373334, 0.0746299514052593, -0.00836157828357004, -0.0234509473179027, -0.0460850008694016, 0.0541515220015222, -0.0353068801305926, -0.0320734439089499, -0.0816527993074713, 0.0476846495582368, 0.0606183944448076, 0.056307146149284, 0.098341817030639, 0.0595405823709267, 0.0336730925977851, 0.056307146149284, -0.0654856181992578, 0.160854917315731, -0.0557853095343297, -0.0245287593917836, -0.0363846922044735, -0.00836157828357004, -0.041773752573878, 0.127442743025423, -0.0773415510119477, 0.0282840322283806, -0.0256065714656645, -0.0622521819776151, -0.000816893766403737, 0.088641508365711, -0.0320734439089499, 0.0304396563761424, 0.00888341489852436, 0.00672779075076256, -0.02021751109626, -0.0245287593917836, -0.0115950145052127, 0.0261284080806188, -0.0590187457559724, -0.0363846922044735, -0.0245287593917836, 0.0185837235634525, -0.0902752958985185, -0.00512814206192736, -0.052551873312687, -0.0223731352440218, -0.02021751109626, -0.0547074974604488, -0.00620595413580824, -0.0169840748746173, 0.0552293340754031, 0.0767855755530211, 0.0185837235634525, -0.0223731352440218, 0.0929527566612346, -0.030995631835069, 0.0390621529671896, -0.0611743699037342, -0.00836157828357004, -0.0374625042783544, -0.0137506386529745, 0.0735521393313785, -0.0245287593917836, 0.0336730925977851, 0.034750904671666, -0.0385403163522353, -0.0396181284261162, -0.00189470584028465, -0.030995631835069, -0.0460850008694016, 0.00133873038135806, 0.0649296427403312, 0.0401399650410705, -0.0234509473179027, 0.0530737099276413, 0.0401399650410705, -0.02021751109626, 0.0142724752679289, -0.0342290680567117, 0.00672779075076256, 0.00457216660300077, 0.0304396563761424, 0.0519958978537604, 0.0616962065186885, -0.00728376620968916, 0.00564997867688165, 0.0541515220015222, -0.00836157828357004, 0.114508998138853, 0.067085266888093, -0.0557853095343297, 0.0304396563761424, -0.0256065714656645, 0.104808689473925, -0.00620595413580824, -0.0471628129432825, -0.0482406250171634, 0.0854080721440683, -0.0126728265790937, -0.0331512559828308, -0.00728376620968916, -0.0137506386529745, 0.0595405823709267, 0.0218171597850952, 0.0185837235634525, -0.0115950145052127, -0.00297251791416553, 0.0175059114895716, -0.0299178197611881, -0.02021751109626, -0.0579409336820915, 0.0606183944448076, -0.0406959404999971, -0.0719524906425432, -0.0557853095343297, 0.045529025410475, -0.00943939035745095, -0.0331512559828308, 0.0498402737059986, -0.084886235529114, 0.00564997867688165, 0.0207393477112143, -0.00728376620968916, 0.104808689473925, -0.0245287593917836, -0.00620595413580824, -0.0385403163522353, 0.137143051690352, 0.17055522598066, 0.00241654245523897, 0.0379843408933087, -0.0579409336820915, -0.00943939035745095, -0.0234509473179027, -0.0105172024313319, -0.0342290680567117, -0.00297251791416553, 0.068163078961974, 0.00996122697240527, 0.00241654245523897, -0.0385403163522353, 0.0261284080806188, -0.0891974838246376, 0.0606183944448076, -0.0288400076873072, -0.0299178197611881, -0.019139699022379, -0.0406959404999971, 0.0153502873418098, -0.0245287593917836, 0.00133873038135806, 0.0692408910358548, -0.0697968664947814, -0.0299178197611881, -0.0460850008694016, 0.0185837235634525, 0.00133873038135806, -0.030995631835069, -0.00405032998804645, 0.0153502873418098, 0.0228949718589761, 0.045529025410475, -0.0450071887955207, -0.0331512559828308, 0.0972640049567582, 0.0541515220015222, 0.1231314947299, -0.0805749872335904, 0.0929527566612346, -0.0503962491649252, -0.0115950145052127, -0.0277621956134263, 0.0584627702970458, 0.0854080721440683, -0.000816893766403737, 0.00672779075076256, 0.00888341489852436, 0.0800190117746638, 0.0713965151836166, -0.0245287593917836, -0.0547074974604488, -0.0363846922044735, 0.0164280994156907, 0.077863387626902, -0.0396181284261162, 0.0110390390462862, -0.0406959404999971, -0.0342290680567117, 0.00564997867688165, 0.088641508365711, -0.0331512559828308, -0.0568631216082106, -0.030995631835069, 0.0552293340754031, -0.0600965578298533, 0.00133873038135806, -0.0234509473179027, -0.074108114790305, 0.0196615356373334, -0.0159062628007364, -0.0159062628007364, 0.0390621529671896, -0.0730303027164241], \"y\": [151.0, 75.0, 141.0, 206.0, 135.0, 97.0, 138.0, 63.0, 110.0, 310.0, 101.0, 69.0, 179.0, 185.0, 118.0, 171.0, 166.0, 144.0, 97.0, 168.0, 68.0, 49.0, 68.0, 245.0, 184.0, 202.0, 137.0, 85.0, 131.0, 283.0, 129.0, 59.0, 341.0, 87.0, 65.0, 102.0, 265.0, 276.0, 252.0, 90.0, 100.0, 55.0, 61.0, 92.0, 259.0, 53.0, 190.0, 142.0, 75.0, 142.0, 155.0, 225.0, 59.0, 104.0, 182.0, 128.0, 52.0, 37.0, 170.0, 170.0, 61.0, 144.0, 52.0, 128.0, 71.0, 163.0, 150.0, 97.0, 160.0, 178.0, 48.0, 270.0, 202.0, 111.0, 85.0, 42.0, 170.0, 200.0, 252.0, 113.0, 143.0, 51.0, 52.0, 210.0, 65.0, 141.0, 55.0, 134.0, 42.0, 111.0, 98.0, 164.0, 48.0, 96.0, 90.0, 162.0, 150.0, 279.0, 92.0, 83.0, 128.0, 102.0, 302.0, 198.0, 95.0, 53.0, 134.0, 144.0, 232.0, 81.0, 104.0, 59.0, 246.0, 297.0, 258.0, 229.0, 275.0, 281.0, 179.0, 200.0, 200.0, 173.0, 180.0, 84.0, 121.0, 161.0, 99.0, 109.0, 115.0, 268.0, 274.0, 158.0, 107.0, 83.0, 103.0, 272.0, 85.0, 280.0, 336.0, 281.0, 118.0, 317.0, 235.0, 60.0, 174.0, 259.0, 178.0, 128.0, 96.0, 126.0, 288.0, 88.0, 292.0, 71.0, 197.0, 186.0, 25.0, 84.0, 96.0, 195.0, 53.0, 217.0, 172.0, 131.0, 214.0, 59.0, 70.0, 220.0, 268.0, 152.0, 47.0, 74.0, 295.0, 101.0, 151.0, 127.0, 237.0, 225.0, 81.0, 151.0, 107.0, 64.0, 138.0, 185.0, 265.0, 101.0, 137.0, 143.0, 141.0, 79.0, 292.0, 178.0, 91.0, 116.0, 86.0, 122.0, 72.0, 129.0, 142.0, 90.0, 158.0, 39.0, 196.0, 222.0, 277.0, 99.0, 196.0, 202.0, 155.0, 77.0, 191.0, 70.0, 73.0, 49.0, 65.0, 263.0, 248.0, 296.0, 214.0, 185.0, 78.0, 93.0, 252.0, 150.0, 77.0, 208.0, 77.0, 108.0, 160.0, 53.0, 220.0, 154.0, 259.0, 90.0, 246.0, 124.0, 67.0, 72.0, 257.0, 262.0, 275.0, 177.0, 71.0, 47.0, 187.0, 125.0, 78.0, 51.0, 258.0, 215.0, 303.0, 243.0, 91.0, 150.0, 310.0, 153.0, 346.0, 63.0, 89.0, 50.0, 39.0, 103.0, 308.0, 116.0, 145.0, 74.0, 45.0, 115.0, 264.0, 87.0, 202.0, 127.0, 182.0, 241.0, 66.0, 94.0, 283.0, 64.0, 102.0, 200.0, 265.0, 94.0, 230.0, 181.0, 156.0, 233.0, 60.0, 219.0, 80.0, 68.0, 332.0, 248.0, 84.0, 200.0, 55.0, 85.0, 89.0, 31.0, 129.0, 83.0, 275.0, 65.0, 198.0, 236.0, 253.0, 124.0, 44.0, 172.0, 114.0, 142.0, 109.0, 180.0, 144.0, 163.0, 147.0, 97.0, 220.0, 190.0, 109.0, 191.0, 122.0, 230.0, 242.0, 248.0, 249.0, 192.0, 131.0, 237.0, 78.0, 135.0, 244.0, 199.0, 270.0, 164.0, 72.0, 96.0, 306.0, 91.0, 214.0, 95.0, 216.0, 263.0, 178.0, 113.0, 200.0, 139.0, 139.0, 88.0, 148.0, 88.0, 243.0, 71.0, 77.0, 109.0, 272.0, 60.0, 54.0, 221.0, 90.0, 311.0, 281.0, 182.0, 321.0, 58.0, 262.0, 206.0, 233.0, 242.0, 123.0, 167.0, 63.0, 197.0, 71.0, 168.0, 140.0, 217.0, 121.0, 235.0, 245.0, 40.0, 52.0, 104.0, 132.0, 88.0, 69.0, 219.0, 72.0, 201.0, 110.0, 51.0, 277.0, 63.0, 118.0, 69.0, 273.0, 258.0, 43.0, 198.0, 242.0, 232.0, 175.0, 93.0, 168.0, 275.0, 293.0, 281.0, 72.0, 140.0, 189.0, 181.0, 209.0, 136.0, 261.0, 113.0, 131.0, 174.0, 257.0, 55.0, 84.0, 42.0, 146.0, 212.0, 233.0, 91.0, 111.0, 152.0, 120.0, 67.0, 310.0, 94.0, 183.0, 66.0, 173.0, 72.0, 49.0, 64.0, 48.0, 178.0, 104.0, 132.0, 220.0, 57.0]}, {\"name\": \"predictions\", \"type\": \"scatter\", \"x\": [0.0616962065186885, -0.0514740612388061, 0.0444512133365941, -0.0115950145052127, -0.0363846922044735, -0.0406959404999971, -0.0471628129432825, -0.00189470584028465, 0.0616962065186885, 0.0390621529671896, -0.0838084234552331, 0.0175059114895716, -0.0288400076873072, -0.00189470584028465, -0.0256065714656645, -0.0180618869484982, 0.0422955891888323, 0.0121168511201671, -0.0105172024313319, -0.0180618869484982, -0.0568631216082106, -0.0223731352440218, -0.00405032998804645, 0.0606183944448076, 0.0358287167455469, -0.0126728265790937, -0.0773415510119477, 0.0595405823709267, -0.0212953231701409, -0.00620595413580824, 0.0444512133365941, -0.0654856181992578, 0.125287118877662, -0.0503962491649252, -0.063329994051496, -0.030995631835069, 0.0228949718589761, 0.0110390390462862, 0.0713965151836166, 0.0142724752679289, -0.00836157828357004, -0.0676412423470196, -0.0105172024313319, -0.0234509473179027, 0.068163078961974, -0.0353068801305926, -0.0115950145052127, -0.0730303027164241, -0.041773752573878, 0.0142724752679289, -0.00728376620968916, 0.0164280994156907, -0.00943939035745095, -0.0159062628007364, 0.0250505960067379, -0.0493184370910443, 0.0412177771149514, -0.063329994051496, -0.064407806125377, -0.0256065714656645, -0.00405032998804645, 0.00457216660300077, -0.00728376620968916, -0.0374625042783544, -0.0256065714656645, -0.0245287593917836, -0.0180618869484982, -0.0148284507268555, -0.0299178197611881, -0.0460850008694016, -0.0697968664947814, 0.0336730925977851, -0.00405032998804645, -0.02021751109626, 0.00241654245523897, -0.030995631835069, 0.0282840322283806, -0.0363846922044735, -0.0579409336820915, -0.0374625042783544, 0.0121168511201671, -0.0223731352440218, -0.0353068801305926, 0.00996122697240527, -0.0396181284261162, 0.0713965151836166, -0.0751859268641859, -0.00620595413580824, -0.0406959404999971, -0.0482406250171634, -0.0256065714656645, 0.0519958978537604, 0.00457216660300077, -0.064407806125377, -0.0169840748746173, -0.0579409336820915, 0.00996122697240527, 0.088641508365711, -0.00512814206192736, -0.064407806125377, 0.0175059114895716, -0.0450071887955207, 0.0282840322283806, 0.0412177771149514, 0.0649296427403312, -0.0320734439089499, -0.0762637389380668, 0.0498402737059986, 0.045529025410475, -0.00943939035745095, -0.0320734439089499, 0.00457216660300077, 0.0207393477112143, 0.0142724752679289, 0.110197749843329, 0.00133873038135806, 0.0584627702970458, -0.0212953231701409, -0.0105172024313319, -0.0471628129432825, 0.00457216660300077, 0.0175059114895716, 0.0810968238485447, 0.034750904671666, 0.023972783932857, -0.00836157828357004, -0.0611743699037342, -0.00189470584028465, -0.0622521819776151, 0.0164280994156907, 0.0961861928828773, -0.0697968664947814, -0.0212953231701409, -0.0536296853865679, 0.0433734012627132, 0.056307146149284, -0.0816527993074713, 0.0498402737059986, 0.11127556191721, 0.0616962065186885, 0.0142724752679289, 0.0476846495582368, 0.0121168511201671, 0.00564997867688165, 0.0466068374843559, 0.128520555099304, 0.0595405823709267, 0.0929527566612346, 0.0153502873418098, -0.00512814206192736, 0.0703187031097357, -0.00405032998804645, -0.000816893766403737, -0.0439293767216398, 0.0207393477112143, 0.0606183944448076, -0.0105172024313319, -0.0331512559828308, -0.0654856181992578, 0.0433734012627132, -0.0622521819776151, 0.0638518306664503, 0.0304396563761424, 0.0724743272574975, -0.019139699022379, -0.0665634302731387, -0.0600965578298533, 0.0692408910358548, 0.0595405823709267, -0.0266843835395454, -0.02021751109626, -0.0460850008694016, 0.0713965151836166, -0.0794971751597095, 0.00996122697240527, -0.0385403163522353, 0.0196615356373334, 0.0272062201544997, -0.00836157828357004, -0.0159062628007364, 0.00457216660300077, -0.0428515646477589, 0.00564997867688165, -0.0353068801305926, 0.023972783932857, -0.0180618869484982, 0.0422955891888323, -0.0547074974604488, -0.00297251791416553, -0.0665634302731387, -0.0126728265790937, -0.041773752573878, -0.030995631835069, -0.00512814206192736, -0.0590187457559724, 0.0250505960067379, -0.0460850008694016, 0.00349435452911985, 0.0541515220015222, -0.0450071887955207, -0.0579409336820915, -0.0557853095343297, 0.00133873038135806, 0.0304396563761424, 0.00672779075076256, 0.0466068374843559, 0.0261284080806188, 0.045529025410475, 0.0401399650410705, -0.0180618869484982, 0.0142724752679289, 0.0369065288194278, 0.00349435452911985, -0.0708746785686623, -0.0331512559828308, 0.0940305687351156, 0.0358287167455469, 0.0315174684500233, -0.0654856181992578, -0.041773752573878, -0.0396181284261162, -0.0385403163522353, -0.0256065714656645, -0.0234509473179027, -0.0665634302731387, 0.0325952805239042, -0.0460850008694016, -0.0299178197611881, -0.0126728265790937, -0.0159062628007364, 0.0713965151836166, -0.030995631835069, 0.000260918307477141, 0.0369065288194278, 0.0390621529671896, -0.0148284507268555, 0.00672779075076256, -0.0687190544209005, -0.00943939035745095, 0.0196615356373334, 0.0746299514052593, -0.00836157828357004, -0.0234509473179027, -0.0460850008694016, 0.0541515220015222, -0.0353068801305926, -0.0320734439089499, -0.0816527993074713, 0.0476846495582368, 0.0606183944448076, 0.056307146149284, 0.098341817030639, 0.0595405823709267, 0.0336730925977851, 0.056307146149284, -0.0654856181992578, 0.160854917315731, -0.0557853095343297, -0.0245287593917836, -0.0363846922044735, -0.00836157828357004, -0.041773752573878, 0.127442743025423, -0.0773415510119477, 0.0282840322283806, -0.0256065714656645, -0.0622521819776151, -0.000816893766403737, 0.088641508365711, -0.0320734439089499, 0.0304396563761424, 0.00888341489852436, 0.00672779075076256, -0.02021751109626, -0.0245287593917836, -0.0115950145052127, 0.0261284080806188, -0.0590187457559724, -0.0363846922044735, -0.0245287593917836, 0.0185837235634525, -0.0902752958985185, -0.00512814206192736, -0.052551873312687, -0.0223731352440218, -0.02021751109626, -0.0547074974604488, -0.00620595413580824, -0.0169840748746173, 0.0552293340754031, 0.0767855755530211, 0.0185837235634525, -0.0223731352440218, 0.0929527566612346, -0.030995631835069, 0.0390621529671896, -0.0611743699037342, -0.00836157828357004, -0.0374625042783544, -0.0137506386529745, 0.0735521393313785, -0.0245287593917836, 0.0336730925977851, 0.034750904671666, -0.0385403163522353, -0.0396181284261162, -0.00189470584028465, -0.030995631835069, -0.0460850008694016, 0.00133873038135806, 0.0649296427403312, 0.0401399650410705, -0.0234509473179027, 0.0530737099276413, 0.0401399650410705, -0.02021751109626, 0.0142724752679289, -0.0342290680567117, 0.00672779075076256, 0.00457216660300077, 0.0304396563761424, 0.0519958978537604, 0.0616962065186885, -0.00728376620968916, 0.00564997867688165, 0.0541515220015222, -0.00836157828357004, 0.114508998138853, 0.067085266888093, -0.0557853095343297, 0.0304396563761424, -0.0256065714656645, 0.104808689473925, -0.00620595413580824, -0.0471628129432825, -0.0482406250171634, 0.0854080721440683, -0.0126728265790937, -0.0331512559828308, -0.00728376620968916, -0.0137506386529745, 0.0595405823709267, 0.0218171597850952, 0.0185837235634525, -0.0115950145052127, -0.00297251791416553, 0.0175059114895716, -0.0299178197611881, -0.02021751109626, -0.0579409336820915, 0.0606183944448076, -0.0406959404999971, -0.0719524906425432, -0.0557853095343297, 0.045529025410475, -0.00943939035745095, -0.0331512559828308, 0.0498402737059986, -0.084886235529114, 0.00564997867688165, 0.0207393477112143, -0.00728376620968916, 0.104808689473925, -0.0245287593917836, -0.00620595413580824, -0.0385403163522353, 0.137143051690352, 0.17055522598066, 0.00241654245523897, 0.0379843408933087, -0.0579409336820915, -0.00943939035745095, -0.0234509473179027, -0.0105172024313319, -0.0342290680567117, -0.00297251791416553, 0.068163078961974, 0.00996122697240527, 0.00241654245523897, -0.0385403163522353, 0.0261284080806188, -0.0891974838246376, 0.0606183944448076, -0.0288400076873072, -0.0299178197611881, -0.019139699022379, -0.0406959404999971, 0.0153502873418098, -0.0245287593917836, 0.00133873038135806, 0.0692408910358548, -0.0697968664947814, -0.0299178197611881, -0.0460850008694016, 0.0185837235634525, 0.00133873038135806, -0.030995631835069, -0.00405032998804645, 0.0153502873418098, 0.0228949718589761, 0.045529025410475, -0.0450071887955207, -0.0331512559828308, 0.0972640049567582, 0.0541515220015222, 0.1231314947299, -0.0805749872335904, 0.0929527566612346, -0.0503962491649252, -0.0115950145052127, -0.0277621956134263, 0.0584627702970458, 0.0854080721440683, -0.000816893766403737, 0.00672779075076256, 0.00888341489852436, 0.0800190117746638, 0.0713965151836166, -0.0245287593917836, -0.0547074974604488, -0.0363846922044735, 0.0164280994156907, 0.077863387626902, -0.0396181284261162, 0.0110390390462862, -0.0406959404999971, -0.0342290680567117, 0.00564997867688165, 0.088641508365711, -0.0331512559828308, -0.0568631216082106, -0.030995631835069, 0.0552293340754031, -0.0600965578298533, 0.00133873038135806, -0.0234509473179027, -0.074108114790305, 0.0196615356373334, -0.0159062628007364, -0.0159062628007364, 0.0390621529671896, -0.0730303027164241], \"y\": [173.49955620881798, 134.30745298557596, 167.5274261938478, 148.11800364519462, 139.5330667486749, 138.04003424493234, 135.80048548931853, 151.47732677861535, 173.49955620881798, 165.6611355641696, 123.10970920750684, 158.19597304545684, 142.14587363022437, 151.47732677861535, 143.2656480080313, 145.87845488958075, 166.78090994197652, 156.32968241577865, 148.4912617711302, 145.87845488958075, 132.44116235589777, 144.3854223858382, 150.73081052674405, 173.12629808288236, 164.54136118636268, 147.74474551925894, 125.34925796312066, 172.7530399569467, 144.75868051177383, 149.98429427487278, 167.5274261938478, 129.4550973484127, 195.52178563902078, 134.6807111115116, 130.20161360028396, 141.3993573783531, 160.06226367513503, 155.956424289843, 176.85887934223874, 157.07619866764992, 149.2377780230015, 128.70858109654142, 148.4912617711302, 144.01216425990256, 175.73910496443185, 139.90632487461053, 148.11800364519462, 126.84229046686322, 137.66677611899672, 157.07619866764992, 149.61103614893713, 157.8227149195212, 148.86451989706586, 146.62497114145202, 160.8087799270063, 135.05396923744726, 166.40765181604087, 130.20161360028396, 129.82835547434829, 143.2656480080313, 150.73081052674405, 153.71687553422916, 149.61103614893713, 139.15980862273926, 143.2656480080313, 143.6389061339669, 145.87845488958075, 146.99822926738767, 141.77261550428872, 136.17374361525415, 127.96206484467012, 163.7948449344914, 150.73081052674405, 145.13193863770948, 152.9703592823579, 141.3993573783531, 161.92855430481322, 139.5330667486749, 132.06790422996215, 139.15980862273926, 156.32968241577865, 144.3854223858382, 139.90632487461053, 155.58316616390735, 138.413292370868, 176.85887934223874, 126.09577421499193, 149.98429427487278, 138.04003424493234, 135.42722736338288, 143.2656480080313, 170.14023307539725, 153.71687553422916, 129.82835547434829, 146.2517130155164, 132.06790422996215, 155.58316616390735, 182.83100935720893, 150.35755240080843, 129.82835547434829, 158.19597304545684, 136.5470017411898, 161.92855430481322, 166.40765181604087, 174.6193305866249, 141.02609925241745, 125.7225160890563, 169.39371682352598, 167.90068431978344, 148.86451989706586, 141.02609925241745, 153.71687553422916, 159.31574742326376, 157.07619866764992, 190.2961718759217, 152.59710115642224, 172.3797818310111, 144.75868051177383, 148.4912617711302, 135.80048548931853, 153.71687553422916, 158.19597304545684, 180.21820247565947, 164.16810306042706, 160.43552180107068, 149.2377780230015, 130.94812985215523, 151.47732677861535, 130.5748717262196, 157.8227149195212, 185.44381623875842, 127.96206484467012, 144.75868051177383, 133.5609367337047, 167.15416806791214, 171.6332655791398, 123.85622545937812, 169.39371682352598, 190.66943000185736, 173.49955620881798, 157.07619866764992, 168.6472005716547, 156.32968241577865, 154.0901336601648, 168.27394244571906, 196.64156001682744, 172.7530399569467, 184.3240418609515, 157.44945679358557, 150.35755240080843, 176.4856212163031, 150.73081052674405, 151.85058490455097, 136.92025986712545, 159.31574742326376, 173.12629808288236, 148.4912617711302, 140.65284112648183, 129.4550973484127, 167.15416806791214, 130.5748717262196, 174.24607246068928, 162.6750705566845, 177.23213746817436, 145.50519676364516, 129.08183922247704, 131.32138797809088, 176.11236309036747, 172.7530399569467, 142.89238988209564, 145.13193863770948, 136.17374361525415, 176.85887934223874, 124.6027417112494, 155.58316616390735, 138.78655049680364, 158.9424892973281, 161.55529617887757, 149.2377780230015, 146.62497114145202, 153.71687553422916, 137.29351799306107, 154.0901336601648, 139.90632487461053, 160.43552180107068, 145.87845488958075, 166.78090994197652, 133.18767860776907, 151.1040686526797, 129.08183922247704, 147.74474551925894, 137.66677611899672, 141.3993573783531, 150.35755240080843, 131.6946461040265, 160.8087799270063, 136.17374361525415, 153.34361740829354, 170.88674932726852, 136.5470017411898, 132.06790422996215, 132.81442048183342, 152.59710115642224, 162.6750705566845, 154.46339178610043, 168.27394244571906, 161.18203805294195, 167.90068431978344, 166.03439369010525, 145.87845488958075, 157.07619866764992, 164.91461931229833, 153.34361740829354, 127.5888067187345, 140.65284112648183, 184.69729998688717, 164.54136118636268, 163.04832868262014, 129.4550973484127, 137.66677611899672, 138.413292370868, 138.78655049680364, 143.2656480080313, 144.01216425990256, 129.08183922247704, 163.42158680855576, 136.17374361525415, 141.77261550428872, 147.74474551925894, 146.62497114145202, 176.85887934223874, 141.3993573783531, 152.22384303048662, 164.91461931229833, 165.6611355641696, 146.99822926738767, 154.46339178610043, 128.33532297060577, 148.86451989706586, 158.9424892973281, 177.97865372004566, 149.2377780230015, 144.01216425990256, 136.17374361525415, 170.88674932726852, 139.90632487461053, 141.02609925241745, 123.85622545937812, 168.6472005716547, 173.12629808288236, 171.6332655791398, 186.19033249062966, 172.7530399569467, 163.7948449344914, 171.6332655791398, 129.4550973484127, 207.83930379489658, 132.81442048183342, 143.6389061339669, 139.5330667486749, 149.2377780230015, 137.66677611899672, 196.26830189089176, 125.34925796312066, 161.92855430481322, 143.2656480080313, 130.5748717262196, 151.85058490455097, 182.83100935720893, 141.02609925241745, 162.6750705566845, 155.20990803797173, 154.46339178610043, 145.13193863770948, 143.6389061339669, 148.11800364519462, 161.18203805294195, 131.6946461040265, 139.5330667486749, 143.6389061339669, 158.5692311713925, 120.87016045189301, 150.35755240080843, 133.93419485964034, 144.3854223858382, 145.13193863770948, 133.18767860776907, 149.98429427487278, 146.2517130155164, 171.26000745320417, 178.72516997191693, 158.5692311713925, 144.3854223858382, 184.3240418609515, 141.3993573783531, 165.6611355641696, 130.94812985215523, 149.2377780230015, 139.15980862273926, 147.37148739332335, 177.60539559411004, 143.6389061339669, 163.7948449344914, 164.16810306042706, 138.78655049680364, 138.413292370868, 151.47732677861535, 141.3993573783531, 136.17374361525415, 152.59710115642224, 174.6193305866249, 166.03439369010525, 144.01216425990256, 170.5134912013329, 166.03439369010525, 145.13193863770948, 157.07619866764992, 140.27958300054618, 154.46339178610043, 153.71687553422916, 162.6750705566845, 170.14023307539725, 173.49955620881798, 149.61103614893713, 154.0901336601648, 170.88674932726852, 149.2377780230015, 191.7892043796644, 175.3658468384962, 132.81442048183342, 162.6750705566845, 143.2656480080313, 188.4298812462437, 149.98429427487278, 135.80048548931853, 135.42722736338288, 181.71123497940204, 147.74474551925894, 140.65284112648183, 149.61103614893713, 147.37148739332335, 172.7530399569467, 159.68900554919938, 158.5692311713925, 148.11800364519462, 151.1040686526797, 158.19597304545684, 141.77261550428872, 145.13193863770948, 132.06790422996215, 173.12629808288236, 138.04003424493234, 127.21554859279885, 132.81442048183342, 167.90068431978344, 148.86451989706586, 140.65284112648183, 169.39371682352598, 122.7364510815712, 154.0901336601648, 159.31574742326376, 149.61103614893713, 188.4298812462437, 143.6389061339669, 149.98429427487278, 138.78655049680364, 199.62762502431283, 211.19862692831762, 152.9703592823579, 165.28787743823395, 132.06790422996215, 148.86451989706586, 144.01216425990256, 148.4912617711302, 140.27958300054618, 151.1040686526797, 175.73910496443185, 155.58316616390735, 152.9703592823579, 138.78655049680364, 161.18203805294195, 121.24341857782865, 173.12629808288236, 142.14587363022437, 141.77261550428872, 145.50519676364516, 138.04003424493234, 157.44945679358557, 143.6389061339669, 152.59710115642224, 176.11236309036747, 127.96206484467012, 141.77261550428872, 136.17374361525415, 158.5692311713925, 152.59710115642224, 141.3993573783531, 150.73081052674405, 157.44945679358557, 160.06226367513503, 167.90068431978344, 136.5470017411898, 140.65284112648183, 185.81707436469404, 170.88674932726852, 194.77526938714942, 124.22948358531374, 184.3240418609515, 134.6807111115116, 148.11800364519462, 142.51913175616002, 172.3797818310111, 181.71123497940204, 151.85058490455097, 154.46339178610043, 155.20990803797173, 179.84494434972385, 176.85887934223874, 143.6389061339669, 133.18767860776907, 139.5330667486749, 157.8227149195212, 179.09842809785255, 138.413292370868, 155.956424289843, 138.04003424493234, 140.27958300054618, 154.0901336601648, 182.83100935720893, 140.65284112648183, 132.44116235589777, 141.3993573783531, 171.26000745320417, 131.32138797809088, 152.59710115642224, 144.01216425990256, 126.46903234092758, 158.9424892973281, 146.62497114145202, 146.62497114145202, 165.6611355641696, 126.84229046686322]}],\n",
              "                        {\"template\": {\"data\": {\"bar\": [{\"error_x\": {\"color\": \"#2a3f5f\"}, \"error_y\": {\"color\": \"#2a3f5f\"}, \"marker\": {\"line\": {\"color\": \"#E5ECF6\", \"width\": 0.5}}, \"type\": \"bar\"}], \"barpolar\": [{\"marker\": {\"line\": {\"color\": \"#E5ECF6\", \"width\": 0.5}}, \"type\": \"barpolar\"}], \"carpet\": [{\"aaxis\": {\"endlinecolor\": \"#2a3f5f\", \"gridcolor\": \"white\", \"linecolor\": \"white\", \"minorgridcolor\": \"white\", \"startlinecolor\": \"#2a3f5f\"}, \"baxis\": {\"endlinecolor\": \"#2a3f5f\", \"gridcolor\": \"white\", \"linecolor\": \"white\", \"minorgridcolor\": \"white\", \"startlinecolor\": \"#2a3f5f\"}, \"type\": \"carpet\"}], \"choropleth\": [{\"colorbar\": {\"outlinewidth\": 0, \"ticks\": \"\"}, \"type\": \"choropleth\"}], \"contour\": [{\"colorbar\": {\"outlinewidth\": 0, \"ticks\": \"\"}, \"colorscale\": [[0.0, \"#0d0887\"], [0.1111111111111111, \"#46039f\"], [0.2222222222222222, \"#7201a8\"], [0.3333333333333333, \"#9c179e\"], [0.4444444444444444, \"#bd3786\"], [0.5555555555555556, \"#d8576b\"], [0.6666666666666666, \"#ed7953\"], [0.7777777777777778, \"#fb9f3a\"], [0.8888888888888888, \"#fdca26\"], [1.0, \"#f0f921\"]], \"type\": \"contour\"}], \"contourcarpet\": [{\"colorbar\": {\"outlinewidth\": 0, \"ticks\": \"\"}, \"type\": \"contourcarpet\"}], \"heatmap\": [{\"colorbar\": {\"outlinewidth\": 0, \"ticks\": \"\"}, \"colorscale\": [[0.0, \"#0d0887\"], [0.1111111111111111, \"#46039f\"], [0.2222222222222222, \"#7201a8\"], [0.3333333333333333, \"#9c179e\"], [0.4444444444444444, \"#bd3786\"], [0.5555555555555556, \"#d8576b\"], [0.6666666666666666, \"#ed7953\"], [0.7777777777777778, \"#fb9f3a\"], [0.8888888888888888, \"#fdca26\"], [1.0, \"#f0f921\"]], \"type\": \"heatmap\"}], \"heatmapgl\": [{\"colorbar\": {\"outlinewidth\": 0, \"ticks\": \"\"}, \"colorscale\": [[0.0, \"#0d0887\"], [0.1111111111111111, \"#46039f\"], [0.2222222222222222, \"#7201a8\"], [0.3333333333333333, \"#9c179e\"], [0.4444444444444444, \"#bd3786\"], [0.5555555555555556, \"#d8576b\"], [0.6666666666666666, \"#ed7953\"], [0.7777777777777778, \"#fb9f3a\"], [0.8888888888888888, \"#fdca26\"], [1.0, \"#f0f921\"]], \"type\": \"heatmapgl\"}], \"histogram\": [{\"marker\": {\"colorbar\": {\"outlinewidth\": 0, \"ticks\": \"\"}}, \"type\": \"histogram\"}], \"histogram2d\": [{\"colorbar\": {\"outlinewidth\": 0, \"ticks\": \"\"}, \"colorscale\": [[0.0, \"#0d0887\"], [0.1111111111111111, \"#46039f\"], [0.2222222222222222, \"#7201a8\"], [0.3333333333333333, \"#9c179e\"], [0.4444444444444444, \"#bd3786\"], [0.5555555555555556, \"#d8576b\"], [0.6666666666666666, \"#ed7953\"], [0.7777777777777778, \"#fb9f3a\"], [0.8888888888888888, \"#fdca26\"], [1.0, \"#f0f921\"]], \"type\": \"histogram2d\"}], \"histogram2dcontour\": [{\"colorbar\": {\"outlinewidth\": 0, \"ticks\": \"\"}, \"colorscale\": [[0.0, \"#0d0887\"], [0.1111111111111111, \"#46039f\"], [0.2222222222222222, \"#7201a8\"], [0.3333333333333333, \"#9c179e\"], [0.4444444444444444, \"#bd3786\"], [0.5555555555555556, \"#d8576b\"], [0.6666666666666666, \"#ed7953\"], [0.7777777777777778, \"#fb9f3a\"], [0.8888888888888888, \"#fdca26\"], [1.0, \"#f0f921\"]], \"type\": \"histogram2dcontour\"}], \"mesh3d\": [{\"colorbar\": {\"outlinewidth\": 0, \"ticks\": \"\"}, \"type\": \"mesh3d\"}], \"parcoords\": [{\"line\": {\"colorbar\": {\"outlinewidth\": 0, \"ticks\": \"\"}}, \"type\": \"parcoords\"}], \"pie\": [{\"automargin\": true, \"type\": \"pie\"}], \"scatter\": [{\"marker\": {\"colorbar\": {\"outlinewidth\": 0, \"ticks\": \"\"}}, \"type\": \"scatter\"}], \"scatter3d\": [{\"line\": {\"colorbar\": {\"outlinewidth\": 0, \"ticks\": \"\"}}, \"marker\": {\"colorbar\": {\"outlinewidth\": 0, \"ticks\": \"\"}}, \"type\": \"scatter3d\"}], \"scattercarpet\": [{\"marker\": {\"colorbar\": {\"outlinewidth\": 0, \"ticks\": \"\"}}, \"type\": \"scattercarpet\"}], \"scattergeo\": [{\"marker\": {\"colorbar\": {\"outlinewidth\": 0, \"ticks\": \"\"}}, \"type\": \"scattergeo\"}], \"scattergl\": [{\"marker\": {\"colorbar\": {\"outlinewidth\": 0, \"ticks\": \"\"}}, \"type\": \"scattergl\"}], \"scattermapbox\": [{\"marker\": {\"colorbar\": {\"outlinewidth\": 0, \"ticks\": \"\"}}, \"type\": \"scattermapbox\"}], \"scatterpolar\": [{\"marker\": {\"colorbar\": {\"outlinewidth\": 0, \"ticks\": \"\"}}, \"type\": \"scatterpolar\"}], \"scatterpolargl\": [{\"marker\": {\"colorbar\": {\"outlinewidth\": 0, \"ticks\": \"\"}}, \"type\": \"scatterpolargl\"}], \"scatterternary\": [{\"marker\": {\"colorbar\": {\"outlinewidth\": 0, \"ticks\": \"\"}}, \"type\": \"scatterternary\"}], \"surface\": [{\"colorbar\": {\"outlinewidth\": 0, \"ticks\": \"\"}, \"colorscale\": [[0.0, \"#0d0887\"], [0.1111111111111111, \"#46039f\"], [0.2222222222222222, \"#7201a8\"], [0.3333333333333333, \"#9c179e\"], [0.4444444444444444, \"#bd3786\"], [0.5555555555555556, \"#d8576b\"], [0.6666666666666666, \"#ed7953\"], [0.7777777777777778, \"#fb9f3a\"], [0.8888888888888888, \"#fdca26\"], [1.0, \"#f0f921\"]], \"type\": \"surface\"}], \"table\": [{\"cells\": {\"fill\": {\"color\": \"#EBF0F8\"}, \"line\": {\"color\": \"white\"}}, \"header\": {\"fill\": {\"color\": \"#C8D4E3\"}, \"line\": {\"color\": \"white\"}}, \"type\": \"table\"}]}, \"layout\": {\"annotationdefaults\": {\"arrowcolor\": \"#2a3f5f\", \"arrowhead\": 0, \"arrowwidth\": 1}, \"coloraxis\": {\"colorbar\": {\"outlinewidth\": 0, \"ticks\": \"\"}}, \"colorscale\": {\"diverging\": [[0, \"#8e0152\"], [0.1, \"#c51b7d\"], [0.2, \"#de77ae\"], [0.3, \"#f1b6da\"], [0.4, \"#fde0ef\"], [0.5, \"#f7f7f7\"], [0.6, \"#e6f5d0\"], [0.7, \"#b8e186\"], [0.8, \"#7fbc41\"], [0.9, \"#4d9221\"], [1, \"#276419\"]], \"sequential\": [[0.0, \"#0d0887\"], [0.1111111111111111, \"#46039f\"], [0.2222222222222222, \"#7201a8\"], [0.3333333333333333, \"#9c179e\"], [0.4444444444444444, \"#bd3786\"], [0.5555555555555556, \"#d8576b\"], [0.6666666666666666, \"#ed7953\"], [0.7777777777777778, \"#fb9f3a\"], [0.8888888888888888, \"#fdca26\"], [1.0, \"#f0f921\"]], \"sequentialminus\": [[0.0, \"#0d0887\"], [0.1111111111111111, \"#46039f\"], [0.2222222222222222, \"#7201a8\"], [0.3333333333333333, \"#9c179e\"], [0.4444444444444444, \"#bd3786\"], [0.5555555555555556, \"#d8576b\"], [0.6666666666666666, \"#ed7953\"], [0.7777777777777778, \"#fb9f3a\"], [0.8888888888888888, \"#fdca26\"], [1.0, \"#f0f921\"]]}, \"colorway\": [\"#636efa\", \"#EF553B\", \"#00cc96\", \"#ab63fa\", \"#FFA15A\", \"#19d3f3\", \"#FF6692\", \"#B6E880\", \"#FF97FF\", \"#FECB52\"], \"font\": {\"color\": \"#2a3f5f\"}, \"geo\": {\"bgcolor\": \"white\", \"lakecolor\": \"white\", \"landcolor\": \"#E5ECF6\", \"showlakes\": true, \"showland\": true, \"subunitcolor\": \"white\"}, \"hoverlabel\": {\"align\": \"left\"}, \"hovermode\": \"closest\", \"mapbox\": {\"style\": \"light\"}, \"paper_bgcolor\": \"white\", \"plot_bgcolor\": \"#E5ECF6\", \"polar\": {\"angularaxis\": {\"gridcolor\": \"white\", \"linecolor\": \"white\", \"ticks\": \"\"}, \"bgcolor\": \"#E5ECF6\", \"radialaxis\": {\"gridcolor\": \"white\", \"linecolor\": \"white\", \"ticks\": \"\"}}, \"scene\": {\"xaxis\": {\"backgroundcolor\": \"#E5ECF6\", \"gridcolor\": \"white\", \"gridwidth\": 2, \"linecolor\": \"white\", \"showbackground\": true, \"ticks\": \"\", \"zerolinecolor\": \"white\"}, \"yaxis\": {\"backgroundcolor\": \"#E5ECF6\", \"gridcolor\": \"white\", \"gridwidth\": 2, \"linecolor\": \"white\", \"showbackground\": true, \"ticks\": \"\", \"zerolinecolor\": \"white\"}, \"zaxis\": {\"backgroundcolor\": \"#E5ECF6\", \"gridcolor\": \"white\", \"gridwidth\": 2, \"linecolor\": \"white\", \"showbackground\": true, \"ticks\": \"\", \"zerolinecolor\": \"white\"}}, \"shapedefaults\": {\"line\": {\"color\": \"#2a3f5f\"}}, \"ternary\": {\"aaxis\": {\"gridcolor\": \"white\", \"linecolor\": \"white\", \"ticks\": \"\"}, \"baxis\": {\"gridcolor\": \"white\", \"linecolor\": \"white\", \"ticks\": \"\"}, \"bgcolor\": \"#E5ECF6\", \"caxis\": {\"gridcolor\": \"white\", \"linecolor\": \"white\", \"ticks\": \"\"}}, \"title\": {\"x\": 0.05}, \"xaxis\": {\"automargin\": true, \"gridcolor\": \"white\", \"linecolor\": \"white\", \"ticks\": \"\", \"title\": {\"standoff\": 15}, \"zerolinecolor\": \"white\", \"zerolinewidth\": 2}, \"yaxis\": {\"automargin\": true, \"gridcolor\": \"white\", \"linecolor\": \"white\", \"ticks\": \"\", \"title\": {\"standoff\": 15}, \"zerolinecolor\": \"white\", \"zerolinewidth\": 2}}}, \"title\": {\"text\": \"Target vs Prediction\"}},\n",
              "                        {\"responsive\": true}\n",
              "                    ).then(function(){\n",
              "                            \n",
              "var gd = document.getElementById('8e3dfe76-7533-4942-b428-25b22ef0c189');\n",
              "var x = new MutationObserver(function (mutations, observer) {{\n",
              "        var display = window.getComputedStyle(gd).display;\n",
              "        if (!display || display === 'none') {{\n",
              "            console.log([gd, 'removed!']);\n",
              "            Plotly.purge(gd);\n",
              "            observer.disconnect();\n",
              "        }}\n",
              "}});\n",
              "\n",
              "// Listen for the removal of the full notebook cells\n",
              "var notebookContainer = gd.closest('#notebook-container');\n",
              "if (notebookContainer) {{\n",
              "    x.observe(notebookContainer, {childList: true});\n",
              "}}\n",
              "\n",
              "// Listen for the clearing of the current output cell\n",
              "var outputEl = gd.closest('.output');\n",
              "if (outputEl) {{\n",
              "    x.observe(outputEl, {childList: true});\n",
              "}}\n",
              "\n",
              "                        })\n",
              "                };\n",
              "                \n",
              "            </script>\n",
              "        </div>\n",
              "</body>\n",
              "</html>"
            ]
          },
          "metadata": {}
        }
      ]
    },
    {
      "cell_type": "markdown",
      "metadata": {
        "id": "_zsSa40s1xZS"
      },
      "source": [
        "**We've got a nice regression this time!** "
      ]
    }
  ]
}